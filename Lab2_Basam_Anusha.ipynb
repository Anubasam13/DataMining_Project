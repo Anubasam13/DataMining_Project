{
 "cells": [
  {
   "cell_type": "code",
   "execution_count": 1,
   "id": "d8877f70-b6e3-447c-a45c-48219b35fdf7",
   "metadata": {},
   "outputs": [
    {
     "name": "stdout",
     "output_type": "stream",
     "text": [
      "Requirement already satisfied: numpy==2.1.0 in c:\\python312\\lib\\site-packages (2.1.0)\n",
      "Requirement already satisfied: pandas==2.2.2 in c:\\python312\\lib\\site-packages (2.2.2)\n",
      "Requirement already satisfied: numpy>=1.26.0 in c:\\python312\\lib\\site-packages (from pandas==2.2.2) (2.1.0)\n",
      "Requirement already satisfied: python-dateutil>=2.8.2 in c:\\python312\\lib\\site-packages (from pandas==2.2.2) (2.9.0.post0)\n",
      "Requirement already satisfied: pytz>=2020.1 in c:\\python312\\lib\\site-packages (from pandas==2.2.2) (2024.1)\n",
      "Requirement already satisfied: tzdata>=2022.7 in c:\\python312\\lib\\site-packages (from pandas==2.2.2) (2024.1)\n",
      "Requirement already satisfied: six>=1.5 in c:\\python312\\lib\\site-packages (from python-dateutil>=2.8.2->pandas==2.2.2) (1.16.0)\n"
     ]
    }
   ],
   "source": [
    "!pip install --upgrade numpy==2.1.0\n",
    "!pip install --upgrade pandas==2.2.2"
   ]
  },
  {
   "cell_type": "code",
   "execution_count": 2,
   "id": "77660a12-fb3f-4400-881c-709bec540a55",
   "metadata": {},
   "outputs": [
    {
     "name": "stdout",
     "output_type": "stream",
     "text": [
      "Requirement already satisfied: matplotlib in c:\\python312\\lib\\site-packages (3.9.2)\n",
      "Requirement already satisfied: contourpy>=1.0.1 in c:\\python312\\lib\\site-packages (from matplotlib) (1.3.0)\n",
      "Requirement already satisfied: cycler>=0.10 in c:\\python312\\lib\\site-packages (from matplotlib) (0.12.1)\n",
      "Requirement already satisfied: fonttools>=4.22.0 in c:\\python312\\lib\\site-packages (from matplotlib) (4.53.1)\n",
      "Requirement already satisfied: kiwisolver>=1.3.1 in c:\\python312\\lib\\site-packages (from matplotlib) (1.4.7)\n",
      "Requirement already satisfied: numpy>=1.23 in c:\\python312\\lib\\site-packages (from matplotlib) (2.1.0)\n",
      "Requirement already satisfied: packaging>=20.0 in c:\\python312\\lib\\site-packages (from matplotlib) (24.1)\n",
      "Requirement already satisfied: pillow>=8 in c:\\python312\\lib\\site-packages (from matplotlib) (10.4.0)\n",
      "Requirement already satisfied: pyparsing>=2.3.1 in c:\\python312\\lib\\site-packages (from matplotlib) (3.1.4)\n",
      "Requirement already satisfied: python-dateutil>=2.7 in c:\\python312\\lib\\site-packages (from matplotlib) (2.9.0.post0)\n",
      "Requirement already satisfied: six>=1.5 in c:\\python312\\lib\\site-packages (from python-dateutil>=2.7->matplotlib) (1.16.0)\n"
     ]
    }
   ],
   "source": [
    "!pip install --upgrade matplotlib"
   ]
  },
  {
   "cell_type": "code",
   "execution_count": 3,
   "id": "cba6ec78-49cc-44b8-b5b3-9dd21cb00007",
   "metadata": {},
   "outputs": [
    {
     "name": "stdout",
     "output_type": "stream",
     "text": [
      "Requirement already satisfied: scipy in c:\\python312\\lib\\site-packages (1.14.1)\n",
      "Requirement already satisfied: numpy<2.3,>=1.23.5 in c:\\python312\\lib\\site-packages (from scipy) (2.1.0)\n"
     ]
    }
   ],
   "source": [
    "!pip install --upgrade scipy"
   ]
  },
  {
   "cell_type": "code",
   "execution_count": 4,
   "id": "e0cf3a19-d501-404f-a3da-da95c0e3f1bd",
   "metadata": {},
   "outputs": [],
   "source": [
    "import pandas as pd\n",
    "import numpy as np\n",
    "import matplotlib.pyplot as plt"
   ]
  },
  {
   "cell_type": "code",
   "execution_count": 5,
   "id": "d331f54c-0f76-4dbc-8458-57acdc0d6a21",
   "metadata": {},
   "outputs": [
    {
     "data": {
      "text/html": [
       "<div>\n",
       "<style scoped>\n",
       "    .dataframe tbody tr th:only-of-type {\n",
       "        vertical-align: middle;\n",
       "    }\n",
       "\n",
       "    .dataframe tbody tr th {\n",
       "        vertical-align: top;\n",
       "    }\n",
       "\n",
       "    .dataframe thead th {\n",
       "        text-align: right;\n",
       "    }\n",
       "</style>\n",
       "<table border=\"1\" class=\"dataframe\">\n",
       "  <thead>\n",
       "    <tr style=\"text-align: right;\">\n",
       "      <th></th>\n",
       "      <th>Crash ID</th>\n",
       "      <th>$1000 Damage to Any One Person's Property</th>\n",
       "      <th>Adjusted Average Daily Traffic Amount</th>\n",
       "      <th>City</th>\n",
       "      <th>Crash Date</th>\n",
       "      <th>Crash Severity</th>\n",
       "      <th>Crash Time</th>\n",
       "      <th>Date Scene Cleared</th>\n",
       "      <th>Manner of Collision</th>\n",
       "      <th>Road Class</th>\n",
       "      <th>Roadway Type</th>\n",
       "      <th>Speed Limit</th>\n",
       "      <th>Surface Condition</th>\n",
       "      <th>Time Scene Cleared</th>\n",
       "      <th>Weather Condition</th>\n",
       "    </tr>\n",
       "  </thead>\n",
       "  <tbody>\n",
       "    <tr>\n",
       "      <th>0</th>\n",
       "      <td>19468595</td>\n",
       "      <td>Yes</td>\n",
       "      <td>83664</td>\n",
       "      <td>DENTON</td>\n",
       "      <td>2023-04-01</td>\n",
       "      <td>N - NOT INJURED</td>\n",
       "      <td>1559</td>\n",
       "      <td>2023-04-01</td>\n",
       "      <td>SAME DIRECTION - BOTH GOING STRAIGHT-SIDESWIPE</td>\n",
       "      <td>INTERSTATE</td>\n",
       "      <td>4 OR MORE LANES, DIVIDED</td>\n",
       "      <td>50</td>\n",
       "      <td>1 - DRY</td>\n",
       "      <td>1559</td>\n",
       "      <td>1 - CLEAR</td>\n",
       "    </tr>\n",
       "    <tr>\n",
       "      <th>1</th>\n",
       "      <td>19474485</td>\n",
       "      <td>Yes</td>\n",
       "      <td>70137</td>\n",
       "      <td>DENTON</td>\n",
       "      <td>2023-04-01</td>\n",
       "      <td>N - NOT INJURED</td>\n",
       "      <td>1544</td>\n",
       "      <td>2023-04-01</td>\n",
       "      <td>SAME DIRECTION - BOTH GOING STRAIGHT-SIDESWIPE</td>\n",
       "      <td>INTERSTATE</td>\n",
       "      <td>4 OR MORE LANES, DIVIDED</td>\n",
       "      <td>70</td>\n",
       "      <td>1 - DRY</td>\n",
       "      <td>1640</td>\n",
       "      <td>1 - CLEAR</td>\n",
       "    </tr>\n",
       "    <tr>\n",
       "      <th>2</th>\n",
       "      <td>19474684</td>\n",
       "      <td>Yes</td>\n",
       "      <td>No Data</td>\n",
       "      <td>DENTON</td>\n",
       "      <td>2023-04-01</td>\n",
       "      <td>N - NOT INJURED</td>\n",
       "      <td>1930</td>\n",
       "      <td>2023-04-01</td>\n",
       "      <td>ONE MOTOR VEHICLE - GOING STRAIGHT</td>\n",
       "      <td>CITY STREET</td>\n",
       "      <td>No Data</td>\n",
       "      <td>30</td>\n",
       "      <td>1 - DRY</td>\n",
       "      <td>2055</td>\n",
       "      <td>1 - CLEAR</td>\n",
       "    </tr>\n",
       "    <tr>\n",
       "      <th>3</th>\n",
       "      <td>19476604</td>\n",
       "      <td>Yes</td>\n",
       "      <td>27522</td>\n",
       "      <td>DENTON</td>\n",
       "      <td>2023-04-01</td>\n",
       "      <td>N - NOT INJURED</td>\n",
       "      <td>948</td>\n",
       "      <td>2023-04-01</td>\n",
       "      <td>ANGLE - ONE STRAIGHT-ONE RIGHT TURN</td>\n",
       "      <td>US &amp; STATE HIGHWAYS</td>\n",
       "      <td>4 OR MORE LANES, DIVIDED</td>\n",
       "      <td>50</td>\n",
       "      <td>1 - DRY</td>\n",
       "      <td>1026</td>\n",
       "      <td>1 - CLEAR</td>\n",
       "    </tr>\n",
       "    <tr>\n",
       "      <th>4</th>\n",
       "      <td>19476605</td>\n",
       "      <td>Yes</td>\n",
       "      <td>No Data</td>\n",
       "      <td>DENTON</td>\n",
       "      <td>2023-04-01</td>\n",
       "      <td>C - POSSIBLE INJURY</td>\n",
       "      <td>1246</td>\n",
       "      <td>2023-04-01</td>\n",
       "      <td>ONE MOTOR VEHICLE - GOING STRAIGHT</td>\n",
       "      <td>CITY STREET</td>\n",
       "      <td>No Data</td>\n",
       "      <td>40</td>\n",
       "      <td>1 - DRY</td>\n",
       "      <td>1305</td>\n",
       "      <td>1 - CLEAR</td>\n",
       "    </tr>\n",
       "  </tbody>\n",
       "</table>\n",
       "</div>"
      ],
      "text/plain": [
       "   Crash ID $1000 Damage to Any One Person's Property  \\\n",
       "0  19468595                                       Yes   \n",
       "1  19474485                                       Yes   \n",
       "2  19474684                                       Yes   \n",
       "3  19476604                                       Yes   \n",
       "4  19476605                                       Yes   \n",
       "\n",
       "  Adjusted Average Daily Traffic Amount    City  Crash Date  \\\n",
       "0                                 83664  DENTON  2023-04-01   \n",
       "1                                 70137  DENTON  2023-04-01   \n",
       "2                               No Data  DENTON  2023-04-01   \n",
       "3                                 27522  DENTON  2023-04-01   \n",
       "4                               No Data  DENTON  2023-04-01   \n",
       "\n",
       "        Crash Severity  Crash Time Date Scene Cleared  \\\n",
       "0      N - NOT INJURED        1559         2023-04-01   \n",
       "1      N - NOT INJURED        1544         2023-04-01   \n",
       "2      N - NOT INJURED        1930         2023-04-01   \n",
       "3      N - NOT INJURED         948         2023-04-01   \n",
       "4  C - POSSIBLE INJURY        1246         2023-04-01   \n",
       "\n",
       "                              Manner of Collision           Road Class  \\\n",
       "0  SAME DIRECTION - BOTH GOING STRAIGHT-SIDESWIPE           INTERSTATE   \n",
       "1  SAME DIRECTION - BOTH GOING STRAIGHT-SIDESWIPE           INTERSTATE   \n",
       "2              ONE MOTOR VEHICLE - GOING STRAIGHT          CITY STREET   \n",
       "3             ANGLE - ONE STRAIGHT-ONE RIGHT TURN  US & STATE HIGHWAYS   \n",
       "4              ONE MOTOR VEHICLE - GOING STRAIGHT          CITY STREET   \n",
       "\n",
       "               Roadway Type  Speed Limit Surface Condition  \\\n",
       "0  4 OR MORE LANES, DIVIDED           50           1 - DRY   \n",
       "1  4 OR MORE LANES, DIVIDED           70           1 - DRY   \n",
       "2                   No Data           30           1 - DRY   \n",
       "3  4 OR MORE LANES, DIVIDED           50           1 - DRY   \n",
       "4                   No Data           40           1 - DRY   \n",
       "\n",
       "   Time Scene Cleared Weather Condition  \n",
       "0                1559         1 - CLEAR  \n",
       "1                1640         1 - CLEAR  \n",
       "2                2055         1 - CLEAR  \n",
       "3                1026         1 - CLEAR  \n",
       "4                1305         1 - CLEAR  "
      ]
     },
     "execution_count": 5,
     "metadata": {},
     "output_type": "execute_result"
    }
   ],
   "source": [
    "df = pd.read_csv(\"Denton Accidents.csv\",  skiprows=12)\n",
    "df.head()"
   ]
  },
  {
   "cell_type": "code",
   "execution_count": 6,
   "id": "d33b2ee1-7209-47ca-9a28-9b233d8f43ad",
   "metadata": {},
   "outputs": [
    {
     "data": {
      "text/html": [
       "<div>\n",
       "<style scoped>\n",
       "    .dataframe tbody tr th:only-of-type {\n",
       "        vertical-align: middle;\n",
       "    }\n",
       "\n",
       "    .dataframe tbody tr th {\n",
       "        vertical-align: top;\n",
       "    }\n",
       "\n",
       "    .dataframe thead th {\n",
       "        text-align: right;\n",
       "    }\n",
       "</style>\n",
       "<table border=\"1\" class=\"dataframe\">\n",
       "  <thead>\n",
       "    <tr style=\"text-align: right;\">\n",
       "      <th></th>\n",
       "      <th>Crash ID</th>\n",
       "      <th>$1000 Damage to Any One Person's Property</th>\n",
       "      <th>Adjusted Average Daily Traffic Amount</th>\n",
       "      <th>City</th>\n",
       "      <th>Crash Date</th>\n",
       "      <th>Crash Severity</th>\n",
       "      <th>Crash Time</th>\n",
       "      <th>Date Scene Cleared</th>\n",
       "      <th>Manner of Collision</th>\n",
       "      <th>Road Class</th>\n",
       "      <th>Roadway Type</th>\n",
       "      <th>Speed Limit</th>\n",
       "      <th>Surface Condition</th>\n",
       "      <th>Time Scene Cleared</th>\n",
       "      <th>Weather Condition</th>\n",
       "    </tr>\n",
       "  </thead>\n",
       "  <tbody>\n",
       "    <tr>\n",
       "      <th>3603</th>\n",
       "      <td>20318138</td>\n",
       "      <td>Yes</td>\n",
       "      <td>84501</td>\n",
       "      <td>DENTON</td>\n",
       "      <td>2024-07-30</td>\n",
       "      <td>N - NOT INJURED</td>\n",
       "      <td>1630</td>\n",
       "      <td>2024-07-30</td>\n",
       "      <td>SAME DIRECTION - BOTH GOING STRAIGHT-REAR END</td>\n",
       "      <td>INTERSTATE</td>\n",
       "      <td>4 OR MORE LANES, DIVIDED</td>\n",
       "      <td>70</td>\n",
       "      <td>1 - DRY</td>\n",
       "      <td>1830</td>\n",
       "      <td>1 - CLEAR</td>\n",
       "    </tr>\n",
       "    <tr>\n",
       "      <th>3604</th>\n",
       "      <td>20323026</td>\n",
       "      <td>Yes</td>\n",
       "      <td>No Data</td>\n",
       "      <td>DENTON</td>\n",
       "      <td>2024-07-30</td>\n",
       "      <td>N - NOT INJURED</td>\n",
       "      <td>1254</td>\n",
       "      <td>2024-07-30</td>\n",
       "      <td>ANGLE - ONE RIGHT TURN-ONE LEFT TURN</td>\n",
       "      <td>CITY STREET</td>\n",
       "      <td>No Data</td>\n",
       "      <td>30</td>\n",
       "      <td>1 - DRY</td>\n",
       "      <td>1349</td>\n",
       "      <td>1 - CLEAR</td>\n",
       "    </tr>\n",
       "    <tr>\n",
       "      <th>3605</th>\n",
       "      <td>20313710</td>\n",
       "      <td>Yes</td>\n",
       "      <td>14763</td>\n",
       "      <td>DENTON</td>\n",
       "      <td>2024-07-31</td>\n",
       "      <td>N - NOT INJURED</td>\n",
       "      <td>1205</td>\n",
       "      <td>2024-07-31</td>\n",
       "      <td>SAME DIRECTION - ONE STRAIGHT-ONE STOPPED</td>\n",
       "      <td>CITY STREET</td>\n",
       "      <td>4 OR MORE LANES, UNDIVIDED</td>\n",
       "      <td>30</td>\n",
       "      <td>1 - DRY</td>\n",
       "      <td>1205</td>\n",
       "      <td>1 - CLEAR</td>\n",
       "    </tr>\n",
       "    <tr>\n",
       "      <th>3606</th>\n",
       "      <td>20313725</td>\n",
       "      <td>Yes</td>\n",
       "      <td>No Data</td>\n",
       "      <td>DENTON</td>\n",
       "      <td>2024-07-31</td>\n",
       "      <td>N - NOT INJURED</td>\n",
       "      <td>1633</td>\n",
       "      <td>2024-07-31</td>\n",
       "      <td>ANGLE - ONE STRAIGHT-ONE LEFT TURN</td>\n",
       "      <td>CITY STREET</td>\n",
       "      <td>No Data</td>\n",
       "      <td>30</td>\n",
       "      <td>1 - DRY</td>\n",
       "      <td>1700</td>\n",
       "      <td>1 - CLEAR</td>\n",
       "    </tr>\n",
       "    <tr>\n",
       "      <th>3607</th>\n",
       "      <td>20316856</td>\n",
       "      <td>Yes</td>\n",
       "      <td>84501</td>\n",
       "      <td>DENTON</td>\n",
       "      <td>2024-07-31</td>\n",
       "      <td>N - NOT INJURED</td>\n",
       "      <td>1745</td>\n",
       "      <td>2024-07-31</td>\n",
       "      <td>ONE MOTOR VEHICLE - GOING STRAIGHT</td>\n",
       "      <td>INTERSTATE</td>\n",
       "      <td>4 OR MORE LANES, DIVIDED</td>\n",
       "      <td>30</td>\n",
       "      <td>1 - DRY</td>\n",
       "      <td>1827</td>\n",
       "      <td>1 - CLEAR</td>\n",
       "    </tr>\n",
       "  </tbody>\n",
       "</table>\n",
       "</div>"
      ],
      "text/plain": [
       "      Crash ID $1000 Damage to Any One Person's Property  \\\n",
       "3603  20318138                                       Yes   \n",
       "3604  20323026                                       Yes   \n",
       "3605  20313710                                       Yes   \n",
       "3606  20313725                                       Yes   \n",
       "3607  20316856                                       Yes   \n",
       "\n",
       "     Adjusted Average Daily Traffic Amount    City  Crash Date  \\\n",
       "3603                                 84501  DENTON  2024-07-30   \n",
       "3604                               No Data  DENTON  2024-07-30   \n",
       "3605                                 14763  DENTON  2024-07-31   \n",
       "3606                               No Data  DENTON  2024-07-31   \n",
       "3607                                 84501  DENTON  2024-07-31   \n",
       "\n",
       "       Crash Severity  Crash Time Date Scene Cleared  \\\n",
       "3603  N - NOT INJURED        1630         2024-07-30   \n",
       "3604  N - NOT INJURED        1254         2024-07-30   \n",
       "3605  N - NOT INJURED        1205         2024-07-31   \n",
       "3606  N - NOT INJURED        1633         2024-07-31   \n",
       "3607  N - NOT INJURED        1745         2024-07-31   \n",
       "\n",
       "                                Manner of Collision   Road Class  \\\n",
       "3603  SAME DIRECTION - BOTH GOING STRAIGHT-REAR END   INTERSTATE   \n",
       "3604           ANGLE - ONE RIGHT TURN-ONE LEFT TURN  CITY STREET   \n",
       "3605      SAME DIRECTION - ONE STRAIGHT-ONE STOPPED  CITY STREET   \n",
       "3606             ANGLE - ONE STRAIGHT-ONE LEFT TURN  CITY STREET   \n",
       "3607             ONE MOTOR VEHICLE - GOING STRAIGHT   INTERSTATE   \n",
       "\n",
       "                    Roadway Type  Speed Limit Surface Condition  \\\n",
       "3603    4 OR MORE LANES, DIVIDED           70           1 - DRY   \n",
       "3604                     No Data           30           1 - DRY   \n",
       "3605  4 OR MORE LANES, UNDIVIDED           30           1 - DRY   \n",
       "3606                     No Data           30           1 - DRY   \n",
       "3607    4 OR MORE LANES, DIVIDED           30           1 - DRY   \n",
       "\n",
       "      Time Scene Cleared Weather Condition  \n",
       "3603                1830         1 - CLEAR  \n",
       "3604                1349         1 - CLEAR  \n",
       "3605                1205         1 - CLEAR  \n",
       "3606                1700         1 - CLEAR  \n",
       "3607                1827         1 - CLEAR  "
      ]
     },
     "execution_count": 6,
     "metadata": {},
     "output_type": "execute_result"
    }
   ],
   "source": [
    "df.tail()"
   ]
  },
  {
   "cell_type": "code",
   "execution_count": 7,
   "id": "987536d2-134b-45ab-aea0-86fc3664dde6",
   "metadata": {},
   "outputs": [
    {
     "name": "stdout",
     "output_type": "stream",
     "text": [
      "<class 'pandas.core.frame.DataFrame'>\n",
      "RangeIndex: 3608 entries, 0 to 3607\n",
      "Data columns (total 15 columns):\n",
      " #   Column                                     Non-Null Count  Dtype \n",
      "---  ------                                     --------------  ----- \n",
      " 0   Crash ID                                   3608 non-null   int64 \n",
      " 1   $1000 Damage to Any One Person's Property  3608 non-null   object\n",
      " 2   Adjusted Average Daily Traffic Amount      3608 non-null   object\n",
      " 3   City                                       3608 non-null   object\n",
      " 4   Crash Date                                 3608 non-null   object\n",
      " 5   Crash Severity                             3608 non-null   object\n",
      " 6   Crash Time                                 3608 non-null   int64 \n",
      " 7   Date Scene Cleared                         3608 non-null   object\n",
      " 8   Manner of Collision                        3608 non-null   object\n",
      " 9   Road Class                                 3608 non-null   object\n",
      " 10  Roadway Type                               3608 non-null   object\n",
      " 11  Speed Limit                                3608 non-null   int64 \n",
      " 12  Surface Condition                          3608 non-null   object\n",
      " 13  Time Scene Cleared                         3608 non-null   int64 \n",
      " 14  Weather Condition                          3608 non-null   object\n",
      "dtypes: int64(4), object(11)\n",
      "memory usage: 422.9+ KB\n"
     ]
    }
   ],
   "source": [
    "df.info()"
   ]
  },
  {
   "cell_type": "code",
   "execution_count": 8,
   "id": "72362933-56dd-458e-8c97-c7ecf8aab60c",
   "metadata": {
    "scrolled": true
   },
   "outputs": [
    {
     "data": {
      "text/html": [
       "<div>\n",
       "<style scoped>\n",
       "    .dataframe tbody tr th:only-of-type {\n",
       "        vertical-align: middle;\n",
       "    }\n",
       "\n",
       "    .dataframe tbody tr th {\n",
       "        vertical-align: top;\n",
       "    }\n",
       "\n",
       "    .dataframe thead th {\n",
       "        text-align: right;\n",
       "    }\n",
       "</style>\n",
       "<table border=\"1\" class=\"dataframe\">\n",
       "  <thead>\n",
       "    <tr style=\"text-align: right;\">\n",
       "      <th></th>\n",
       "      <th>Crash ID</th>\n",
       "      <th>Crash Time</th>\n",
       "      <th>Speed Limit</th>\n",
       "      <th>Time Scene Cleared</th>\n",
       "    </tr>\n",
       "  </thead>\n",
       "  <tbody>\n",
       "    <tr>\n",
       "      <th>count</th>\n",
       "      <td>3.608000e+03</td>\n",
       "      <td>3608.000000</td>\n",
       "      <td>3608.000000</td>\n",
       "      <td>3608.000000</td>\n",
       "    </tr>\n",
       "    <tr>\n",
       "      <th>mean</th>\n",
       "      <td>1.988672e+07</td>\n",
       "      <td>1363.786031</td>\n",
       "      <td>43.718681</td>\n",
       "      <td>1420.761086</td>\n",
       "    </tr>\n",
       "    <tr>\n",
       "      <th>std</th>\n",
       "      <td>2.420144e+05</td>\n",
       "      <td>527.677247</td>\n",
       "      <td>17.809324</td>\n",
       "      <td>539.006213</td>\n",
       "    </tr>\n",
       "    <tr>\n",
       "      <th>min</th>\n",
       "      <td>1.946860e+07</td>\n",
       "      <td>0.000000</td>\n",
       "      <td>-1.000000</td>\n",
       "      <td>3.000000</td>\n",
       "    </tr>\n",
       "    <tr>\n",
       "      <th>25%</th>\n",
       "      <td>1.968752e+07</td>\n",
       "      <td>1018.750000</td>\n",
       "      <td>30.000000</td>\n",
       "      <td>1056.000000</td>\n",
       "    </tr>\n",
       "    <tr>\n",
       "      <th>50%</th>\n",
       "      <td>1.987500e+07</td>\n",
       "      <td>1435.000000</td>\n",
       "      <td>45.000000</td>\n",
       "      <td>1511.000000</td>\n",
       "    </tr>\n",
       "    <tr>\n",
       "      <th>75%</th>\n",
       "      <td>2.009872e+07</td>\n",
       "      <td>1730.000000</td>\n",
       "      <td>55.000000</td>\n",
       "      <td>1817.000000</td>\n",
       "    </tr>\n",
       "    <tr>\n",
       "      <th>max</th>\n",
       "      <td>2.032641e+07</td>\n",
       "      <td>2359.000000</td>\n",
       "      <td>75.000000</td>\n",
       "      <td>2359.000000</td>\n",
       "    </tr>\n",
       "  </tbody>\n",
       "</table>\n",
       "</div>"
      ],
      "text/plain": [
       "           Crash ID   Crash Time  Speed Limit  Time Scene Cleared\n",
       "count  3.608000e+03  3608.000000  3608.000000         3608.000000\n",
       "mean   1.988672e+07  1363.786031    43.718681         1420.761086\n",
       "std    2.420144e+05   527.677247    17.809324          539.006213\n",
       "min    1.946860e+07     0.000000    -1.000000            3.000000\n",
       "25%    1.968752e+07  1018.750000    30.000000         1056.000000\n",
       "50%    1.987500e+07  1435.000000    45.000000         1511.000000\n",
       "75%    2.009872e+07  1730.000000    55.000000         1817.000000\n",
       "max    2.032641e+07  2359.000000    75.000000         2359.000000"
      ]
     },
     "execution_count": 8,
     "metadata": {},
     "output_type": "execute_result"
    }
   ],
   "source": [
    "df.describe()"
   ]
  },
  {
   "cell_type": "markdown",
   "id": "4b4457e2-4c64-485f-b5a1-8748a80fbee1",
   "metadata": {},
   "source": [
    "``` LAB 1 ```"
   ]
  },
  {
   "cell_type": "markdown",
   "id": "e050e9e9-74da-4f3f-b1fa-0ad8a00b6df8",
   "metadata": {},
   "source": [
    "# QUESTION 1\n",
    "What is the shape of this data frame?"
   ]
  },
  {
   "cell_type": "code",
   "execution_count": 9,
   "id": "7251176d-6365-4871-a390-b67fbd162884",
   "metadata": {},
   "outputs": [
    {
     "name": "stdout",
     "output_type": "stream",
     "text": [
      "Shape of the data frame is:(3608, 15)\n"
     ]
    }
   ],
   "source": [
    "# Shape of the data frame\n",
    "shape = df.shape\n",
    "\n",
    "# Output\n",
    "print(f\"Shape of the data frame is:{shape}\")"
   ]
  },
  {
   "cell_type": "markdown",
   "id": "0a622479-1f68-4d18-b069-98a5714dc76a",
   "metadata": {},
   "source": [
    "----"
   ]
  },
  {
   "cell_type": "markdown",
   "id": "65e78a4f-7850-4790-9102-0a384d9ba74a",
   "metadata": {},
   "source": [
    "# QUESTION 2\n",
    "How many missing values in the form of np.nan exist in this dataframe?"
   ]
  },
  {
   "cell_type": "code",
   "execution_count": 10,
   "id": "2af4f57d-5216-4e89-839c-6279be4514cc",
   "metadata": {},
   "outputs": [
    {
     "data": {
      "text/html": [
       "<div>\n",
       "<style scoped>\n",
       "    .dataframe tbody tr th:only-of-type {\n",
       "        vertical-align: middle;\n",
       "    }\n",
       "\n",
       "    .dataframe tbody tr th {\n",
       "        vertical-align: top;\n",
       "    }\n",
       "\n",
       "    .dataframe thead th {\n",
       "        text-align: right;\n",
       "    }\n",
       "</style>\n",
       "<table border=\"1\" class=\"dataframe\">\n",
       "  <thead>\n",
       "    <tr style=\"text-align: right;\">\n",
       "      <th></th>\n",
       "      <th>Crash ID</th>\n",
       "      <th>$1000 Damage to Any One Person's Property</th>\n",
       "      <th>Adjusted Average Daily Traffic Amount</th>\n",
       "      <th>City</th>\n",
       "      <th>Crash Date</th>\n",
       "      <th>Crash Severity</th>\n",
       "      <th>Crash Time</th>\n",
       "      <th>Date Scene Cleared</th>\n",
       "      <th>Manner of Collision</th>\n",
       "      <th>Road Class</th>\n",
       "      <th>Roadway Type</th>\n",
       "      <th>Speed Limit</th>\n",
       "      <th>Surface Condition</th>\n",
       "      <th>Time Scene Cleared</th>\n",
       "      <th>Weather Condition</th>\n",
       "    </tr>\n",
       "  </thead>\n",
       "  <tbody>\n",
       "    <tr>\n",
       "      <th>0</th>\n",
       "      <td>False</td>\n",
       "      <td>False</td>\n",
       "      <td>False</td>\n",
       "      <td>False</td>\n",
       "      <td>False</td>\n",
       "      <td>False</td>\n",
       "      <td>False</td>\n",
       "      <td>False</td>\n",
       "      <td>False</td>\n",
       "      <td>False</td>\n",
       "      <td>False</td>\n",
       "      <td>False</td>\n",
       "      <td>False</td>\n",
       "      <td>False</td>\n",
       "      <td>False</td>\n",
       "    </tr>\n",
       "    <tr>\n",
       "      <th>1</th>\n",
       "      <td>False</td>\n",
       "      <td>False</td>\n",
       "      <td>False</td>\n",
       "      <td>False</td>\n",
       "      <td>False</td>\n",
       "      <td>False</td>\n",
       "      <td>False</td>\n",
       "      <td>False</td>\n",
       "      <td>False</td>\n",
       "      <td>False</td>\n",
       "      <td>False</td>\n",
       "      <td>False</td>\n",
       "      <td>False</td>\n",
       "      <td>False</td>\n",
       "      <td>False</td>\n",
       "    </tr>\n",
       "    <tr>\n",
       "      <th>2</th>\n",
       "      <td>False</td>\n",
       "      <td>False</td>\n",
       "      <td>False</td>\n",
       "      <td>False</td>\n",
       "      <td>False</td>\n",
       "      <td>False</td>\n",
       "      <td>False</td>\n",
       "      <td>False</td>\n",
       "      <td>False</td>\n",
       "      <td>False</td>\n",
       "      <td>False</td>\n",
       "      <td>False</td>\n",
       "      <td>False</td>\n",
       "      <td>False</td>\n",
       "      <td>False</td>\n",
       "    </tr>\n",
       "    <tr>\n",
       "      <th>3</th>\n",
       "      <td>False</td>\n",
       "      <td>False</td>\n",
       "      <td>False</td>\n",
       "      <td>False</td>\n",
       "      <td>False</td>\n",
       "      <td>False</td>\n",
       "      <td>False</td>\n",
       "      <td>False</td>\n",
       "      <td>False</td>\n",
       "      <td>False</td>\n",
       "      <td>False</td>\n",
       "      <td>False</td>\n",
       "      <td>False</td>\n",
       "      <td>False</td>\n",
       "      <td>False</td>\n",
       "    </tr>\n",
       "    <tr>\n",
       "      <th>4</th>\n",
       "      <td>False</td>\n",
       "      <td>False</td>\n",
       "      <td>False</td>\n",
       "      <td>False</td>\n",
       "      <td>False</td>\n",
       "      <td>False</td>\n",
       "      <td>False</td>\n",
       "      <td>False</td>\n",
       "      <td>False</td>\n",
       "      <td>False</td>\n",
       "      <td>False</td>\n",
       "      <td>False</td>\n",
       "      <td>False</td>\n",
       "      <td>False</td>\n",
       "      <td>False</td>\n",
       "    </tr>\n",
       "    <tr>\n",
       "      <th>...</th>\n",
       "      <td>...</td>\n",
       "      <td>...</td>\n",
       "      <td>...</td>\n",
       "      <td>...</td>\n",
       "      <td>...</td>\n",
       "      <td>...</td>\n",
       "      <td>...</td>\n",
       "      <td>...</td>\n",
       "      <td>...</td>\n",
       "      <td>...</td>\n",
       "      <td>...</td>\n",
       "      <td>...</td>\n",
       "      <td>...</td>\n",
       "      <td>...</td>\n",
       "      <td>...</td>\n",
       "    </tr>\n",
       "    <tr>\n",
       "      <th>3603</th>\n",
       "      <td>False</td>\n",
       "      <td>False</td>\n",
       "      <td>False</td>\n",
       "      <td>False</td>\n",
       "      <td>False</td>\n",
       "      <td>False</td>\n",
       "      <td>False</td>\n",
       "      <td>False</td>\n",
       "      <td>False</td>\n",
       "      <td>False</td>\n",
       "      <td>False</td>\n",
       "      <td>False</td>\n",
       "      <td>False</td>\n",
       "      <td>False</td>\n",
       "      <td>False</td>\n",
       "    </tr>\n",
       "    <tr>\n",
       "      <th>3604</th>\n",
       "      <td>False</td>\n",
       "      <td>False</td>\n",
       "      <td>False</td>\n",
       "      <td>False</td>\n",
       "      <td>False</td>\n",
       "      <td>False</td>\n",
       "      <td>False</td>\n",
       "      <td>False</td>\n",
       "      <td>False</td>\n",
       "      <td>False</td>\n",
       "      <td>False</td>\n",
       "      <td>False</td>\n",
       "      <td>False</td>\n",
       "      <td>False</td>\n",
       "      <td>False</td>\n",
       "    </tr>\n",
       "    <tr>\n",
       "      <th>3605</th>\n",
       "      <td>False</td>\n",
       "      <td>False</td>\n",
       "      <td>False</td>\n",
       "      <td>False</td>\n",
       "      <td>False</td>\n",
       "      <td>False</td>\n",
       "      <td>False</td>\n",
       "      <td>False</td>\n",
       "      <td>False</td>\n",
       "      <td>False</td>\n",
       "      <td>False</td>\n",
       "      <td>False</td>\n",
       "      <td>False</td>\n",
       "      <td>False</td>\n",
       "      <td>False</td>\n",
       "    </tr>\n",
       "    <tr>\n",
       "      <th>3606</th>\n",
       "      <td>False</td>\n",
       "      <td>False</td>\n",
       "      <td>False</td>\n",
       "      <td>False</td>\n",
       "      <td>False</td>\n",
       "      <td>False</td>\n",
       "      <td>False</td>\n",
       "      <td>False</td>\n",
       "      <td>False</td>\n",
       "      <td>False</td>\n",
       "      <td>False</td>\n",
       "      <td>False</td>\n",
       "      <td>False</td>\n",
       "      <td>False</td>\n",
       "      <td>False</td>\n",
       "    </tr>\n",
       "    <tr>\n",
       "      <th>3607</th>\n",
       "      <td>False</td>\n",
       "      <td>False</td>\n",
       "      <td>False</td>\n",
       "      <td>False</td>\n",
       "      <td>False</td>\n",
       "      <td>False</td>\n",
       "      <td>False</td>\n",
       "      <td>False</td>\n",
       "      <td>False</td>\n",
       "      <td>False</td>\n",
       "      <td>False</td>\n",
       "      <td>False</td>\n",
       "      <td>False</td>\n",
       "      <td>False</td>\n",
       "      <td>False</td>\n",
       "    </tr>\n",
       "  </tbody>\n",
       "</table>\n",
       "<p>3608 rows × 15 columns</p>\n",
       "</div>"
      ],
      "text/plain": [
       "      Crash ID  $1000 Damage to Any One Person's Property  \\\n",
       "0        False                                      False   \n",
       "1        False                                      False   \n",
       "2        False                                      False   \n",
       "3        False                                      False   \n",
       "4        False                                      False   \n",
       "...        ...                                        ...   \n",
       "3603     False                                      False   \n",
       "3604     False                                      False   \n",
       "3605     False                                      False   \n",
       "3606     False                                      False   \n",
       "3607     False                                      False   \n",
       "\n",
       "      Adjusted Average Daily Traffic Amount   City  Crash Date  \\\n",
       "0                                     False  False       False   \n",
       "1                                     False  False       False   \n",
       "2                                     False  False       False   \n",
       "3                                     False  False       False   \n",
       "4                                     False  False       False   \n",
       "...                                     ...    ...         ...   \n",
       "3603                                  False  False       False   \n",
       "3604                                  False  False       False   \n",
       "3605                                  False  False       False   \n",
       "3606                                  False  False       False   \n",
       "3607                                  False  False       False   \n",
       "\n",
       "      Crash Severity  Crash Time  Date Scene Cleared  Manner of Collision  \\\n",
       "0              False       False               False                False   \n",
       "1              False       False               False                False   \n",
       "2              False       False               False                False   \n",
       "3              False       False               False                False   \n",
       "4              False       False               False                False   \n",
       "...              ...         ...                 ...                  ...   \n",
       "3603           False       False               False                False   \n",
       "3604           False       False               False                False   \n",
       "3605           False       False               False                False   \n",
       "3606           False       False               False                False   \n",
       "3607           False       False               False                False   \n",
       "\n",
       "      Road Class  Roadway Type  Speed Limit  Surface Condition  \\\n",
       "0          False         False        False              False   \n",
       "1          False         False        False              False   \n",
       "2          False         False        False              False   \n",
       "3          False         False        False              False   \n",
       "4          False         False        False              False   \n",
       "...          ...           ...          ...                ...   \n",
       "3603       False         False        False              False   \n",
       "3604       False         False        False              False   \n",
       "3605       False         False        False              False   \n",
       "3606       False         False        False              False   \n",
       "3607       False         False        False              False   \n",
       "\n",
       "      Time Scene Cleared  Weather Condition  \n",
       "0                  False              False  \n",
       "1                  False              False  \n",
       "2                  False              False  \n",
       "3                  False              False  \n",
       "4                  False              False  \n",
       "...                  ...                ...  \n",
       "3603               False              False  \n",
       "3604               False              False  \n",
       "3605               False              False  \n",
       "3606               False              False  \n",
       "3607               False              False  \n",
       "\n",
       "[3608 rows x 15 columns]"
      ]
     },
     "execution_count": 10,
     "metadata": {},
     "output_type": "execute_result"
    }
   ],
   "source": [
    "# Missing values in np.nan form\n",
    "df.isna()"
   ]
  },
  {
   "cell_type": "code",
   "execution_count": 11,
   "id": "3d9c66d6-90c7-4fce-949a-b65610109b50",
   "metadata": {
    "scrolled": true
   },
   "outputs": [
    {
     "data": {
      "text/plain": [
       "Crash ID                                     0\n",
       "$1000 Damage to Any One Person's Property    0\n",
       "Adjusted Average Daily Traffic Amount        0\n",
       "City                                         0\n",
       "Crash Date                                   0\n",
       "Crash Severity                               0\n",
       "Crash Time                                   0\n",
       "Date Scene Cleared                           0\n",
       "Manner of Collision                          0\n",
       "Road Class                                   0\n",
       "Roadway Type                                 0\n",
       "Speed Limit                                  0\n",
       "Surface Condition                            0\n",
       "Time Scene Cleared                           0\n",
       "Weather Condition                            0\n",
       "dtype: int64"
      ]
     },
     "execution_count": 11,
     "metadata": {},
     "output_type": "execute_result"
    }
   ],
   "source": [
    "# Sum of missing values in np.nan form\n",
    "df.isna().sum()"
   ]
  },
  {
   "cell_type": "markdown",
   "id": "cc1f31d2-a5b1-4171-ab0d-b4407f246e44",
   "metadata": {},
   "source": [
    "----"
   ]
  },
  {
   "cell_type": "markdown",
   "id": "b0383d1a-8158-4a5e-be30-d97c20caa137",
   "metadata": {},
   "source": [
    "# QUESTION 3\n",
    "How many unique values are in the Crash ID column? Make this column the index of the data frame."
   ]
  },
  {
   "cell_type": "code",
   "execution_count": 12,
   "id": "352aa774-499d-4b20-8a60-3bcb0caf5d0a",
   "metadata": {},
   "outputs": [
    {
     "data": {
      "text/plain": [
       "0       19468595\n",
       "1       19474485\n",
       "2       19474684\n",
       "3       19476604\n",
       "4       19476605\n",
       "          ...   \n",
       "3603    20318138\n",
       "3604    20323026\n",
       "3605    20313710\n",
       "3606    20313725\n",
       "3607    20316856\n",
       "Name: Crash ID, Length: 3608, dtype: int64"
      ]
     },
     "execution_count": 12,
     "metadata": {},
     "output_type": "execute_result"
    }
   ],
   "source": [
    "df[\"Crash ID\"] = df[\"Crash ID\"].unique()\n",
    "df[\"Crash ID\"]"
   ]
  },
  {
   "cell_type": "code",
   "execution_count": 13,
   "id": "ace0c4d7-f2d1-4036-94c0-14aafb963a3e",
   "metadata": {},
   "outputs": [
    {
     "data": {
      "text/plain": [
       "Crash ID\n",
       "20316856    1\n",
       "19468595    1\n",
       "19474485    1\n",
       "19474684    1\n",
       "19476604    1\n",
       "           ..\n",
       "19479014    1\n",
       "19479013    1\n",
       "19477499    1\n",
       "19477450    1\n",
       "19487709    1\n",
       "Name: count, Length: 3608, dtype: int64"
      ]
     },
     "execution_count": 13,
     "metadata": {},
     "output_type": "execute_result"
    }
   ],
   "source": [
    "df[\"Crash ID\"].value_counts()"
   ]
  },
  {
   "cell_type": "code",
   "execution_count": 14,
   "id": "0d79a390-0990-495c-82b9-40052ee50390",
   "metadata": {},
   "outputs": [
    {
     "data": {
      "text/html": [
       "<div>\n",
       "<style scoped>\n",
       "    .dataframe tbody tr th:only-of-type {\n",
       "        vertical-align: middle;\n",
       "    }\n",
       "\n",
       "    .dataframe tbody tr th {\n",
       "        vertical-align: top;\n",
       "    }\n",
       "\n",
       "    .dataframe thead th {\n",
       "        text-align: right;\n",
       "    }\n",
       "</style>\n",
       "<table border=\"1\" class=\"dataframe\">\n",
       "  <thead>\n",
       "    <tr style=\"text-align: right;\">\n",
       "      <th></th>\n",
       "      <th>$1000 Damage to Any One Person's Property</th>\n",
       "      <th>Adjusted Average Daily Traffic Amount</th>\n",
       "      <th>City</th>\n",
       "      <th>Crash Date</th>\n",
       "      <th>Crash Severity</th>\n",
       "      <th>Crash Time</th>\n",
       "      <th>Date Scene Cleared</th>\n",
       "      <th>Manner of Collision</th>\n",
       "      <th>Road Class</th>\n",
       "      <th>Roadway Type</th>\n",
       "      <th>Speed Limit</th>\n",
       "      <th>Surface Condition</th>\n",
       "      <th>Time Scene Cleared</th>\n",
       "      <th>Weather Condition</th>\n",
       "    </tr>\n",
       "    <tr>\n",
       "      <th>Crash ID</th>\n",
       "      <th></th>\n",
       "      <th></th>\n",
       "      <th></th>\n",
       "      <th></th>\n",
       "      <th></th>\n",
       "      <th></th>\n",
       "      <th></th>\n",
       "      <th></th>\n",
       "      <th></th>\n",
       "      <th></th>\n",
       "      <th></th>\n",
       "      <th></th>\n",
       "      <th></th>\n",
       "      <th></th>\n",
       "    </tr>\n",
       "  </thead>\n",
       "  <tbody>\n",
       "    <tr>\n",
       "      <th>19468595</th>\n",
       "      <td>Yes</td>\n",
       "      <td>83664</td>\n",
       "      <td>DENTON</td>\n",
       "      <td>2023-04-01</td>\n",
       "      <td>N - NOT INJURED</td>\n",
       "      <td>1559</td>\n",
       "      <td>2023-04-01</td>\n",
       "      <td>SAME DIRECTION - BOTH GOING STRAIGHT-SIDESWIPE</td>\n",
       "      <td>INTERSTATE</td>\n",
       "      <td>4 OR MORE LANES, DIVIDED</td>\n",
       "      <td>50</td>\n",
       "      <td>1 - DRY</td>\n",
       "      <td>1559</td>\n",
       "      <td>1 - CLEAR</td>\n",
       "    </tr>\n",
       "    <tr>\n",
       "      <th>19474485</th>\n",
       "      <td>Yes</td>\n",
       "      <td>70137</td>\n",
       "      <td>DENTON</td>\n",
       "      <td>2023-04-01</td>\n",
       "      <td>N - NOT INJURED</td>\n",
       "      <td>1544</td>\n",
       "      <td>2023-04-01</td>\n",
       "      <td>SAME DIRECTION - BOTH GOING STRAIGHT-SIDESWIPE</td>\n",
       "      <td>INTERSTATE</td>\n",
       "      <td>4 OR MORE LANES, DIVIDED</td>\n",
       "      <td>70</td>\n",
       "      <td>1 - DRY</td>\n",
       "      <td>1640</td>\n",
       "      <td>1 - CLEAR</td>\n",
       "    </tr>\n",
       "    <tr>\n",
       "      <th>19474684</th>\n",
       "      <td>Yes</td>\n",
       "      <td>No Data</td>\n",
       "      <td>DENTON</td>\n",
       "      <td>2023-04-01</td>\n",
       "      <td>N - NOT INJURED</td>\n",
       "      <td>1930</td>\n",
       "      <td>2023-04-01</td>\n",
       "      <td>ONE MOTOR VEHICLE - GOING STRAIGHT</td>\n",
       "      <td>CITY STREET</td>\n",
       "      <td>No Data</td>\n",
       "      <td>30</td>\n",
       "      <td>1 - DRY</td>\n",
       "      <td>2055</td>\n",
       "      <td>1 - CLEAR</td>\n",
       "    </tr>\n",
       "    <tr>\n",
       "      <th>19476604</th>\n",
       "      <td>Yes</td>\n",
       "      <td>27522</td>\n",
       "      <td>DENTON</td>\n",
       "      <td>2023-04-01</td>\n",
       "      <td>N - NOT INJURED</td>\n",
       "      <td>948</td>\n",
       "      <td>2023-04-01</td>\n",
       "      <td>ANGLE - ONE STRAIGHT-ONE RIGHT TURN</td>\n",
       "      <td>US &amp; STATE HIGHWAYS</td>\n",
       "      <td>4 OR MORE LANES, DIVIDED</td>\n",
       "      <td>50</td>\n",
       "      <td>1 - DRY</td>\n",
       "      <td>1026</td>\n",
       "      <td>1 - CLEAR</td>\n",
       "    </tr>\n",
       "    <tr>\n",
       "      <th>19476605</th>\n",
       "      <td>Yes</td>\n",
       "      <td>No Data</td>\n",
       "      <td>DENTON</td>\n",
       "      <td>2023-04-01</td>\n",
       "      <td>C - POSSIBLE INJURY</td>\n",
       "      <td>1246</td>\n",
       "      <td>2023-04-01</td>\n",
       "      <td>ONE MOTOR VEHICLE - GOING STRAIGHT</td>\n",
       "      <td>CITY STREET</td>\n",
       "      <td>No Data</td>\n",
       "      <td>40</td>\n",
       "      <td>1 - DRY</td>\n",
       "      <td>1305</td>\n",
       "      <td>1 - CLEAR</td>\n",
       "    </tr>\n",
       "  </tbody>\n",
       "</table>\n",
       "</div>"
      ],
      "text/plain": [
       "         $1000 Damage to Any One Person's Property  \\\n",
       "Crash ID                                             \n",
       "19468595                                       Yes   \n",
       "19474485                                       Yes   \n",
       "19474684                                       Yes   \n",
       "19476604                                       Yes   \n",
       "19476605                                       Yes   \n",
       "\n",
       "         Adjusted Average Daily Traffic Amount    City  Crash Date  \\\n",
       "Crash ID                                                             \n",
       "19468595                                 83664  DENTON  2023-04-01   \n",
       "19474485                                 70137  DENTON  2023-04-01   \n",
       "19474684                               No Data  DENTON  2023-04-01   \n",
       "19476604                                 27522  DENTON  2023-04-01   \n",
       "19476605                               No Data  DENTON  2023-04-01   \n",
       "\n",
       "               Crash Severity  Crash Time Date Scene Cleared  \\\n",
       "Crash ID                                                       \n",
       "19468595      N - NOT INJURED        1559         2023-04-01   \n",
       "19474485      N - NOT INJURED        1544         2023-04-01   \n",
       "19474684      N - NOT INJURED        1930         2023-04-01   \n",
       "19476604      N - NOT INJURED         948         2023-04-01   \n",
       "19476605  C - POSSIBLE INJURY        1246         2023-04-01   \n",
       "\n",
       "                                     Manner of Collision           Road Class  \\\n",
       "Crash ID                                                                        \n",
       "19468595  SAME DIRECTION - BOTH GOING STRAIGHT-SIDESWIPE           INTERSTATE   \n",
       "19474485  SAME DIRECTION - BOTH GOING STRAIGHT-SIDESWIPE           INTERSTATE   \n",
       "19474684              ONE MOTOR VEHICLE - GOING STRAIGHT          CITY STREET   \n",
       "19476604             ANGLE - ONE STRAIGHT-ONE RIGHT TURN  US & STATE HIGHWAYS   \n",
       "19476605              ONE MOTOR VEHICLE - GOING STRAIGHT          CITY STREET   \n",
       "\n",
       "                      Roadway Type  Speed Limit Surface Condition  \\\n",
       "Crash ID                                                            \n",
       "19468595  4 OR MORE LANES, DIVIDED           50           1 - DRY   \n",
       "19474485  4 OR MORE LANES, DIVIDED           70           1 - DRY   \n",
       "19474684                   No Data           30           1 - DRY   \n",
       "19476604  4 OR MORE LANES, DIVIDED           50           1 - DRY   \n",
       "19476605                   No Data           40           1 - DRY   \n",
       "\n",
       "          Time Scene Cleared Weather Condition  \n",
       "Crash ID                                        \n",
       "19468595                1559         1 - CLEAR  \n",
       "19474485                1640         1 - CLEAR  \n",
       "19474684                2055         1 - CLEAR  \n",
       "19476604                1026         1 - CLEAR  \n",
       "19476605                1305         1 - CLEAR  "
      ]
     },
     "execution_count": 14,
     "metadata": {},
     "output_type": "execute_result"
    }
   ],
   "source": [
    "df.set_index(\"Crash ID\", inplace = True)\n",
    "df.head()"
   ]
  },
  {
   "cell_type": "code",
   "execution_count": 15,
   "id": "46dacff4-c4b2-4d68-80cb-26680e569228",
   "metadata": {},
   "outputs": [
    {
     "data": {
      "text/plain": [
       "Index([19468595, 19474485, 19474684, 19476604, 19476605, 19477352, 19479006,\n",
       "       19483031, 19487709, 19477450,\n",
       "       ...\n",
       "       20312265, 20313642, 20313678, 20315847, 20315894, 20318138, 20323026,\n",
       "       20313710, 20313725, 20316856],\n",
       "      dtype='int64', name='Crash ID', length=3608)"
      ]
     },
     "execution_count": 15,
     "metadata": {},
     "output_type": "execute_result"
    }
   ],
   "source": [
    "# How many unique values are in the Crash ID column? Make this column the index of the data frame.\n",
    "df.index"
   ]
  },
  {
   "cell_type": "markdown",
   "id": "88b87c0a-e0c9-4bd5-a142-7862692ddb06",
   "metadata": {},
   "source": [
    "-----"
   ]
  },
  {
   "cell_type": "markdown",
   "id": "b4be4a5f-f8b9-4cb1-9af3-adebe4c8a9d7",
   "metadata": {},
   "source": [
    "# QUESTION 4\n",
    "The objective of the four labs you are completing for this course is to determine the time it takes to clear the scene after each accident in the city of Denton. There are four columns that collect data and time-related information, including the time of the accident and the time when the scene was cleared. The first step involves combining the “Date” and “Time” columns into a single column in order to compute the duration it will take to clear the scene. The difference between “Time Scene Cleared” and ” Accident Time” in minutes in the “Clearance Time (Minutes)”. Note that to correctly compute the “Clearance Time (Minutes)” you should consider both data and time columns. After completing this tasks, enter the average “Clearance Time (Minutes)” for all the accidents in this data frame. Enter the answer with two digits after the decimal point."
   ]
  },
  {
   "cell_type": "code",
   "execution_count": 16,
   "id": "33e6374f-243c-443c-98d3-c58ae03af9ae",
   "metadata": {},
   "outputs": [
    {
     "name": "stdout",
     "output_type": "stream",
     "text": [
      "Average Clearance Time in Minutes : 136.90\n"
     ]
    }
   ],
   "source": [
    "# Coverting date and time format to datetime format\n",
    "df[\"Crash_date_time\"] = pd.to_datetime(df[\"Crash Date\"] + \" \" + df[\"Crash Time\"].astype(str).str.zfill(4), format = \"%Y-%m-%d %H%M\")\n",
    "df[\"Scene Cleared DateTime\"] = pd.to_datetime(df[\"Date Scene Cleared\"] + \" \" + df[\"Time Scene Cleared\"].astype(str).str.zfill(4), format = \"%Y-%m-%d %H%M\") \n",
    "\n",
    "# Calculate clearance time in minutes\n",
    "df[\"Clearance_time_minutes\"] = (df[\"Scene Cleared DateTime\"] - df[\"Crash_date_time\"]).dt.total_seconds() / 60\n",
    "\n",
    "# Calculate average clearance time\n",
    "\n",
    "avg_clearance_time = df[\"Clearance_time_minutes\"] .mean()\n",
    "\n",
    "# output\n",
    "\n",
    "print(f\"Average Clearance Time in Minutes : {avg_clearance_time:.2f}\")"
   ]
  },
  {
   "cell_type": "markdown",
   "id": "a9d34284-f478-436f-80c0-22e62bdb6e8f",
   "metadata": {},
   "source": [
    "----"
   ]
  },
  {
   "cell_type": "markdown",
   "id": "72944b50-931f-4808-95b7-df4fb4c632f7",
   "metadata": {},
   "source": [
    "# Question 5\n",
    "What would be an appropriate preprocessing approach for the content of the column “$1000 Damage to Any One Person’s Property”. Apply it to the data frame."
   ]
  },
  {
   "cell_type": "code",
   "execution_count": 17,
   "id": "66e55018-04de-4126-9350-93cb10bfa6e4",
   "metadata": {},
   "outputs": [
    {
     "data": {
      "text/html": [
       "<div>\n",
       "<style scoped>\n",
       "    .dataframe tbody tr th:only-of-type {\n",
       "        vertical-align: middle;\n",
       "    }\n",
       "\n",
       "    .dataframe tbody tr th {\n",
       "        vertical-align: top;\n",
       "    }\n",
       "\n",
       "    .dataframe thead th {\n",
       "        text-align: right;\n",
       "    }\n",
       "</style>\n",
       "<table border=\"1\" class=\"dataframe\">\n",
       "  <thead>\n",
       "    <tr style=\"text-align: right;\">\n",
       "      <th></th>\n",
       "      <th>$1000 Damage to Any One Person's Property</th>\n",
       "      <th>Adjusted Average Daily Traffic Amount</th>\n",
       "      <th>City</th>\n",
       "      <th>Crash Date</th>\n",
       "      <th>Crash Severity</th>\n",
       "      <th>Date Scene Cleared</th>\n",
       "      <th>Manner of Collision</th>\n",
       "      <th>Road Class</th>\n",
       "      <th>Roadway Type</th>\n",
       "      <th>Surface Condition</th>\n",
       "      <th>Weather Condition</th>\n",
       "    </tr>\n",
       "  </thead>\n",
       "  <tbody>\n",
       "    <tr>\n",
       "      <th>count</th>\n",
       "      <td>3608</td>\n",
       "      <td>3608</td>\n",
       "      <td>3608</td>\n",
       "      <td>3608</td>\n",
       "      <td>3608</td>\n",
       "      <td>3608</td>\n",
       "      <td>3608</td>\n",
       "      <td>3608</td>\n",
       "      <td>3608</td>\n",
       "      <td>3608</td>\n",
       "      <td>3608</td>\n",
       "    </tr>\n",
       "    <tr>\n",
       "      <th>unique</th>\n",
       "      <td>1</td>\n",
       "      <td>56</td>\n",
       "      <td>1</td>\n",
       "      <td>486</td>\n",
       "      <td>6</td>\n",
       "      <td>484</td>\n",
       "      <td>36</td>\n",
       "      <td>7</td>\n",
       "      <td>4</td>\n",
       "      <td>8</td>\n",
       "      <td>8</td>\n",
       "    </tr>\n",
       "    <tr>\n",
       "      <th>top</th>\n",
       "      <td>Yes</td>\n",
       "      <td>No Data</td>\n",
       "      <td>DENTON</td>\n",
       "      <td>2023-11-30</td>\n",
       "      <td>N - NOT INJURED</td>\n",
       "      <td>2023-11-30</td>\n",
       "      <td>ONE MOTOR VEHICLE - GOING STRAIGHT</td>\n",
       "      <td>INTERSTATE</td>\n",
       "      <td>4 OR MORE LANES, DIVIDED</td>\n",
       "      <td>1 - DRY</td>\n",
       "      <td>1 - CLEAR</td>\n",
       "    </tr>\n",
       "    <tr>\n",
       "      <th>freq</th>\n",
       "      <td>3608</td>\n",
       "      <td>1380</td>\n",
       "      <td>3608</td>\n",
       "      <td>21</td>\n",
       "      <td>2400</td>\n",
       "      <td>20</td>\n",
       "      <td>556</td>\n",
       "      <td>1189</td>\n",
       "      <td>1776</td>\n",
       "      <td>3174</td>\n",
       "      <td>2879</td>\n",
       "    </tr>\n",
       "  </tbody>\n",
       "</table>\n",
       "</div>"
      ],
      "text/plain": [
       "       $1000 Damage to Any One Person's Property  \\\n",
       "count                                       3608   \n",
       "unique                                         1   \n",
       "top                                          Yes   \n",
       "freq                                        3608   \n",
       "\n",
       "       Adjusted Average Daily Traffic Amount    City  Crash Date  \\\n",
       "count                                   3608    3608        3608   \n",
       "unique                                    56       1         486   \n",
       "top                                  No Data  DENTON  2023-11-30   \n",
       "freq                                    1380    3608          21   \n",
       "\n",
       "         Crash Severity Date Scene Cleared  \\\n",
       "count              3608               3608   \n",
       "unique                6                484   \n",
       "top     N - NOT INJURED         2023-11-30   \n",
       "freq               2400                 20   \n",
       "\n",
       "                       Manner of Collision  Road Class  \\\n",
       "count                                 3608        3608   \n",
       "unique                                  36           7   \n",
       "top     ONE MOTOR VEHICLE - GOING STRAIGHT  INTERSTATE   \n",
       "freq                                   556        1189   \n",
       "\n",
       "                    Roadway Type Surface Condition Weather Condition  \n",
       "count                       3608              3608              3608  \n",
       "unique                         4                 8                 8  \n",
       "top     4 OR MORE LANES, DIVIDED           1 - DRY         1 - CLEAR  \n",
       "freq                        1776              3174              2879  "
      ]
     },
     "execution_count": 17,
     "metadata": {},
     "output_type": "execute_result"
    }
   ],
   "source": [
    "# drop the column\n",
    "df.describe(include= ['O'])"
   ]
  },
  {
   "cell_type": "code",
   "execution_count": 18,
   "id": "ba2f4517-f6cf-4a69-a453-f86c844c4220",
   "metadata": {},
   "outputs": [],
   "source": [
    "df.drop(\"$1000 Damage to Any One Person's Property\", axis=1, inplace=True)"
   ]
  },
  {
   "cell_type": "code",
   "execution_count": 19,
   "id": "adea6cd4-796c-438e-9c0e-685b25d5516d",
   "metadata": {},
   "outputs": [
    {
     "data": {
      "text/html": [
       "<div>\n",
       "<style scoped>\n",
       "    .dataframe tbody tr th:only-of-type {\n",
       "        vertical-align: middle;\n",
       "    }\n",
       "\n",
       "    .dataframe tbody tr th {\n",
       "        vertical-align: top;\n",
       "    }\n",
       "\n",
       "    .dataframe thead th {\n",
       "        text-align: right;\n",
       "    }\n",
       "</style>\n",
       "<table border=\"1\" class=\"dataframe\">\n",
       "  <thead>\n",
       "    <tr style=\"text-align: right;\">\n",
       "      <th></th>\n",
       "      <th>Adjusted Average Daily Traffic Amount</th>\n",
       "      <th>City</th>\n",
       "      <th>Crash Date</th>\n",
       "      <th>Crash Severity</th>\n",
       "      <th>Crash Time</th>\n",
       "      <th>Date Scene Cleared</th>\n",
       "      <th>Manner of Collision</th>\n",
       "      <th>Road Class</th>\n",
       "      <th>Roadway Type</th>\n",
       "      <th>Speed Limit</th>\n",
       "      <th>Surface Condition</th>\n",
       "      <th>Time Scene Cleared</th>\n",
       "      <th>Weather Condition</th>\n",
       "      <th>Crash_date_time</th>\n",
       "      <th>Scene Cleared DateTime</th>\n",
       "      <th>Clearance_time_minutes</th>\n",
       "    </tr>\n",
       "    <tr>\n",
       "      <th>Crash ID</th>\n",
       "      <th></th>\n",
       "      <th></th>\n",
       "      <th></th>\n",
       "      <th></th>\n",
       "      <th></th>\n",
       "      <th></th>\n",
       "      <th></th>\n",
       "      <th></th>\n",
       "      <th></th>\n",
       "      <th></th>\n",
       "      <th></th>\n",
       "      <th></th>\n",
       "      <th></th>\n",
       "      <th></th>\n",
       "      <th></th>\n",
       "      <th></th>\n",
       "    </tr>\n",
       "  </thead>\n",
       "  <tbody>\n",
       "    <tr>\n",
       "      <th>19468595</th>\n",
       "      <td>83664</td>\n",
       "      <td>DENTON</td>\n",
       "      <td>2023-04-01</td>\n",
       "      <td>N - NOT INJURED</td>\n",
       "      <td>1559</td>\n",
       "      <td>2023-04-01</td>\n",
       "      <td>SAME DIRECTION - BOTH GOING STRAIGHT-SIDESWIPE</td>\n",
       "      <td>INTERSTATE</td>\n",
       "      <td>4 OR MORE LANES, DIVIDED</td>\n",
       "      <td>50</td>\n",
       "      <td>1 - DRY</td>\n",
       "      <td>1559</td>\n",
       "      <td>1 - CLEAR</td>\n",
       "      <td>2023-04-01 15:59:00</td>\n",
       "      <td>2023-04-01 15:59:00</td>\n",
       "      <td>0.0</td>\n",
       "    </tr>\n",
       "    <tr>\n",
       "      <th>19474485</th>\n",
       "      <td>70137</td>\n",
       "      <td>DENTON</td>\n",
       "      <td>2023-04-01</td>\n",
       "      <td>N - NOT INJURED</td>\n",
       "      <td>1544</td>\n",
       "      <td>2023-04-01</td>\n",
       "      <td>SAME DIRECTION - BOTH GOING STRAIGHT-SIDESWIPE</td>\n",
       "      <td>INTERSTATE</td>\n",
       "      <td>4 OR MORE LANES, DIVIDED</td>\n",
       "      <td>70</td>\n",
       "      <td>1 - DRY</td>\n",
       "      <td>1640</td>\n",
       "      <td>1 - CLEAR</td>\n",
       "      <td>2023-04-01 15:44:00</td>\n",
       "      <td>2023-04-01 16:40:00</td>\n",
       "      <td>56.0</td>\n",
       "    </tr>\n",
       "    <tr>\n",
       "      <th>19474684</th>\n",
       "      <td>No Data</td>\n",
       "      <td>DENTON</td>\n",
       "      <td>2023-04-01</td>\n",
       "      <td>N - NOT INJURED</td>\n",
       "      <td>1930</td>\n",
       "      <td>2023-04-01</td>\n",
       "      <td>ONE MOTOR VEHICLE - GOING STRAIGHT</td>\n",
       "      <td>CITY STREET</td>\n",
       "      <td>No Data</td>\n",
       "      <td>30</td>\n",
       "      <td>1 - DRY</td>\n",
       "      <td>2055</td>\n",
       "      <td>1 - CLEAR</td>\n",
       "      <td>2023-04-01 19:30:00</td>\n",
       "      <td>2023-04-01 20:55:00</td>\n",
       "      <td>85.0</td>\n",
       "    </tr>\n",
       "    <tr>\n",
       "      <th>19476604</th>\n",
       "      <td>27522</td>\n",
       "      <td>DENTON</td>\n",
       "      <td>2023-04-01</td>\n",
       "      <td>N - NOT INJURED</td>\n",
       "      <td>948</td>\n",
       "      <td>2023-04-01</td>\n",
       "      <td>ANGLE - ONE STRAIGHT-ONE RIGHT TURN</td>\n",
       "      <td>US &amp; STATE HIGHWAYS</td>\n",
       "      <td>4 OR MORE LANES, DIVIDED</td>\n",
       "      <td>50</td>\n",
       "      <td>1 - DRY</td>\n",
       "      <td>1026</td>\n",
       "      <td>1 - CLEAR</td>\n",
       "      <td>2023-04-01 09:48:00</td>\n",
       "      <td>2023-04-01 10:26:00</td>\n",
       "      <td>38.0</td>\n",
       "    </tr>\n",
       "    <tr>\n",
       "      <th>19476605</th>\n",
       "      <td>No Data</td>\n",
       "      <td>DENTON</td>\n",
       "      <td>2023-04-01</td>\n",
       "      <td>C - POSSIBLE INJURY</td>\n",
       "      <td>1246</td>\n",
       "      <td>2023-04-01</td>\n",
       "      <td>ONE MOTOR VEHICLE - GOING STRAIGHT</td>\n",
       "      <td>CITY STREET</td>\n",
       "      <td>No Data</td>\n",
       "      <td>40</td>\n",
       "      <td>1 - DRY</td>\n",
       "      <td>1305</td>\n",
       "      <td>1 - CLEAR</td>\n",
       "      <td>2023-04-01 12:46:00</td>\n",
       "      <td>2023-04-01 13:05:00</td>\n",
       "      <td>19.0</td>\n",
       "    </tr>\n",
       "  </tbody>\n",
       "</table>\n",
       "</div>"
      ],
      "text/plain": [
       "         Adjusted Average Daily Traffic Amount    City  Crash Date  \\\n",
       "Crash ID                                                             \n",
       "19468595                                 83664  DENTON  2023-04-01   \n",
       "19474485                                 70137  DENTON  2023-04-01   \n",
       "19474684                               No Data  DENTON  2023-04-01   \n",
       "19476604                                 27522  DENTON  2023-04-01   \n",
       "19476605                               No Data  DENTON  2023-04-01   \n",
       "\n",
       "               Crash Severity  Crash Time Date Scene Cleared  \\\n",
       "Crash ID                                                       \n",
       "19468595      N - NOT INJURED        1559         2023-04-01   \n",
       "19474485      N - NOT INJURED        1544         2023-04-01   \n",
       "19474684      N - NOT INJURED        1930         2023-04-01   \n",
       "19476604      N - NOT INJURED         948         2023-04-01   \n",
       "19476605  C - POSSIBLE INJURY        1246         2023-04-01   \n",
       "\n",
       "                                     Manner of Collision           Road Class  \\\n",
       "Crash ID                                                                        \n",
       "19468595  SAME DIRECTION - BOTH GOING STRAIGHT-SIDESWIPE           INTERSTATE   \n",
       "19474485  SAME DIRECTION - BOTH GOING STRAIGHT-SIDESWIPE           INTERSTATE   \n",
       "19474684              ONE MOTOR VEHICLE - GOING STRAIGHT          CITY STREET   \n",
       "19476604             ANGLE - ONE STRAIGHT-ONE RIGHT TURN  US & STATE HIGHWAYS   \n",
       "19476605              ONE MOTOR VEHICLE - GOING STRAIGHT          CITY STREET   \n",
       "\n",
       "                      Roadway Type  Speed Limit Surface Condition  \\\n",
       "Crash ID                                                            \n",
       "19468595  4 OR MORE LANES, DIVIDED           50           1 - DRY   \n",
       "19474485  4 OR MORE LANES, DIVIDED           70           1 - DRY   \n",
       "19474684                   No Data           30           1 - DRY   \n",
       "19476604  4 OR MORE LANES, DIVIDED           50           1 - DRY   \n",
       "19476605                   No Data           40           1 - DRY   \n",
       "\n",
       "          Time Scene Cleared Weather Condition     Crash_date_time  \\\n",
       "Crash ID                                                             \n",
       "19468595                1559         1 - CLEAR 2023-04-01 15:59:00   \n",
       "19474485                1640         1 - CLEAR 2023-04-01 15:44:00   \n",
       "19474684                2055         1 - CLEAR 2023-04-01 19:30:00   \n",
       "19476604                1026         1 - CLEAR 2023-04-01 09:48:00   \n",
       "19476605                1305         1 - CLEAR 2023-04-01 12:46:00   \n",
       "\n",
       "         Scene Cleared DateTime  Clearance_time_minutes  \n",
       "Crash ID                                                 \n",
       "19468595    2023-04-01 15:59:00                     0.0  \n",
       "19474485    2023-04-01 16:40:00                    56.0  \n",
       "19474684    2023-04-01 20:55:00                    85.0  \n",
       "19476604    2023-04-01 10:26:00                    38.0  \n",
       "19476605    2023-04-01 13:05:00                    19.0  "
      ]
     },
     "execution_count": 19,
     "metadata": {},
     "output_type": "execute_result"
    }
   ],
   "source": [
    "df.head()"
   ]
  },
  {
   "cell_type": "markdown",
   "id": "887b3cb3-a858-441f-b044-81e286e45b80",
   "metadata": {},
   "source": [
    "-----"
   ]
  },
  {
   "cell_type": "markdown",
   "id": "a1fa6931-6db6-456a-b45c-6e8e92b208f9",
   "metadata": {},
   "source": [
    "# Question 6\n",
    "\n",
    "Select all the forms of missing values under the column “Adjusted Average Daily Traffic Amount”. Replace all the sentinel missing values with np.nan and change data type of the column to float."
   ]
  },
  {
   "cell_type": "code",
   "execution_count": 20,
   "id": "ca3af761-b91a-485c-8858-f09add970aa5",
   "metadata": {},
   "outputs": [
    {
     "data": {
      "text/plain": [
       "Crash ID\n",
       "19468595      83664\n",
       "19474485      70137\n",
       "19474684    No Data\n",
       "19476604      27522\n",
       "19476605    No Data\n",
       "             ...   \n",
       "20318138      84501\n",
       "20323026    No Data\n",
       "20313710      14763\n",
       "20313725    No Data\n",
       "20316856      84501\n",
       "Name: Adjusted Average Daily Traffic Amount, Length: 3608, dtype: object"
      ]
     },
     "execution_count": 20,
     "metadata": {},
     "output_type": "execute_result"
    }
   ],
   "source": [
    "df[\"Adjusted Average Daily Traffic Amount\"]"
   ]
  },
  {
   "cell_type": "code",
   "execution_count": 21,
   "id": "dc47ca01-3030-4e43-b646-03c614708cc0",
   "metadata": {},
   "outputs": [
    {
     "data": {
      "text/plain": [
       "Crash ID\n",
       "19468595    83664.0\n",
       "19474485    70137.0\n",
       "19474684        NaN\n",
       "19476604    27522.0\n",
       "19476605        NaN\n",
       "             ...   \n",
       "20318138    84501.0\n",
       "20323026        NaN\n",
       "20313710    14763.0\n",
       "20313725        NaN\n",
       "20316856    84501.0\n",
       "Name: Adjusted Average Daily Traffic Amount, Length: 3608, dtype: float64"
      ]
     },
     "execution_count": 21,
     "metadata": {},
     "output_type": "execute_result"
    }
   ],
   "source": [
    "# Replacing all the sentinel missing values with np.nan and change data type of the column to float.\n",
    "missing_values = [\"No Data\"]\n",
    "df[\"Adjusted Average Daily Traffic Amount\"] = df[\"Adjusted Average Daily Traffic Amount\"].replace(missing_values, np.nan).astype(float)\n",
    "df[\"Adjusted Average Daily Traffic Amount\"]"
   ]
  },
  {
   "cell_type": "code",
   "execution_count": 22,
   "id": "0526ff59-88b8-4902-b15d-f54b0cc4bb7a",
   "metadata": {},
   "outputs": [
    {
     "data": {
      "text/html": [
       "<div>\n",
       "<style scoped>\n",
       "    .dataframe tbody tr th:only-of-type {\n",
       "        vertical-align: middle;\n",
       "    }\n",
       "\n",
       "    .dataframe tbody tr th {\n",
       "        vertical-align: top;\n",
       "    }\n",
       "\n",
       "    .dataframe thead th {\n",
       "        text-align: right;\n",
       "    }\n",
       "</style>\n",
       "<table border=\"1\" class=\"dataframe\">\n",
       "  <thead>\n",
       "    <tr style=\"text-align: right;\">\n",
       "      <th></th>\n",
       "      <th>Adjusted Average Daily Traffic Amount</th>\n",
       "      <th>City</th>\n",
       "      <th>Crash Date</th>\n",
       "      <th>Crash Severity</th>\n",
       "      <th>Crash Time</th>\n",
       "      <th>Date Scene Cleared</th>\n",
       "      <th>Manner of Collision</th>\n",
       "      <th>Road Class</th>\n",
       "      <th>Roadway Type</th>\n",
       "      <th>Speed Limit</th>\n",
       "      <th>Surface Condition</th>\n",
       "      <th>Time Scene Cleared</th>\n",
       "      <th>Weather Condition</th>\n",
       "      <th>Crash_date_time</th>\n",
       "      <th>Scene Cleared DateTime</th>\n",
       "      <th>Clearance_time_minutes</th>\n",
       "    </tr>\n",
       "    <tr>\n",
       "      <th>Crash ID</th>\n",
       "      <th></th>\n",
       "      <th></th>\n",
       "      <th></th>\n",
       "      <th></th>\n",
       "      <th></th>\n",
       "      <th></th>\n",
       "      <th></th>\n",
       "      <th></th>\n",
       "      <th></th>\n",
       "      <th></th>\n",
       "      <th></th>\n",
       "      <th></th>\n",
       "      <th></th>\n",
       "      <th></th>\n",
       "      <th></th>\n",
       "      <th></th>\n",
       "    </tr>\n",
       "  </thead>\n",
       "  <tbody>\n",
       "    <tr>\n",
       "      <th>19468595</th>\n",
       "      <td>83664.0</td>\n",
       "      <td>DENTON</td>\n",
       "      <td>2023-04-01</td>\n",
       "      <td>N - NOT INJURED</td>\n",
       "      <td>1559</td>\n",
       "      <td>2023-04-01</td>\n",
       "      <td>SAME DIRECTION - BOTH GOING STRAIGHT-SIDESWIPE</td>\n",
       "      <td>INTERSTATE</td>\n",
       "      <td>4 OR MORE LANES, DIVIDED</td>\n",
       "      <td>50</td>\n",
       "      <td>1 - DRY</td>\n",
       "      <td>1559</td>\n",
       "      <td>1 - CLEAR</td>\n",
       "      <td>2023-04-01 15:59:00</td>\n",
       "      <td>2023-04-01 15:59:00</td>\n",
       "      <td>0.0</td>\n",
       "    </tr>\n",
       "    <tr>\n",
       "      <th>19474485</th>\n",
       "      <td>70137.0</td>\n",
       "      <td>DENTON</td>\n",
       "      <td>2023-04-01</td>\n",
       "      <td>N - NOT INJURED</td>\n",
       "      <td>1544</td>\n",
       "      <td>2023-04-01</td>\n",
       "      <td>SAME DIRECTION - BOTH GOING STRAIGHT-SIDESWIPE</td>\n",
       "      <td>INTERSTATE</td>\n",
       "      <td>4 OR MORE LANES, DIVIDED</td>\n",
       "      <td>70</td>\n",
       "      <td>1 - DRY</td>\n",
       "      <td>1640</td>\n",
       "      <td>1 - CLEAR</td>\n",
       "      <td>2023-04-01 15:44:00</td>\n",
       "      <td>2023-04-01 16:40:00</td>\n",
       "      <td>56.0</td>\n",
       "    </tr>\n",
       "    <tr>\n",
       "      <th>19474684</th>\n",
       "      <td>NaN</td>\n",
       "      <td>DENTON</td>\n",
       "      <td>2023-04-01</td>\n",
       "      <td>N - NOT INJURED</td>\n",
       "      <td>1930</td>\n",
       "      <td>2023-04-01</td>\n",
       "      <td>ONE MOTOR VEHICLE - GOING STRAIGHT</td>\n",
       "      <td>CITY STREET</td>\n",
       "      <td>No Data</td>\n",
       "      <td>30</td>\n",
       "      <td>1 - DRY</td>\n",
       "      <td>2055</td>\n",
       "      <td>1 - CLEAR</td>\n",
       "      <td>2023-04-01 19:30:00</td>\n",
       "      <td>2023-04-01 20:55:00</td>\n",
       "      <td>85.0</td>\n",
       "    </tr>\n",
       "    <tr>\n",
       "      <th>19476604</th>\n",
       "      <td>27522.0</td>\n",
       "      <td>DENTON</td>\n",
       "      <td>2023-04-01</td>\n",
       "      <td>N - NOT INJURED</td>\n",
       "      <td>948</td>\n",
       "      <td>2023-04-01</td>\n",
       "      <td>ANGLE - ONE STRAIGHT-ONE RIGHT TURN</td>\n",
       "      <td>US &amp; STATE HIGHWAYS</td>\n",
       "      <td>4 OR MORE LANES, DIVIDED</td>\n",
       "      <td>50</td>\n",
       "      <td>1 - DRY</td>\n",
       "      <td>1026</td>\n",
       "      <td>1 - CLEAR</td>\n",
       "      <td>2023-04-01 09:48:00</td>\n",
       "      <td>2023-04-01 10:26:00</td>\n",
       "      <td>38.0</td>\n",
       "    </tr>\n",
       "    <tr>\n",
       "      <th>19476605</th>\n",
       "      <td>NaN</td>\n",
       "      <td>DENTON</td>\n",
       "      <td>2023-04-01</td>\n",
       "      <td>C - POSSIBLE INJURY</td>\n",
       "      <td>1246</td>\n",
       "      <td>2023-04-01</td>\n",
       "      <td>ONE MOTOR VEHICLE - GOING STRAIGHT</td>\n",
       "      <td>CITY STREET</td>\n",
       "      <td>No Data</td>\n",
       "      <td>40</td>\n",
       "      <td>1 - DRY</td>\n",
       "      <td>1305</td>\n",
       "      <td>1 - CLEAR</td>\n",
       "      <td>2023-04-01 12:46:00</td>\n",
       "      <td>2023-04-01 13:05:00</td>\n",
       "      <td>19.0</td>\n",
       "    </tr>\n",
       "  </tbody>\n",
       "</table>\n",
       "</div>"
      ],
      "text/plain": [
       "          Adjusted Average Daily Traffic Amount    City  Crash Date  \\\n",
       "Crash ID                                                              \n",
       "19468595                                83664.0  DENTON  2023-04-01   \n",
       "19474485                                70137.0  DENTON  2023-04-01   \n",
       "19474684                                    NaN  DENTON  2023-04-01   \n",
       "19476604                                27522.0  DENTON  2023-04-01   \n",
       "19476605                                    NaN  DENTON  2023-04-01   \n",
       "\n",
       "               Crash Severity  Crash Time Date Scene Cleared  \\\n",
       "Crash ID                                                       \n",
       "19468595      N - NOT INJURED        1559         2023-04-01   \n",
       "19474485      N - NOT INJURED        1544         2023-04-01   \n",
       "19474684      N - NOT INJURED        1930         2023-04-01   \n",
       "19476604      N - NOT INJURED         948         2023-04-01   \n",
       "19476605  C - POSSIBLE INJURY        1246         2023-04-01   \n",
       "\n",
       "                                     Manner of Collision           Road Class  \\\n",
       "Crash ID                                                                        \n",
       "19468595  SAME DIRECTION - BOTH GOING STRAIGHT-SIDESWIPE           INTERSTATE   \n",
       "19474485  SAME DIRECTION - BOTH GOING STRAIGHT-SIDESWIPE           INTERSTATE   \n",
       "19474684              ONE MOTOR VEHICLE - GOING STRAIGHT          CITY STREET   \n",
       "19476604             ANGLE - ONE STRAIGHT-ONE RIGHT TURN  US & STATE HIGHWAYS   \n",
       "19476605              ONE MOTOR VEHICLE - GOING STRAIGHT          CITY STREET   \n",
       "\n",
       "                      Roadway Type  Speed Limit Surface Condition  \\\n",
       "Crash ID                                                            \n",
       "19468595  4 OR MORE LANES, DIVIDED           50           1 - DRY   \n",
       "19474485  4 OR MORE LANES, DIVIDED           70           1 - DRY   \n",
       "19474684                   No Data           30           1 - DRY   \n",
       "19476604  4 OR MORE LANES, DIVIDED           50           1 - DRY   \n",
       "19476605                   No Data           40           1 - DRY   \n",
       "\n",
       "          Time Scene Cleared Weather Condition     Crash_date_time  \\\n",
       "Crash ID                                                             \n",
       "19468595                1559         1 - CLEAR 2023-04-01 15:59:00   \n",
       "19474485                1640         1 - CLEAR 2023-04-01 15:44:00   \n",
       "19474684                2055         1 - CLEAR 2023-04-01 19:30:00   \n",
       "19476604                1026         1 - CLEAR 2023-04-01 09:48:00   \n",
       "19476605                1305         1 - CLEAR 2023-04-01 12:46:00   \n",
       "\n",
       "         Scene Cleared DateTime  Clearance_time_minutes  \n",
       "Crash ID                                                 \n",
       "19468595    2023-04-01 15:59:00                     0.0  \n",
       "19474485    2023-04-01 16:40:00                    56.0  \n",
       "19474684    2023-04-01 20:55:00                    85.0  \n",
       "19476604    2023-04-01 10:26:00                    38.0  \n",
       "19476605    2023-04-01 13:05:00                    19.0  "
      ]
     },
     "execution_count": 22,
     "metadata": {},
     "output_type": "execute_result"
    }
   ],
   "source": [
    "df.head()"
   ]
  },
  {
   "cell_type": "markdown",
   "id": "6f1e33b4-89cb-47c4-ab2a-3db849e09f17",
   "metadata": {},
   "source": [
    "-----"
   ]
  },
  {
   "cell_type": "markdown",
   "id": "2f36f93a-aa62-423b-98c1-957ca65ba83b",
   "metadata": {},
   "source": [
    "# Question 7\n",
    "In order to fill in the missing values in the “Adjusted Average Daily Traffic Amount” column, we will calculate the median value for all available entries in the “Adjusted Average Daily Traffic Amount” for each “Road Class.” We will then use this median value to replace any instances of NaN in the “Adjusted Average Daily Traffic Amount” column. Although this method will fill in most of the missing values, there may still be some rows with missing values remaining. Enter the number of instances with NaN values after this data imputation"
   ]
  },
  {
   "cell_type": "code",
   "execution_count": 23,
   "id": "2911b9b0-efff-4cce-8455-3c51e05fd4ba",
   "metadata": {},
   "outputs": [
    {
     "data": {
      "text/plain": [
       "Road Class\n",
       "CITY STREET            14489.0\n",
       "COUNTY ROAD             8562.0\n",
       "FARM TO MARKET          8562.0\n",
       "INTERSTATE             83664.0\n",
       "NON TRAFFICWAY             NaN\n",
       "OTHER ROADS                NaN\n",
       "US & STATE HIGHWAYS    25998.0\n",
       "Name: Adjusted Average Daily Traffic Amount, dtype: float64"
      ]
     },
     "execution_count": 23,
     "metadata": {},
     "output_type": "execute_result"
    }
   ],
   "source": [
    "\n",
    "\n",
    "a = df.groupby(\"Road Class\")[\"Adjusted Average Daily Traffic Amount\"].median()\n",
    "a"
   ]
  },
  {
   "cell_type": "code",
   "execution_count": 24,
   "id": "af9c0cb9-6c3b-46bf-999f-807750d9ecdd",
   "metadata": {},
   "outputs": [
    {
     "name": "stdout",
     "output_type": "stream",
     "text": [
      "Number of instances with NaN values after imputation: 255\n"
     ]
    },
    {
     "data": {
      "text/html": [
       "<div>\n",
       "<style scoped>\n",
       "    .dataframe tbody tr th:only-of-type {\n",
       "        vertical-align: middle;\n",
       "    }\n",
       "\n",
       "    .dataframe tbody tr th {\n",
       "        vertical-align: top;\n",
       "    }\n",
       "\n",
       "    .dataframe thead th {\n",
       "        text-align: right;\n",
       "    }\n",
       "</style>\n",
       "<table border=\"1\" class=\"dataframe\">\n",
       "  <thead>\n",
       "    <tr style=\"text-align: right;\">\n",
       "      <th></th>\n",
       "      <th>Adjusted Average Daily Traffic Amount</th>\n",
       "      <th>City</th>\n",
       "      <th>Crash Date</th>\n",
       "      <th>Crash Severity</th>\n",
       "      <th>Crash Time</th>\n",
       "      <th>Date Scene Cleared</th>\n",
       "      <th>Manner of Collision</th>\n",
       "      <th>Road Class</th>\n",
       "      <th>Roadway Type</th>\n",
       "      <th>Speed Limit</th>\n",
       "      <th>Surface Condition</th>\n",
       "      <th>Time Scene Cleared</th>\n",
       "      <th>Weather Condition</th>\n",
       "      <th>Crash_date_time</th>\n",
       "      <th>Scene Cleared DateTime</th>\n",
       "      <th>Clearance_time_minutes</th>\n",
       "    </tr>\n",
       "    <tr>\n",
       "      <th>Crash ID</th>\n",
       "      <th></th>\n",
       "      <th></th>\n",
       "      <th></th>\n",
       "      <th></th>\n",
       "      <th></th>\n",
       "      <th></th>\n",
       "      <th></th>\n",
       "      <th></th>\n",
       "      <th></th>\n",
       "      <th></th>\n",
       "      <th></th>\n",
       "      <th></th>\n",
       "      <th></th>\n",
       "      <th></th>\n",
       "      <th></th>\n",
       "      <th></th>\n",
       "    </tr>\n",
       "  </thead>\n",
       "  <tbody>\n",
       "    <tr>\n",
       "      <th>19468595</th>\n",
       "      <td>83664.0</td>\n",
       "      <td>DENTON</td>\n",
       "      <td>2023-04-01</td>\n",
       "      <td>N - NOT INJURED</td>\n",
       "      <td>1559</td>\n",
       "      <td>2023-04-01</td>\n",
       "      <td>SAME DIRECTION - BOTH GOING STRAIGHT-SIDESWIPE</td>\n",
       "      <td>INTERSTATE</td>\n",
       "      <td>4 OR MORE LANES, DIVIDED</td>\n",
       "      <td>50</td>\n",
       "      <td>1 - DRY</td>\n",
       "      <td>1559</td>\n",
       "      <td>1 - CLEAR</td>\n",
       "      <td>2023-04-01 15:59:00</td>\n",
       "      <td>2023-04-01 15:59:00</td>\n",
       "      <td>0.0</td>\n",
       "    </tr>\n",
       "    <tr>\n",
       "      <th>19474485</th>\n",
       "      <td>70137.0</td>\n",
       "      <td>DENTON</td>\n",
       "      <td>2023-04-01</td>\n",
       "      <td>N - NOT INJURED</td>\n",
       "      <td>1544</td>\n",
       "      <td>2023-04-01</td>\n",
       "      <td>SAME DIRECTION - BOTH GOING STRAIGHT-SIDESWIPE</td>\n",
       "      <td>INTERSTATE</td>\n",
       "      <td>4 OR MORE LANES, DIVIDED</td>\n",
       "      <td>70</td>\n",
       "      <td>1 - DRY</td>\n",
       "      <td>1640</td>\n",
       "      <td>1 - CLEAR</td>\n",
       "      <td>2023-04-01 15:44:00</td>\n",
       "      <td>2023-04-01 16:40:00</td>\n",
       "      <td>56.0</td>\n",
       "    </tr>\n",
       "    <tr>\n",
       "      <th>19474684</th>\n",
       "      <td>14489.0</td>\n",
       "      <td>DENTON</td>\n",
       "      <td>2023-04-01</td>\n",
       "      <td>N - NOT INJURED</td>\n",
       "      <td>1930</td>\n",
       "      <td>2023-04-01</td>\n",
       "      <td>ONE MOTOR VEHICLE - GOING STRAIGHT</td>\n",
       "      <td>CITY STREET</td>\n",
       "      <td>No Data</td>\n",
       "      <td>30</td>\n",
       "      <td>1 - DRY</td>\n",
       "      <td>2055</td>\n",
       "      <td>1 - CLEAR</td>\n",
       "      <td>2023-04-01 19:30:00</td>\n",
       "      <td>2023-04-01 20:55:00</td>\n",
       "      <td>85.0</td>\n",
       "    </tr>\n",
       "    <tr>\n",
       "      <th>19476604</th>\n",
       "      <td>27522.0</td>\n",
       "      <td>DENTON</td>\n",
       "      <td>2023-04-01</td>\n",
       "      <td>N - NOT INJURED</td>\n",
       "      <td>948</td>\n",
       "      <td>2023-04-01</td>\n",
       "      <td>ANGLE - ONE STRAIGHT-ONE RIGHT TURN</td>\n",
       "      <td>US &amp; STATE HIGHWAYS</td>\n",
       "      <td>4 OR MORE LANES, DIVIDED</td>\n",
       "      <td>50</td>\n",
       "      <td>1 - DRY</td>\n",
       "      <td>1026</td>\n",
       "      <td>1 - CLEAR</td>\n",
       "      <td>2023-04-01 09:48:00</td>\n",
       "      <td>2023-04-01 10:26:00</td>\n",
       "      <td>38.0</td>\n",
       "    </tr>\n",
       "    <tr>\n",
       "      <th>19476605</th>\n",
       "      <td>14489.0</td>\n",
       "      <td>DENTON</td>\n",
       "      <td>2023-04-01</td>\n",
       "      <td>C - POSSIBLE INJURY</td>\n",
       "      <td>1246</td>\n",
       "      <td>2023-04-01</td>\n",
       "      <td>ONE MOTOR VEHICLE - GOING STRAIGHT</td>\n",
       "      <td>CITY STREET</td>\n",
       "      <td>No Data</td>\n",
       "      <td>40</td>\n",
       "      <td>1 - DRY</td>\n",
       "      <td>1305</td>\n",
       "      <td>1 - CLEAR</td>\n",
       "      <td>2023-04-01 12:46:00</td>\n",
       "      <td>2023-04-01 13:05:00</td>\n",
       "      <td>19.0</td>\n",
       "    </tr>\n",
       "  </tbody>\n",
       "</table>\n",
       "</div>"
      ],
      "text/plain": [
       "          Adjusted Average Daily Traffic Amount    City  Crash Date  \\\n",
       "Crash ID                                                              \n",
       "19468595                                83664.0  DENTON  2023-04-01   \n",
       "19474485                                70137.0  DENTON  2023-04-01   \n",
       "19474684                                14489.0  DENTON  2023-04-01   \n",
       "19476604                                27522.0  DENTON  2023-04-01   \n",
       "19476605                                14489.0  DENTON  2023-04-01   \n",
       "\n",
       "               Crash Severity  Crash Time Date Scene Cleared  \\\n",
       "Crash ID                                                       \n",
       "19468595      N - NOT INJURED        1559         2023-04-01   \n",
       "19474485      N - NOT INJURED        1544         2023-04-01   \n",
       "19474684      N - NOT INJURED        1930         2023-04-01   \n",
       "19476604      N - NOT INJURED         948         2023-04-01   \n",
       "19476605  C - POSSIBLE INJURY        1246         2023-04-01   \n",
       "\n",
       "                                     Manner of Collision           Road Class  \\\n",
       "Crash ID                                                                        \n",
       "19468595  SAME DIRECTION - BOTH GOING STRAIGHT-SIDESWIPE           INTERSTATE   \n",
       "19474485  SAME DIRECTION - BOTH GOING STRAIGHT-SIDESWIPE           INTERSTATE   \n",
       "19474684              ONE MOTOR VEHICLE - GOING STRAIGHT          CITY STREET   \n",
       "19476604             ANGLE - ONE STRAIGHT-ONE RIGHT TURN  US & STATE HIGHWAYS   \n",
       "19476605              ONE MOTOR VEHICLE - GOING STRAIGHT          CITY STREET   \n",
       "\n",
       "                      Roadway Type  Speed Limit Surface Condition  \\\n",
       "Crash ID                                                            \n",
       "19468595  4 OR MORE LANES, DIVIDED           50           1 - DRY   \n",
       "19474485  4 OR MORE LANES, DIVIDED           70           1 - DRY   \n",
       "19474684                   No Data           30           1 - DRY   \n",
       "19476604  4 OR MORE LANES, DIVIDED           50           1 - DRY   \n",
       "19476605                   No Data           40           1 - DRY   \n",
       "\n",
       "          Time Scene Cleared Weather Condition     Crash_date_time  \\\n",
       "Crash ID                                                             \n",
       "19468595                1559         1 - CLEAR 2023-04-01 15:59:00   \n",
       "19474485                1640         1 - CLEAR 2023-04-01 15:44:00   \n",
       "19474684                2055         1 - CLEAR 2023-04-01 19:30:00   \n",
       "19476604                1026         1 - CLEAR 2023-04-01 09:48:00   \n",
       "19476605                1305         1 - CLEAR 2023-04-01 12:46:00   \n",
       "\n",
       "         Scene Cleared DateTime  Clearance_time_minutes  \n",
       "Crash ID                                                 \n",
       "19468595    2023-04-01 15:59:00                     0.0  \n",
       "19474485    2023-04-01 16:40:00                    56.0  \n",
       "19474684    2023-04-01 20:55:00                    85.0  \n",
       "19476604    2023-04-01 10:26:00                    38.0  \n",
       "19476605    2023-04-01 13:05:00                    19.0  "
      ]
     },
     "execution_count": 24,
     "metadata": {},
     "output_type": "execute_result"
    }
   ],
   "source": [
    "# Calculating median values for all available entries in \"Adjusted Average Daily Traffic Amount” column\n",
    "roadclass_median = df.groupby(\"Road Class\")[\"Adjusted Average Daily Traffic Amount\"].median()\n",
    "roadclass_median\n",
    "\n",
    "# Filling with NaN values using median\n",
    "df[\"Adjusted Average Daily Traffic Amount\"] = df.apply(lambda val: roadclass_median[val[\"Road Class\"]] \n",
    "if np.isnan(val[\"Adjusted Average Daily Traffic Amount\"]) \n",
    "else val[\"Adjusted Average Daily Traffic Amount\"], axis=1)\n",
    "\n",
    "# Counting the remaining NaN values\n",
    "nan_count = df['Adjusted Average Daily Traffic Amount'].isnull().sum()\n",
    "\n",
    "# Output\n",
    "print(f\"Number of instances with NaN values after imputation: {nan_count}\")\n",
    "df.head()"
   ]
  },
  {
   "cell_type": "markdown",
   "id": "0cadc51f-2da0-4abd-8735-14f38e5b730c",
   "metadata": {},
   "source": [
    "-----"
   ]
  },
  {
   "cell_type": "markdown",
   "id": "3f4996da-0ca0-4785-9b5f-b081343023cb",
   "metadata": {},
   "source": [
    "# Question 8\n",
    "Upon reviewing the rows with missing values, it is evident that the majority of them pertain to the “NON TRAFFIC” road class. This suggests that these entries are either for private roadways or parking lots. Therefore, it is reasonable to replace the zero adjusted average daily traffic for these entries. As a result, the remaining missing values in the “Adjusted Average Daily Traffic Amount” column should be replaced with zero. After making these replacements, please compute and enter the mean of this column, rounding your answer to two decimal places."
   ]
  },
  {
   "cell_type": "code",
   "execution_count": 25,
   "id": "3c6a6562-c6d6-4216-93c2-6bd4fb3d7f25",
   "metadata": {},
   "outputs": [
    {
     "name": "stdout",
     "output_type": "stream",
     "text": [
      "The mean of Adjusted Average Daily Traffic Amount is 36229.76\n"
     ]
    }
   ],
   "source": [
    "# Computing the mean of Adjusted Average Daily Traffic Amount after filling missing values with zero\n",
    "\n",
    "df[\"Adjusted Average Daily Traffic Amount\"] = df[\"Adjusted Average Daily Traffic Amount\"].fillna(0)\n",
    "df[\"Adjusted Average Daily Traffic Amount\"]\n",
    "\n",
    "b = df[df[\"Road Class\"] == \"OTHER ROADS\"][\"Adjusted Average Daily Traffic Amount\"]\n",
    "c = df[df[\"Road Class\"] == \"NON TRAFFICWAY\"][\"Adjusted Average Daily Traffic Amount\"]\n",
    "d = df[\"Adjusted Average Daily Traffic Amount\"].mean().round(2)\n",
    "\n",
    "#output\n",
    "print(f\"The mean of Adjusted Average Daily Traffic Amount is {d}\") "
   ]
  },
  {
   "cell_type": "markdown",
   "id": "c1162e0e-2752-4332-9b05-a46ee7378772",
   "metadata": {},
   "source": [
    "-----"
   ]
  },
  {
   "cell_type": "markdown",
   "id": "fb7a1def-64e2-41c4-bc75-f5f54cd548f5",
   "metadata": {},
   "source": [
    "# Question 9\n",
    "Now, let's shift our focus to the \"Road Class\" column. This column contains some categories with very few instances in the dataset. Increasing the dimensionality of the data frame may not always be the best approach. When there are only a few instances of a category, it may not significantly contribute to learning the data pattern. In such cases, we typically make a judgment call to sacrifice some of these categories in favor of reducing the number of categories in that column. We plan to address the \"Road Class\" column by replacing all categories with fewer than 10 instances with \"City STREET\". Complete the table below with the frequency of each class after the above data manipulation. For those classes that have been mapped, the frequency becomes 0.\n",
    "\n",
    "INTERSTATE: \n",
    "\n",
    "CITY STREET: \n",
    "\n",
    "US & STATE HIGHWAYS:\n",
    "\n",
    "FARM TO MARKET:\n",
    "\n",
    "NON TRAFFICWAY: \n",
    "\n",
    "OTHER ROADS: \n",
    "\n",
    "COUNTY ROAD:\n"
   ]
  },
  {
   "cell_type": "code",
   "execution_count": 26,
   "id": "692671df-8483-4b04-a601-564f16dd83f9",
   "metadata": {},
   "outputs": [
    {
     "data": {
      "text/plain": [
       "Road Class\n",
       "INTERSTATE             1189\n",
       "CITY STREET            1018\n",
       "US & STATE HIGHWAYS     861\n",
       "FARM TO MARKET          284\n",
       "NON TRAFFICWAY          254\n",
       "OTHER ROADS               1\n",
       "COUNTY ROAD               1\n",
       "Name: count, dtype: int64"
      ]
     },
     "execution_count": 26,
     "metadata": {},
     "output_type": "execute_result"
    }
   ],
   "source": [
    "frequency = df['Road Class'].value_counts()\n",
    "frequency"
   ]
  },
  {
   "cell_type": "code",
   "execution_count": 27,
   "id": "b8bb3683-0dd2-41f0-af11-cbfe46770628",
   "metadata": {},
   "outputs": [
    {
     "name": "stdout",
     "output_type": "stream",
     "text": [
      "Road Class\n",
      "INTERSTATE             1189\n",
      "CITY STREET            1020\n",
      "US & STATE HIGHWAYS     861\n",
      "FARM TO MARKET          284\n",
      "NON TRAFFICWAY          254\n",
      "Name: count, dtype: int64\n"
     ]
    }
   ],
   "source": [
    "# Counting the frequency of each category\n",
    "frequency = df['Road Class'].value_counts()\n",
    "\n",
    "# Replace categories with fewer than 10 instances\n",
    "low_frequency_classes = frequency[frequency < 10].index\n",
    "df.loc[df['Road Class'].isin(low_frequency_classes), 'Road Class'] = 'CITY STREET'\n",
    "\n",
    "# Counting the updated frequency\n",
    "upd_frequency = df['Road Class'].value_counts()\n",
    "\n",
    "# Print the updated frequency\n",
    "print(upd_frequency)"
   ]
  },
  {
   "cell_type": "markdown",
   "id": "837e886e-9ad9-4a29-bf8c-b15d9c6f3af3",
   "metadata": {},
   "source": [
    "------"
   ]
  },
  {
   "cell_type": "markdown",
   "id": "2b319dab-0ac3-4020-a0c1-6fe18b0b0b66",
   "metadata": {},
   "source": [
    "# Question 10\n",
    "What sentinel value is used to represent missing values under the column “Speed Limit”? Replace the sentinal value with np.nan."
   ]
  },
  {
   "cell_type": "code",
   "execution_count": 28,
   "id": "589dc066-31bc-4bbf-80c1-217ceafc0686",
   "metadata": {},
   "outputs": [
    {
     "name": "stdout",
     "output_type": "stream",
     "text": [
      "Crash ID\n",
      "19468595    50.0\n",
      "19474485    70.0\n",
      "19474684    30.0\n",
      "19476604    50.0\n",
      "19476605    40.0\n",
      "            ... \n",
      "20318138    70.0\n",
      "20323026    30.0\n",
      "20313710    30.0\n",
      "20313725    30.0\n",
      "20316856    30.0\n",
      "Name: Speed Limit, Length: 3608, dtype: float64\n"
     ]
    },
    {
     "data": {
      "text/plain": [
       "np.int64(143)"
      ]
     },
     "execution_count": 28,
     "metadata": {},
     "output_type": "execute_result"
    }
   ],
   "source": [
    "# -1 is sentinel value used to represent missing values under the column “Speed Limit”\n",
    "\n",
    "Speedlimit_missingvalues = [-1]\n",
    "\n",
    "# Replacing the sentinal value with np.nan\n",
    "\n",
    "df[\"Speed Limit\"] = df[\"Speed Limit\"].replace(Speedlimit_missingvalues, np.nan)\n",
    "print(df[\"Speed Limit\"])\n",
    "\n",
    "# Cross checking only the np.nan values\n",
    "e = df[\"Speed Limit\"].isna().sum()\n",
    "e"
   ]
  },
  {
   "cell_type": "markdown",
   "id": "8cf3ff6f-2935-4711-b9ea-ae263ee3fac2",
   "metadata": {},
   "source": [
    "-----"
   ]
  },
  {
   "cell_type": "markdown",
   "id": "9776fa4e-99e6-4d7c-aeee-6dc5a7a301fa",
   "metadata": {},
   "source": [
    "# Question 11\n",
    "Replace missing values in the “Speed Limit” column with the median speed limit for the corresponding “Road Class”, and then enter the mean of the “Speed Limit” column after the imputation. Enter the answer with two digits after the decimal point."
   ]
  },
  {
   "cell_type": "code",
   "execution_count": 29,
   "id": "dc8b1cc1-3747-4f56-abc1-fec0d4197b4a",
   "metadata": {},
   "outputs": [
    {
     "name": "stdout",
     "output_type": "stream",
     "text": [
      "The mean of the “Speed Limit” column after the imputation: 44.98\n"
     ]
    }
   ],
   "source": [
    "# Calculating median values for Speed Limit\n",
    "speedlimit_median = df.groupby(\"Road Class\")[\"Speed Limit\"].median()\n",
    "speedlimit_median\n",
    "\n",
    "# Filling NaN values with median\n",
    "df[\"Speed Limit\"] = df.apply(lambda val: speedlimit_median[val[\"Road Class\"]] \n",
    "if np.isnan(val[\"Speed Limit\"]) \n",
    "else val[\"Speed Limit\"], axis=1)\n",
    "\n",
    "# Calculating mean\n",
    "SpeedLimit_mean = df[\"Speed Limit\"].mean()\n",
    "\n",
    "# Output\n",
    "print(f\"The mean of the “Speed Limit” column after the imputation: {SpeedLimit_mean:.2f}\")"
   ]
  },
  {
   "cell_type": "markdown",
   "id": "9d8e1a28-97d9-4086-9055-330cab80506b",
   "metadata": {},
   "source": [
    "-----"
   ]
  },
  {
   "cell_type": "markdown",
   "id": "44ca1d30-8410-4912-926e-6c2db39d033a",
   "metadata": {},
   "source": [
    "# Question 12\n",
    "What is the best method for transforming the data in the “Road Class” column? Apply this transformation to the data frame.\n",
    "\n",
    "a.\tMap to ordinal values according to the frequency of each road class.\n",
    "\n",
    "b.\tReplace it with a one-hot vector of length 7.\n",
    "\n",
    "c.\tReplace it with a one-hot vector of length 5.\n",
    "\n",
    "d.\tMap to ordinal values according to the importance of the road class."
   ]
  },
  {
   "cell_type": "code",
   "execution_count": 30,
   "id": "40437792-c3a1-4e2d-9956-e0d5273ecc0e",
   "metadata": {},
   "outputs": [
    {
     "name": "stdout",
     "output_type": "stream",
     "text": [
      "          Adjusted Average Daily Traffic Amount    City  Crash Date  \\\n",
      "Crash ID                                                              \n",
      "19468595                                83664.0  DENTON  2023-04-01   \n",
      "19474485                                70137.0  DENTON  2023-04-01   \n",
      "19474684                                14489.0  DENTON  2023-04-01   \n",
      "19476604                                27522.0  DENTON  2023-04-01   \n",
      "19476605                                14489.0  DENTON  2023-04-01   \n",
      "\n",
      "               Crash Severity  Crash Time Date Scene Cleared  \\\n",
      "Crash ID                                                       \n",
      "19468595      N - NOT INJURED        1559         2023-04-01   \n",
      "19474485      N - NOT INJURED        1544         2023-04-01   \n",
      "19474684      N - NOT INJURED        1930         2023-04-01   \n",
      "19476604      N - NOT INJURED         948         2023-04-01   \n",
      "19476605  C - POSSIBLE INJURY        1246         2023-04-01   \n",
      "\n",
      "                                     Manner of Collision  \\\n",
      "Crash ID                                                   \n",
      "19468595  SAME DIRECTION - BOTH GOING STRAIGHT-SIDESWIPE   \n",
      "19474485  SAME DIRECTION - BOTH GOING STRAIGHT-SIDESWIPE   \n",
      "19474684              ONE MOTOR VEHICLE - GOING STRAIGHT   \n",
      "19476604             ANGLE - ONE STRAIGHT-ONE RIGHT TURN   \n",
      "19476605              ONE MOTOR VEHICLE - GOING STRAIGHT   \n",
      "\n",
      "                      Roadway Type  Speed Limit Surface Condition  \\\n",
      "Crash ID                                                            \n",
      "19468595  4 OR MORE LANES, DIVIDED         50.0           1 - DRY   \n",
      "19474485  4 OR MORE LANES, DIVIDED         70.0           1 - DRY   \n",
      "19474684                   No Data         30.0           1 - DRY   \n",
      "19476604  4 OR MORE LANES, DIVIDED         50.0           1 - DRY   \n",
      "19476605                   No Data         40.0           1 - DRY   \n",
      "\n",
      "          Time Scene Cleared Weather Condition     Crash_date_time  \\\n",
      "Crash ID                                                             \n",
      "19468595                1559         1 - CLEAR 2023-04-01 15:59:00   \n",
      "19474485                1640         1 - CLEAR 2023-04-01 15:44:00   \n",
      "19474684                2055         1 - CLEAR 2023-04-01 19:30:00   \n",
      "19476604                1026         1 - CLEAR 2023-04-01 09:48:00   \n",
      "19476605                1305         1 - CLEAR 2023-04-01 12:46:00   \n",
      "\n",
      "         Scene Cleared DateTime  Clearance_time_minutes  \\\n",
      "Crash ID                                                  \n",
      "19468595    2023-04-01 15:59:00                     0.0   \n",
      "19474485    2023-04-01 16:40:00                    56.0   \n",
      "19474684    2023-04-01 20:55:00                    85.0   \n",
      "19476604    2023-04-01 10:26:00                    38.0   \n",
      "19476605    2023-04-01 13:05:00                    19.0   \n",
      "\n",
      "          Road Class_CITY STREET  Road Class_FARM TO MARKET  \\\n",
      "Crash ID                                                      \n",
      "19468595                   False                      False   \n",
      "19474485                   False                      False   \n",
      "19474684                    True                      False   \n",
      "19476604                   False                      False   \n",
      "19476605                    True                      False   \n",
      "\n",
      "          Road Class_INTERSTATE  Road Class_NON TRAFFICWAY  \\\n",
      "Crash ID                                                     \n",
      "19468595                   True                      False   \n",
      "19474485                   True                      False   \n",
      "19474684                  False                      False   \n",
      "19476604                  False                      False   \n",
      "19476605                  False                      False   \n",
      "\n",
      "          Road Class_US & STATE HIGHWAYS  \n",
      "Crash ID                                  \n",
      "19468595                           False  \n",
      "19474485                           False  \n",
      "19474684                           False  \n",
      "19476604                            True  \n",
      "19476605                           False  \n"
     ]
    }
   ],
   "source": [
    "# Replacing the 'Road Class' column with one-hot encoding\n",
    "df = pd.get_dummies(df, columns=[\"Road Class\"], prefix=\"Road Class\")\n",
    "\n",
    "# Checking the new DataFrame with one-hot encoded columns\n",
    "print(df.head())"
   ]
  },
  {
   "cell_type": "code",
   "execution_count": 31,
   "id": "b4bd3ce2-2d07-4398-bbab-bbdcba6533b8",
   "metadata": {},
   "outputs": [
    {
     "name": "stdout",
     "output_type": "stream",
     "text": [
      "<class 'pandas.core.frame.DataFrame'>\n",
      "Index: 3608 entries, 19468595 to 20316856\n",
      "Data columns (total 20 columns):\n",
      " #   Column                                 Non-Null Count  Dtype         \n",
      "---  ------                                 --------------  -----         \n",
      " 0   Adjusted Average Daily Traffic Amount  3608 non-null   float64       \n",
      " 1   City                                   3608 non-null   object        \n",
      " 2   Crash Date                             3608 non-null   object        \n",
      " 3   Crash Severity                         3608 non-null   object        \n",
      " 4   Crash Time                             3608 non-null   int64         \n",
      " 5   Date Scene Cleared                     3608 non-null   object        \n",
      " 6   Manner of Collision                    3608 non-null   object        \n",
      " 7   Roadway Type                           3608 non-null   object        \n",
      " 8   Speed Limit                            3608 non-null   float64       \n",
      " 9   Surface Condition                      3608 non-null   object        \n",
      " 10  Time Scene Cleared                     3608 non-null   int64         \n",
      " 11  Weather Condition                      3608 non-null   object        \n",
      " 12  Crash_date_time                        3608 non-null   datetime64[ns]\n",
      " 13  Scene Cleared DateTime                 3608 non-null   datetime64[ns]\n",
      " 14  Clearance_time_minutes                 3608 non-null   float64       \n",
      " 15  Road Class_CITY STREET                 3608 non-null   bool          \n",
      " 16  Road Class_FARM TO MARKET              3608 non-null   bool          \n",
      " 17  Road Class_INTERSTATE                  3608 non-null   bool          \n",
      " 18  Road Class_NON TRAFFICWAY              3608 non-null   bool          \n",
      " 19  Road Class_US & STATE HIGHWAYS         3608 non-null   bool          \n",
      "dtypes: bool(5), datetime64[ns](2), float64(3), int64(2), object(8)\n",
      "memory usage: 468.6+ KB\n"
     ]
    }
   ],
   "source": [
    "df.info()"
   ]
  },
  {
   "cell_type": "markdown",
   "id": "8663e8bc-37eb-4e15-b3db-dd2c32216988",
   "metadata": {},
   "source": [
    "----"
   ]
  },
  {
   "cell_type": "markdown",
   "id": "183d4c54-8d2e-4bb8-8dce-2fa004094fd5",
   "metadata": {},
   "source": [
    "# Question 13\n",
    "The next column with a significant number of missing values is \"Roadway Type\". We will explore an alternative method to address the missing values for this column. Instead of using the information from available values in this column to impute the missing values, we will create a new category called \"OTHER\" and replace all np.nan and \"No Data\" values with \"OTHER\". Please fill in the following table to demonstrate the frequency of each category in this column.\n",
    "\n",
    "4 OR MORE LANES, DIVIDED: \n",
    "\n",
    "4 OR MORE LANES, UNDIVIDED:\n",
    "\n",
    "2 LANE, 2 WAY:\n",
    "\n",
    "OTHER:\n"
   ]
  },
  {
   "cell_type": "code",
   "execution_count": 32,
   "id": "cf60267f-4935-43b3-853b-c96d1562b8a0",
   "metadata": {},
   "outputs": [
    {
     "data": {
      "text/plain": [
       "array(['4 OR MORE LANES, DIVIDED', 'No Data', '2 LANE, 2 WAY',\n",
       "       '4 OR MORE LANES, UNDIVIDED'], dtype=object)"
      ]
     },
     "execution_count": 32,
     "metadata": {},
     "output_type": "execute_result"
    }
   ],
   "source": [
    "df['Roadway Type'].unique()"
   ]
  },
  {
   "cell_type": "code",
   "execution_count": 33,
   "id": "9b9a4b79-f669-4bcc-aa14-1f48f75b02af",
   "metadata": {},
   "outputs": [
    {
     "name": "stdout",
     "output_type": "stream",
     "text": [
      "Roadway Type\n",
      "4 OR MORE LANES, DIVIDED      1776\n",
      "OTHER                         1379\n",
      "4 OR MORE LANES, UNDIVIDED     267\n",
      "2 LANE, 2 WAY                  186\n",
      "Name: count, dtype: int64\n"
     ]
    }
   ],
   "source": [
    "# Replace 'No Data' with np.nan\n",
    "df.replace({'Roadway Type': { 'No Data': np.nan }}, inplace=True)\n",
    "\n",
    "# Replace np.nan with \"OTHER\"\n",
    "df.fillna({'Roadway Type':'OTHER'}, inplace=True)\n",
    "\n",
    "# Check the updated unique values in the \"Roadway Type\" column\n",
    "print(df['Roadway Type'].value_counts())"
   ]
  },
  {
   "cell_type": "raw",
   "id": "a0388146-8e72-4779-9888-ef832bb17bc3",
   "metadata": {},
   "source": [
    "# Replacing 'No Data' with np.nan\n",
    "df.replace({\"Roadway Type\": { \"No Data\": np.nan }}, inplace=True)\n",
    "\n",
    "# Replacing np.nan with \"OTHER\"\n",
    "df.fillna({\"Roadway Type\":\"OTHER\"}, inplace=True)\n",
    "\n",
    "# Checking the updated unique values in the \"Roadway Type\" column\n",
    "print(df[\"Roadway Type\"].value_counts())"
   ]
  },
  {
   "cell_type": "markdown",
   "id": "4f9842da-6877-4c5e-855a-2c11c88eb5de",
   "metadata": {},
   "source": [
    "---"
   ]
  },
  {
   "cell_type": "markdown",
   "id": "18996772-bbb8-4b42-be10-a45d77d3f2eb",
   "metadata": {},
   "source": [
    "# Question 14\n",
    "Choose and apply the proper data transformation on values in column “Roadway Type”.\n",
    "\n",
    "a.\tReplace it with a one-hot vector of length 4.\n",
    "\n",
    "b.\tMap values as follows: “4 OR MORE LANES, DIVIDED” to 2, “4 OR MORE LANES, UNDIVIDED” to 1, and “2 LANE, 2 WAY” to 0.\n",
    "\n",
    "c.\tReplace it with a one-hot vector of length 3.\n",
    "\n",
    "d.\tMap values as follows: “4 OR MORE LANES, DIVIDED” to 3, “4 OR MORE LANES, UNDIVIDED” to 1, “2 LANE, 2 WAY” to 1, and “OTHER” to 0.\n"
   ]
  },
  {
   "cell_type": "code",
   "execution_count": 34,
   "id": "f6038523-75ea-4192-857c-d011246b761c",
   "metadata": {},
   "outputs": [],
   "source": [
    "df = pd.get_dummies(df, columns=['Roadway Type'], prefix='Roadway Type')"
   ]
  },
  {
   "cell_type": "code",
   "execution_count": 35,
   "id": "863634fa-692b-442b-af1b-11b4672c6a5e",
   "metadata": {},
   "outputs": [
    {
     "name": "stdout",
     "output_type": "stream",
     "text": [
      "<class 'pandas.core.frame.DataFrame'>\n",
      "Index: 3608 entries, 19468595 to 20316856\n",
      "Data columns (total 23 columns):\n",
      " #   Column                                   Non-Null Count  Dtype         \n",
      "---  ------                                   --------------  -----         \n",
      " 0   Adjusted Average Daily Traffic Amount    3608 non-null   float64       \n",
      " 1   City                                     3608 non-null   object        \n",
      " 2   Crash Date                               3608 non-null   object        \n",
      " 3   Crash Severity                           3608 non-null   object        \n",
      " 4   Crash Time                               3608 non-null   int64         \n",
      " 5   Date Scene Cleared                       3608 non-null   object        \n",
      " 6   Manner of Collision                      3608 non-null   object        \n",
      " 7   Speed Limit                              3608 non-null   float64       \n",
      " 8   Surface Condition                        3608 non-null   object        \n",
      " 9   Time Scene Cleared                       3608 non-null   int64         \n",
      " 10  Weather Condition                        3608 non-null   object        \n",
      " 11  Crash_date_time                          3608 non-null   datetime64[ns]\n",
      " 12  Scene Cleared DateTime                   3608 non-null   datetime64[ns]\n",
      " 13  Clearance_time_minutes                   3608 non-null   float64       \n",
      " 14  Road Class_CITY STREET                   3608 non-null   bool          \n",
      " 15  Road Class_FARM TO MARKET                3608 non-null   bool          \n",
      " 16  Road Class_INTERSTATE                    3608 non-null   bool          \n",
      " 17  Road Class_NON TRAFFICWAY                3608 non-null   bool          \n",
      " 18  Road Class_US & STATE HIGHWAYS           3608 non-null   bool          \n",
      " 19  Roadway Type_2 LANE, 2 WAY               3608 non-null   bool          \n",
      " 20  Roadway Type_4 OR MORE LANES, DIVIDED    3608 non-null   bool          \n",
      " 21  Roadway Type_4 OR MORE LANES, UNDIVIDED  3608 non-null   bool          \n",
      " 22  Roadway Type_OTHER                       3608 non-null   bool          \n",
      "dtypes: bool(9), datetime64[ns](2), float64(3), int64(2), object(7)\n",
      "memory usage: 454.5+ KB\n"
     ]
    }
   ],
   "source": [
    "# Check the updated DataFrame with one-hot encoded columns\n",
    "df.info()"
   ]
  },
  {
   "cell_type": "raw",
   "id": "152b5b83-3e77-4755-896f-9a1fc08c96ca",
   "metadata": {},
   "source": [
    "# Replacing  with a one-hot vector of length 4\n",
    "df = pd.get_dummies(df, columns=[\"Roadway Type\"], prefix=\"Roadway Type\")"
   ]
  },
  {
   "cell_type": "raw",
   "id": "39878581-baff-461a-a8f5-cea47a1d0604",
   "metadata": {},
   "source": [
    "df.info()"
   ]
  },
  {
   "cell_type": "markdown",
   "id": "8548a2eb-ee8e-41c5-975c-06594066d77e",
   "metadata": {},
   "source": [
    "----"
   ]
  },
  {
   "cell_type": "markdown",
   "id": "8e6456c8-45ec-4936-bb68-9c7d33e59dba",
   "metadata": {},
   "source": [
    "# Question 15\n",
    "What would be an appropriate preprocessing approach for the column City. Apply it to the data frame.\n",
    "\n",
    "a.\tReplace it with a one-hot vector of length 2.\n",
    "\n",
    "b.\tMap “DENTON” to 1 and “OTHER” to 0.\n",
    "\n",
    "c.\tReplace it with a one-hot vector of length 1.\n",
    "\n",
    "d.\tDrop this column.\n"
   ]
  },
  {
   "cell_type": "code",
   "execution_count": 36,
   "id": "d83502f5-84ff-4771-b550-3f180b40c5c1",
   "metadata": {},
   "outputs": [
    {
     "data": {
      "text/plain": [
       "array(['DENTON'], dtype=object)"
      ]
     },
     "execution_count": 36,
     "metadata": {},
     "output_type": "execute_result"
    }
   ],
   "source": [
    "# drop the column\n",
    "df['City'].unique()"
   ]
  },
  {
   "cell_type": "code",
   "execution_count": 37,
   "id": "75181a22-e067-40e5-bd0b-8908bf2dd787",
   "metadata": {},
   "outputs": [],
   "source": [
    "df.drop(columns=['City'], inplace=True)"
   ]
  },
  {
   "cell_type": "code",
   "execution_count": 38,
   "id": "80ba611f-e3bd-4f88-9ceb-2f8d69869cb1",
   "metadata": {},
   "outputs": [
    {
     "name": "stdout",
     "output_type": "stream",
     "text": [
      "<class 'pandas.core.frame.DataFrame'>\n",
      "Index: 3608 entries, 19468595 to 20316856\n",
      "Data columns (total 22 columns):\n",
      " #   Column                                   Non-Null Count  Dtype         \n",
      "---  ------                                   --------------  -----         \n",
      " 0   Adjusted Average Daily Traffic Amount    3608 non-null   float64       \n",
      " 1   Crash Date                               3608 non-null   object        \n",
      " 2   Crash Severity                           3608 non-null   object        \n",
      " 3   Crash Time                               3608 non-null   int64         \n",
      " 4   Date Scene Cleared                       3608 non-null   object        \n",
      " 5   Manner of Collision                      3608 non-null   object        \n",
      " 6   Speed Limit                              3608 non-null   float64       \n",
      " 7   Surface Condition                        3608 non-null   object        \n",
      " 8   Time Scene Cleared                       3608 non-null   int64         \n",
      " 9   Weather Condition                        3608 non-null   object        \n",
      " 10  Crash_date_time                          3608 non-null   datetime64[ns]\n",
      " 11  Scene Cleared DateTime                   3608 non-null   datetime64[ns]\n",
      " 12  Clearance_time_minutes                   3608 non-null   float64       \n",
      " 13  Road Class_CITY STREET                   3608 non-null   bool          \n",
      " 14  Road Class_FARM TO MARKET                3608 non-null   bool          \n",
      " 15  Road Class_INTERSTATE                    3608 non-null   bool          \n",
      " 16  Road Class_NON TRAFFICWAY                3608 non-null   bool          \n",
      " 17  Road Class_US & STATE HIGHWAYS           3608 non-null   bool          \n",
      " 18  Roadway Type_2 LANE, 2 WAY               3608 non-null   bool          \n",
      " 19  Roadway Type_4 OR MORE LANES, DIVIDED    3608 non-null   bool          \n",
      " 20  Roadway Type_4 OR MORE LANES, UNDIVIDED  3608 non-null   bool          \n",
      " 21  Roadway Type_OTHER                       3608 non-null   bool          \n",
      "dtypes: bool(9), datetime64[ns](2), float64(3), int64(2), object(6)\n",
      "memory usage: 426.3+ KB\n"
     ]
    }
   ],
   "source": [
    "df.info()"
   ]
  },
  {
   "cell_type": "markdown",
   "id": "1693ad9b-3efa-46f9-836a-af32961a411a",
   "metadata": {},
   "source": [
    "---"
   ]
  },
  {
   "cell_type": "markdown",
   "id": "009f4f12-b6e3-4207-acc4-a19c9f4d71f9",
   "metadata": {},
   "source": [
    "# Question 16\n",
    "What is the proper data transformation for the column Crash Severity. Apply your choice to the data frame.\n",
    "                                      \n",
    "a.\tMap: K - FATAL INJURY to 5, A - SUSPECTED SERIOUS INJURY to 4, C - POSSIBLE INJURY to 3, B - SUSPECTED MINOR INJURY to 2, 99 - UNKNOWN to 1, and N - NOT INJURED to 0.\n",
    "    \n",
    "b.\tMap: N - NOT INJURED to 5, B - SUSPECTED MINOR INJURY to 4, C - POSSIBLE INJURY to 3, 99 - UNKNOWN to 2, A - SUSPECTED SERIOUS INJURY to 1, K - FATAL INJURY to 0.\n",
    "    \n",
    "c.\tTo avoid increasing dimensionality, map N - NOT INJURED to 1 and all other categories to 0.\n"
   ]
  },
  {
   "cell_type": "code",
   "execution_count": 39,
   "id": "dc1684dd-7832-4e08-b8c7-54db5504e9c1",
   "metadata": {},
   "outputs": [
    {
     "data": {
      "text/plain": [
       "Crash ID\n",
       "19468595    0\n",
       "19474485    0\n",
       "19474684    0\n",
       "19476604    0\n",
       "19476605    3\n",
       "           ..\n",
       "20318138    0\n",
       "20323026    0\n",
       "20313710    0\n",
       "20313725    0\n",
       "20316856    0\n",
       "Name: Crash Severity, Length: 3608, dtype: int64"
      ]
     },
     "execution_count": 39,
     "metadata": {},
     "output_type": "execute_result"
    }
   ],
   "source": [
    "# Transforming data using Map: K - FATAL INJURY to 5, A - SUSPECTED SERIOUS INJURY to 4, C - POSSIBLE INJURY to 3, B - SUSPECTED MINOR INJURY to 2, 99 - UNKNOWN to 1, and N - NOT INJURED to 0.\n",
    "mapping_severity = {\n",
    "    \"K - FATAL INJURY\": 5,\n",
    "    \"A - SUSPECTED SERIOUS INJURY\": 4,\n",
    "    \"C - POSSIBLE INJURY\": 3,\n",
    "    \"B - SUSPECTED MINOR INJURY\": 2,\n",
    "    \"99 - UNKNOWN\": 1,\n",
    "    \"N - NOT INJURED\": 0\n",
    "}\n",
    "\n",
    "# Applying above mapping\n",
    "df[\"Crash Severity\"] = df[\"Crash Severity\"].map(mapping_severity)\n",
    "df[\"Crash Severity\"]"
   ]
  },
  {
   "cell_type": "markdown",
   "id": "4c4a80be-20cd-4737-b8ef-aa69982ce797",
   "metadata": {},
   "source": [
    "----"
   ]
  },
  {
   "cell_type": "markdown",
   "id": "22c9b9c6-99f3-4c97-91b4-cea532c97935",
   "metadata": {},
   "source": [
    "# Question 17\n",
    "When examining the values in the Manner of Collision column, it becomes apparent that there are 36 unique values. As we discussed in class, it would generally be best to replace this column with a one-hot vector of length 36. However, this approach would significantly increase the dimensionality of the data frame, which could impact the overall behavior of the data points in higher dimensions. To avoid these potential issues, we will only consider the top-level manner of collision. Upon reviewing the values, it becomes clear that the description before the dash represents the top-level description. After this process, determine and apply the appropriate data transformation to the resulting column.\n",
    "    \n",
    "a.\tReplace it with a one-hot vector of length 6.\n",
    "\n",
    "b.\tMap: ‘SAME DIRECTION’ to 4, ‘ANGLE’ to 3, ‘ONE MOTOR VEHICLE’ to 2, ‘OPPOSITE DIRECTION’ to 1, and ‘OTHER’ to 0.\n",
    "    \n",
    "c.\tMap: ‘SAME DIRECTION’ to 0, ‘ONE MOTOR VEHICLE’ to 1, ‘ANGLE’ to 2, ‘OPPOSITE DIRECTION’ to 3, ‘OTHER’ to 4.\n",
    "    \n",
    "d.\tReplace it with a one-hot vector of length 5.\n"
   ]
  },
  {
   "cell_type": "code",
   "execution_count": 40,
   "id": "e7cc9d4b-3e5d-4a69-b47e-e99846079a33",
   "metadata": {},
   "outputs": [],
   "source": [
    "# Top-level description\n",
    "df[\"Manner of Collision\"] = df[\"Manner of Collision\"].apply(lambda x: x.split('-')[0].strip())"
   ]
  },
  {
   "cell_type": "code",
   "execution_count": 41,
   "id": "021abbfe-7efc-416f-b85f-17497663072a",
   "metadata": {},
   "outputs": [],
   "source": [
    "# Replacing  with a one-hot vector of length 5\n",
    "df = pd.get_dummies(df, columns=[\"Manner of Collision\"], prefix=\"Manner of Collision\")"
   ]
  },
  {
   "cell_type": "code",
   "execution_count": 42,
   "id": "b04a44df-4f4c-4596-a25a-ff1986e29bcd",
   "metadata": {},
   "outputs": [
    {
     "name": "stdout",
     "output_type": "stream",
     "text": [
      "<class 'pandas.core.frame.DataFrame'>\n",
      "Index: 3608 entries, 19468595 to 20316856\n",
      "Data columns (total 26 columns):\n",
      " #   Column                                   Non-Null Count  Dtype         \n",
      "---  ------                                   --------------  -----         \n",
      " 0   Adjusted Average Daily Traffic Amount    3608 non-null   float64       \n",
      " 1   Crash Date                               3608 non-null   object        \n",
      " 2   Crash Severity                           3608 non-null   int64         \n",
      " 3   Crash Time                               3608 non-null   int64         \n",
      " 4   Date Scene Cleared                       3608 non-null   object        \n",
      " 5   Speed Limit                              3608 non-null   float64       \n",
      " 6   Surface Condition                        3608 non-null   object        \n",
      " 7   Time Scene Cleared                       3608 non-null   int64         \n",
      " 8   Weather Condition                        3608 non-null   object        \n",
      " 9   Crash_date_time                          3608 non-null   datetime64[ns]\n",
      " 10  Scene Cleared DateTime                   3608 non-null   datetime64[ns]\n",
      " 11  Clearance_time_minutes                   3608 non-null   float64       \n",
      " 12  Road Class_CITY STREET                   3608 non-null   bool          \n",
      " 13  Road Class_FARM TO MARKET                3608 non-null   bool          \n",
      " 14  Road Class_INTERSTATE                    3608 non-null   bool          \n",
      " 15  Road Class_NON TRAFFICWAY                3608 non-null   bool          \n",
      " 16  Road Class_US & STATE HIGHWAYS           3608 non-null   bool          \n",
      " 17  Roadway Type_2 LANE, 2 WAY               3608 non-null   bool          \n",
      " 18  Roadway Type_4 OR MORE LANES, DIVIDED    3608 non-null   bool          \n",
      " 19  Roadway Type_4 OR MORE LANES, UNDIVIDED  3608 non-null   bool          \n",
      " 20  Roadway Type_OTHER                       3608 non-null   bool          \n",
      " 21  Manner of Collision_ANGLE                3608 non-null   bool          \n",
      " 22  Manner of Collision_ONE MOTOR VEHICLE    3608 non-null   bool          \n",
      " 23  Manner of Collision_OPPOSITE DIRECTION   3608 non-null   bool          \n",
      " 24  Manner of Collision_OTHER                3608 non-null   bool          \n",
      " 25  Manner of Collision_SAME DIRECTION       3608 non-null   bool          \n",
      "dtypes: bool(14), datetime64[ns](2), float64(3), int64(3), object(4)\n",
      "memory usage: 415.8+ KB\n"
     ]
    }
   ],
   "source": [
    "df.info()"
   ]
  },
  {
   "cell_type": "markdown",
   "id": "90304338-d54d-40a7-a11a-93aadd6c72aa",
   "metadata": {},
   "source": [
    "----"
   ]
  },
  {
   "cell_type": "markdown",
   "id": "e0d96339-e98a-47c6-a24e-e0dd8d7281fc",
   "metadata": {},
   "source": [
    "# Question 18\n",
    "Add a new column, \"Day of Week,\" which extracts the day name(Monday, Tuesday, ...) from the \"Crash Date\" column. What would be the appropriate data transformation that can be applied to this column? Apply it to the data frame.\n",
    "\n",
    "a.\tOne-hot vector of length 7.\n",
    "\n",
    "b.\tDrop this column.\n",
    "\n",
    "c.\tMap to ordinal values 0 to 6.\n",
    "\n",
    "d.\tMap to ordinal values 0, to 7\n"
   ]
  },
  {
   "cell_type": "code",
   "execution_count": 43,
   "id": "373f08fc-c79f-42e7-9ac5-3eeed8cb0377",
   "metadata": {},
   "outputs": [
    {
     "data": {
      "text/plain": [
       "Crash ID\n",
       "19468595    2023-04-01\n",
       "19474485    2023-04-01\n",
       "19474684    2023-04-01\n",
       "19476604    2023-04-01\n",
       "19476605    2023-04-01\n",
       "               ...    \n",
       "20318138    2024-07-30\n",
       "20323026    2024-07-30\n",
       "20313710    2024-07-31\n",
       "20313725    2024-07-31\n",
       "20316856    2024-07-31\n",
       "Name: Crash Date, Length: 3608, dtype: object"
      ]
     },
     "execution_count": 43,
     "metadata": {},
     "output_type": "execute_result"
    }
   ],
   "source": [
    "# One-hot vector of length 7\n",
    "df['Crash Date']"
   ]
  },
  {
   "cell_type": "code",
   "execution_count": 44,
   "id": "05a80395-3fcc-4746-b442-5ae7b19f700b",
   "metadata": {},
   "outputs": [],
   "source": [
    "# Convert 'Crash Date' to datetime\n",
    "df['Crash Date'] = pd.to_datetime(df['Crash Date'])\n",
    "\n",
    "# Extract the day of the week\n",
    "df['Day of Week'] = df['Crash Date'].dt.day_name()\n",
    "\n",
    "# Apply appropriate data transformation (one-hot encoding)\n",
    "df = pd.get_dummies(df, columns=['Day of Week'], prefix='Day')"
   ]
  },
  {
   "cell_type": "code",
   "execution_count": 45,
   "id": "e56e446b-07c0-417c-b0c8-69bd11871651",
   "metadata": {},
   "outputs": [
    {
     "name": "stdout",
     "output_type": "stream",
     "text": [
      "<class 'pandas.core.frame.DataFrame'>\n",
      "Index: 3608 entries, 19468595 to 20316856\n",
      "Data columns (total 33 columns):\n",
      " #   Column                                   Non-Null Count  Dtype         \n",
      "---  ------                                   --------------  -----         \n",
      " 0   Adjusted Average Daily Traffic Amount    3608 non-null   float64       \n",
      " 1   Crash Date                               3608 non-null   datetime64[ns]\n",
      " 2   Crash Severity                           3608 non-null   int64         \n",
      " 3   Crash Time                               3608 non-null   int64         \n",
      " 4   Date Scene Cleared                       3608 non-null   object        \n",
      " 5   Speed Limit                              3608 non-null   float64       \n",
      " 6   Surface Condition                        3608 non-null   object        \n",
      " 7   Time Scene Cleared                       3608 non-null   int64         \n",
      " 8   Weather Condition                        3608 non-null   object        \n",
      " 9   Crash_date_time                          3608 non-null   datetime64[ns]\n",
      " 10  Scene Cleared DateTime                   3608 non-null   datetime64[ns]\n",
      " 11  Clearance_time_minutes                   3608 non-null   float64       \n",
      " 12  Road Class_CITY STREET                   3608 non-null   bool          \n",
      " 13  Road Class_FARM TO MARKET                3608 non-null   bool          \n",
      " 14  Road Class_INTERSTATE                    3608 non-null   bool          \n",
      " 15  Road Class_NON TRAFFICWAY                3608 non-null   bool          \n",
      " 16  Road Class_US & STATE HIGHWAYS           3608 non-null   bool          \n",
      " 17  Roadway Type_2 LANE, 2 WAY               3608 non-null   bool          \n",
      " 18  Roadway Type_4 OR MORE LANES, DIVIDED    3608 non-null   bool          \n",
      " 19  Roadway Type_4 OR MORE LANES, UNDIVIDED  3608 non-null   bool          \n",
      " 20  Roadway Type_OTHER                       3608 non-null   bool          \n",
      " 21  Manner of Collision_ANGLE                3608 non-null   bool          \n",
      " 22  Manner of Collision_ONE MOTOR VEHICLE    3608 non-null   bool          \n",
      " 23  Manner of Collision_OPPOSITE DIRECTION   3608 non-null   bool          \n",
      " 24  Manner of Collision_OTHER                3608 non-null   bool          \n",
      " 25  Manner of Collision_SAME DIRECTION       3608 non-null   bool          \n",
      " 26  Day_Friday                               3608 non-null   bool          \n",
      " 27  Day_Monday                               3608 non-null   bool          \n",
      " 28  Day_Saturday                             3608 non-null   bool          \n",
      " 29  Day_Sunday                               3608 non-null   bool          \n",
      " 30  Day_Thursday                             3608 non-null   bool          \n",
      " 31  Day_Tuesday                              3608 non-null   bool          \n",
      " 32  Day_Wednesday                            3608 non-null   bool          \n",
      "dtypes: bool(21), datetime64[ns](3), float64(3), int64(3), object(3)\n",
      "memory usage: 440.4+ KB\n"
     ]
    }
   ],
   "source": [
    "df.info()"
   ]
  },
  {
   "cell_type": "markdown",
   "id": "c0af03c2-b8e1-4889-8453-a6e7bad5cd42",
   "metadata": {},
   "source": [
    "----"
   ]
  },
  {
   "cell_type": "markdown",
   "id": "fa492950-4660-4721-8cb6-c822c0c61a18",
   "metadata": {},
   "source": [
    "# Question 19\n",
    "1.\tWe need to create a new column called \"Time of Day\" based on the values in the \"Crash Time\" column. The \"Time of Day\" column will contain the values \"Morning Rush Hour\", \"Evening Rush Hour\", and \"Other\". The time ranges for the morning and evening rush hours are as follows:\n",
    "\n",
    "  o\tMorning Rush Hour: 7:00 AM to 9:00 AM\n",
    "\n",
    "  o\tEvening Rush Hour: 4:00 PM to 6:00 PM\n",
    "\n",
    "  o\tOther: All other times\n",
    "\n",
    "The next step involves transforming the \"Time of Day\" column appropriately. Choose and apply the correct data transformation method for this column:\n",
    "\n",
    "a.\tMap values as follows: \"Morning Rush Hour\" to -1, \"Other\" to 0, and \"Evening Rush Hour\" to 1.\n",
    "\n",
    "b.\tMap values as follows: \"Other\" to 0, \"Morning Rush Hour\" to 1, \"Evening Rush Hour\" to 2.\n",
    "\n",
    "c.\tReplace it with a one-hot vector of length 3.\n",
    "\n",
    "d.\tMap the values as follows: \"Morning Rush Hour\" to 0, \"Evening Rush Hour\" to 1, and \"Other\" to 2.\n"
   ]
  },
  {
   "cell_type": "code",
   "execution_count": 46,
   "id": "c52a948f-9d01-4372-b017-6a431db19233",
   "metadata": {},
   "outputs": [
    {
     "data": {
      "text/plain": [
       "Time of Day\n",
       "Other                2609\n",
       "Evening Rush Hour     652\n",
       "Morning Rush Hour     347\n",
       "Name: count, dtype: int64"
      ]
     },
     "execution_count": 46,
     "metadata": {},
     "output_type": "execute_result"
    }
   ],
   "source": [
    "# Convert 'Crash Time' to a string format with leading zeros\n",
    "df [\"Crash Time\"] = df[\"Crash Time\"].astype(str).str.zfill(4)\n",
    "\n",
    "# Define a function to categorize time of day\n",
    "def categorize_time_of_day (time_str):\n",
    "    hour = int(time_str) # Get the hour\n",
    "    minute = int(time_str) # Get the minute\n",
    "\n",
    "    if 700 <=  hour <= 900 : # Morning Rush Hour (7 AM to 9 AM)\n",
    "        return \"Morning Rush Hour\"\n",
    "    elif 1600 <= hour <= 1800: # Evening Rush Hour (4 PM to 6 PM)\n",
    "        return \"Evening Rush Hour\" \n",
    "    else:\n",
    "        return \"Other\"\n",
    "# Apply the function to create the 'Time of Day' column using Replace it with a one-hot vector of length 3.\n",
    "df[\"Time of Day\"] = df[\"Crash Time\"].apply(categorize_time_of_day)\n",
    "df[\"Time of Day\"].value_counts()"
   ]
  },
  {
   "cell_type": "code",
   "execution_count": 47,
   "id": "f10ea553-5263-4495-af50-d78f11b5e086",
   "metadata": {},
   "outputs": [],
   "source": [
    "# Replacing  with a one-hot vector of length 3\n",
    "df = pd.get_dummies(df, columns=[\"Time of Day\"], prefix=\"Time of Day\")"
   ]
  },
  {
   "cell_type": "code",
   "execution_count": 48,
   "id": "e22f7982-e695-4419-890e-4e4e93aa045e",
   "metadata": {},
   "outputs": [
    {
     "name": "stdout",
     "output_type": "stream",
     "text": [
      "<class 'pandas.core.frame.DataFrame'>\n",
      "Index: 3608 entries, 19468595 to 20316856\n",
      "Data columns (total 36 columns):\n",
      " #   Column                                   Non-Null Count  Dtype         \n",
      "---  ------                                   --------------  -----         \n",
      " 0   Adjusted Average Daily Traffic Amount    3608 non-null   float64       \n",
      " 1   Crash Date                               3608 non-null   datetime64[ns]\n",
      " 2   Crash Severity                           3608 non-null   int64         \n",
      " 3   Crash Time                               3608 non-null   object        \n",
      " 4   Date Scene Cleared                       3608 non-null   object        \n",
      " 5   Speed Limit                              3608 non-null   float64       \n",
      " 6   Surface Condition                        3608 non-null   object        \n",
      " 7   Time Scene Cleared                       3608 non-null   int64         \n",
      " 8   Weather Condition                        3608 non-null   object        \n",
      " 9   Crash_date_time                          3608 non-null   datetime64[ns]\n",
      " 10  Scene Cleared DateTime                   3608 non-null   datetime64[ns]\n",
      " 11  Clearance_time_minutes                   3608 non-null   float64       \n",
      " 12  Road Class_CITY STREET                   3608 non-null   bool          \n",
      " 13  Road Class_FARM TO MARKET                3608 non-null   bool          \n",
      " 14  Road Class_INTERSTATE                    3608 non-null   bool          \n",
      " 15  Road Class_NON TRAFFICWAY                3608 non-null   bool          \n",
      " 16  Road Class_US & STATE HIGHWAYS           3608 non-null   bool          \n",
      " 17  Roadway Type_2 LANE, 2 WAY               3608 non-null   bool          \n",
      " 18  Roadway Type_4 OR MORE LANES, DIVIDED    3608 non-null   bool          \n",
      " 19  Roadway Type_4 OR MORE LANES, UNDIVIDED  3608 non-null   bool          \n",
      " 20  Roadway Type_OTHER                       3608 non-null   bool          \n",
      " 21  Manner of Collision_ANGLE                3608 non-null   bool          \n",
      " 22  Manner of Collision_ONE MOTOR VEHICLE    3608 non-null   bool          \n",
      " 23  Manner of Collision_OPPOSITE DIRECTION   3608 non-null   bool          \n",
      " 24  Manner of Collision_OTHER                3608 non-null   bool          \n",
      " 25  Manner of Collision_SAME DIRECTION       3608 non-null   bool          \n",
      " 26  Day_Friday                               3608 non-null   bool          \n",
      " 27  Day_Monday                               3608 non-null   bool          \n",
      " 28  Day_Saturday                             3608 non-null   bool          \n",
      " 29  Day_Sunday                               3608 non-null   bool          \n",
      " 30  Day_Thursday                             3608 non-null   bool          \n",
      " 31  Day_Tuesday                              3608 non-null   bool          \n",
      " 32  Day_Wednesday                            3608 non-null   bool          \n",
      " 33  Time of Day_Evening Rush Hour            3608 non-null   bool          \n",
      " 34  Time of Day_Morning Rush Hour            3608 non-null   bool          \n",
      " 35  Time of Day_Other                        3608 non-null   bool          \n",
      "dtypes: bool(24), datetime64[ns](3), float64(3), int64(2), object(4)\n",
      "memory usage: 451.0+ KB\n"
     ]
    }
   ],
   "source": [
    "df.info()"
   ]
  },
  {
   "cell_type": "markdown",
   "id": "d94f7a28-85b2-4b2c-9fe7-93d77a48b66a",
   "metadata": {},
   "source": [
    "----"
   ]
  },
  {
   "cell_type": "markdown",
   "id": "38781a6a-6e3f-4129-9b1f-aa2b06c98019",
   "metadata": {},
   "source": [
    "# Question 20\n",
    "When dealing with the \"Surface Condition\" column, we will use the same approach as previously discussed. Any categories with fewer than 50 instances will be grouped under a new category called \"Other.\" Additionally, we will remove the numerical code preceding the condition description. For example, for \"1 - DRY,\" we will only consider \"DRY.\" What data transformation technique would be most suitable for this column?\n",
    "                                                                                                                                                                                                                                                                                                                                                                                                                 \n",
    "a. Replace it with a one-hot vector of length 8.\n",
    "\n",
    "b. Replace it with a one-hot vector of length 3.\n",
    "\n",
    "c. Map values to ordinal values 0 to 7.\n",
    "    \n",
    "d. Replace it with a one-hot vector of length 4\n"
   ]
  },
  {
   "cell_type": "code",
   "execution_count": 49,
   "id": "04993549-7903-4c9c-823c-e947f6104d6a",
   "metadata": {},
   "outputs": [
    {
     "name": "stdout",
     "output_type": "stream",
     "text": [
      "Surface Condition\n",
      "1 - DRY    3174\n",
      "2 - WET     381\n",
      "Other        53\n",
      "Name: count, dtype: int64\n"
     ]
    },
    {
     "data": {
      "text/plain": [
       "Crash ID\n",
       "19468595    DRY\n",
       "19474485    DRY\n",
       "19474684    DRY\n",
       "19476604    DRY\n",
       "19476605    DRY\n",
       "           ... \n",
       "20318138    DRY\n",
       "20323026    DRY\n",
       "20313710    DRY\n",
       "20313725    DRY\n",
       "20316856    DRY\n",
       "Name: Surface Condition, Length: 3608, dtype: object"
      ]
     },
     "execution_count": 49,
     "metadata": {},
     "output_type": "execute_result"
    }
   ],
   "source": [
    "# calling the column sum\n",
    "fre = df[\"Surface Condition\"].value_counts()\n",
    "fre\n",
    "# Any categories with fewer than 50 instances will be grouped under a new category called \"Other.\"\n",
    "less_fre = fre[fre < 50].index\n",
    "df.loc[df[\"Surface Condition\"].isin(less_fre), \"Surface Condition\"] = \"Other\"\n",
    "\n",
    "# Counting the updated frequency\n",
    "upd_freq = df[\"Surface Condition\"].value_counts()\n",
    "\n",
    "# Print the updated frequency\n",
    "print(upd_freq)\n",
    "df[df[\"Surface Condition\"] == \"Other\"][\"Surface Condition\"].value_counts()\n",
    "\n",
    "# Removing the numerical code preceding the condition description\n",
    "surface_map = {\n",
    "    \"1 - DRY\": \"DRY\",\n",
    "    \"2 - WET\": \"WET\",\n",
    "    \"Other\": \"Other\"}\n",
    "\n",
    "# Applying mapping\n",
    "df[\"Surface Condition\"] = df[\"Surface Condition\"].map(surface_map)\n",
    "df[\"Surface Condition\"]"
   ]
  },
  {
   "cell_type": "code",
   "execution_count": 50,
   "id": "89f48caf-52a0-45ca-ae03-6e282b4c11c0",
   "metadata": {},
   "outputs": [],
   "source": [
    "# Replacing it with a one-hot vector of length 3\n",
    "df = pd.get_dummies(df, columns = [\"Surface Condition\"], prefix = \"Surface Condition\")"
   ]
  },
  {
   "cell_type": "code",
   "execution_count": 51,
   "id": "5dec34af-6932-4bac-aa6d-e9bc259a796b",
   "metadata": {},
   "outputs": [
    {
     "name": "stdout",
     "output_type": "stream",
     "text": [
      "<class 'pandas.core.frame.DataFrame'>\n",
      "Index: 3608 entries, 19468595 to 20316856\n",
      "Data columns (total 38 columns):\n",
      " #   Column                                   Non-Null Count  Dtype         \n",
      "---  ------                                   --------------  -----         \n",
      " 0   Adjusted Average Daily Traffic Amount    3608 non-null   float64       \n",
      " 1   Crash Date                               3608 non-null   datetime64[ns]\n",
      " 2   Crash Severity                           3608 non-null   int64         \n",
      " 3   Crash Time                               3608 non-null   object        \n",
      " 4   Date Scene Cleared                       3608 non-null   object        \n",
      " 5   Speed Limit                              3608 non-null   float64       \n",
      " 6   Time Scene Cleared                       3608 non-null   int64         \n",
      " 7   Weather Condition                        3608 non-null   object        \n",
      " 8   Crash_date_time                          3608 non-null   datetime64[ns]\n",
      " 9   Scene Cleared DateTime                   3608 non-null   datetime64[ns]\n",
      " 10  Clearance_time_minutes                   3608 non-null   float64       \n",
      " 11  Road Class_CITY STREET                   3608 non-null   bool          \n",
      " 12  Road Class_FARM TO MARKET                3608 non-null   bool          \n",
      " 13  Road Class_INTERSTATE                    3608 non-null   bool          \n",
      " 14  Road Class_NON TRAFFICWAY                3608 non-null   bool          \n",
      " 15  Road Class_US & STATE HIGHWAYS           3608 non-null   bool          \n",
      " 16  Roadway Type_2 LANE, 2 WAY               3608 non-null   bool          \n",
      " 17  Roadway Type_4 OR MORE LANES, DIVIDED    3608 non-null   bool          \n",
      " 18  Roadway Type_4 OR MORE LANES, UNDIVIDED  3608 non-null   bool          \n",
      " 19  Roadway Type_OTHER                       3608 non-null   bool          \n",
      " 20  Manner of Collision_ANGLE                3608 non-null   bool          \n",
      " 21  Manner of Collision_ONE MOTOR VEHICLE    3608 non-null   bool          \n",
      " 22  Manner of Collision_OPPOSITE DIRECTION   3608 non-null   bool          \n",
      " 23  Manner of Collision_OTHER                3608 non-null   bool          \n",
      " 24  Manner of Collision_SAME DIRECTION       3608 non-null   bool          \n",
      " 25  Day_Friday                               3608 non-null   bool          \n",
      " 26  Day_Monday                               3608 non-null   bool          \n",
      " 27  Day_Saturday                             3608 non-null   bool          \n",
      " 28  Day_Sunday                               3608 non-null   bool          \n",
      " 29  Day_Thursday                             3608 non-null   bool          \n",
      " 30  Day_Tuesday                              3608 non-null   bool          \n",
      " 31  Day_Wednesday                            3608 non-null   bool          \n",
      " 32  Time of Day_Evening Rush Hour            3608 non-null   bool          \n",
      " 33  Time of Day_Morning Rush Hour            3608 non-null   bool          \n",
      " 34  Time of Day_Other                        3608 non-null   bool          \n",
      " 35  Surface Condition_DRY                    3608 non-null   bool          \n",
      " 36  Surface Condition_Other                  3608 non-null   bool          \n",
      " 37  Surface Condition_WET                    3608 non-null   bool          \n",
      "dtypes: bool(27), datetime64[ns](3), float64(3), int64(2), object(3)\n",
      "memory usage: 433.4+ KB\n"
     ]
    }
   ],
   "source": [
    "df.info()"
   ]
  },
  {
   "cell_type": "markdown",
   "id": "481f9688-4410-415e-9299-00171b7deb36",
   "metadata": {},
   "source": [
    "----"
   ]
  },
  {
   "cell_type": "markdown",
   "id": "07156cce-b0f7-4345-9aa3-fffd7aa16e0a",
   "metadata": {},
   "source": [
    "# Question 21\n",
    "Given our previous discussion, we need to apply the following logic to the “Weather Condition” column: if a category has fewer than 50 instances, it will be grouped under the category “OTHER.” Additionally, we should remove the numerical code from the condition description. For instance, for “1 - CLEAR,” we should only consider “CLEAR.” With this in mind, what would be the most effective data transformation technique for this column?\n",
    "\n",
    "a. Map values according to their frequencies in that column to ordinal values 0 to 3.\n",
    "    \n",
    "b. Replace it with a one-hot vector of length 8.\n",
    "\n",
    "c. Map values according to their frequencies in that column to ordinal values 1 to 8.\n",
    "    \n",
    "d. Replace it with a one-hot vector of length 4\n"
   ]
  },
  {
   "cell_type": "code",
   "execution_count": 52,
   "id": "28cfbab6-1211-44e6-b22a-b4b9802f7721",
   "metadata": {},
   "outputs": [
    {
     "data": {
      "text/plain": [
       "Weather Condition\n",
       "1 - CLEAR                            2879\n",
       "2 - CLOUDY                            400\n",
       "3 - RAIN                              278\n",
       "99 - UNKNOWN                           40\n",
       "6 - FOG                                 5\n",
       "4 - SLEET/HAIL                          2\n",
       "5 - SNOW                                2\n",
       "98 - OTHER (EXPLAIN IN NARRATIVE)       2\n",
       "Name: count, dtype: int64"
      ]
     },
     "execution_count": 52,
     "metadata": {},
     "output_type": "execute_result"
    }
   ],
   "source": [
    "# Replace it with a one-hot vector of length 4.\n",
    "df['Weather Condition'].value_counts()"
   ]
  },
  {
   "cell_type": "code",
   "execution_count": 53,
   "id": "6f44a913-c265-4cb4-aabf-48ce37d5de68",
   "metadata": {},
   "outputs": [],
   "source": [
    "df['Weather Condition'] = df['Weather Condition'].str.split(' - ').str[1]"
   ]
  },
  {
   "cell_type": "code",
   "execution_count": 54,
   "id": "c7ad2cff-04b4-434d-9301-818bf8742926",
   "metadata": {},
   "outputs": [],
   "source": [
    "# Count the occurrences\n",
    "weather_condition_counts = df['Weather Condition'].value_counts()\n",
    "\n",
    "def categorize_weather_condition(condition):\n",
    "    if weather_condition_counts[condition] < 50:\n",
    "        return 'OTHER'\n",
    "    return condition\n",
    "    \n",
    "# Apply the function to Weather Condition column\n",
    "df['Weather Condition'] = df['Weather Condition'].apply(categorize_weather_condition)"
   ]
  },
  {
   "cell_type": "code",
   "execution_count": 55,
   "id": "b6c1d275-36f3-4df3-8f69-0bb4220742f5",
   "metadata": {},
   "outputs": [
    {
     "data": {
      "text/plain": [
       "Weather Condition\n",
       "CLEAR     2879\n",
       "CLOUDY     400\n",
       "RAIN       278\n",
       "OTHER       51\n",
       "Name: count, dtype: int64"
      ]
     },
     "execution_count": 55,
     "metadata": {},
     "output_type": "execute_result"
    }
   ],
   "source": [
    "df['Weather Condition'].value_counts()"
   ]
  },
  {
   "cell_type": "code",
   "execution_count": 56,
   "id": "36361bce-9115-4073-a7d1-4d57dd7724af",
   "metadata": {},
   "outputs": [],
   "source": [
    "# Apply one-hot encoding\n",
    "df = pd.get_dummies(df, columns=['Weather Condition'], prefix='Weather Condition')"
   ]
  },
  {
   "cell_type": "code",
   "execution_count": 57,
   "id": "75e2d097-75be-4f3b-8cb1-44d235a67aa8",
   "metadata": {},
   "outputs": [
    {
     "name": "stdout",
     "output_type": "stream",
     "text": [
      "<class 'pandas.core.frame.DataFrame'>\n",
      "Index: 3608 entries, 19468595 to 20316856\n",
      "Data columns (total 41 columns):\n",
      " #   Column                                   Non-Null Count  Dtype         \n",
      "---  ------                                   --------------  -----         \n",
      " 0   Adjusted Average Daily Traffic Amount    3608 non-null   float64       \n",
      " 1   Crash Date                               3608 non-null   datetime64[ns]\n",
      " 2   Crash Severity                           3608 non-null   int64         \n",
      " 3   Crash Time                               3608 non-null   object        \n",
      " 4   Date Scene Cleared                       3608 non-null   object        \n",
      " 5   Speed Limit                              3608 non-null   float64       \n",
      " 6   Time Scene Cleared                       3608 non-null   int64         \n",
      " 7   Crash_date_time                          3608 non-null   datetime64[ns]\n",
      " 8   Scene Cleared DateTime                   3608 non-null   datetime64[ns]\n",
      " 9   Clearance_time_minutes                   3608 non-null   float64       \n",
      " 10  Road Class_CITY STREET                   3608 non-null   bool          \n",
      " 11  Road Class_FARM TO MARKET                3608 non-null   bool          \n",
      " 12  Road Class_INTERSTATE                    3608 non-null   bool          \n",
      " 13  Road Class_NON TRAFFICWAY                3608 non-null   bool          \n",
      " 14  Road Class_US & STATE HIGHWAYS           3608 non-null   bool          \n",
      " 15  Roadway Type_2 LANE, 2 WAY               3608 non-null   bool          \n",
      " 16  Roadway Type_4 OR MORE LANES, DIVIDED    3608 non-null   bool          \n",
      " 17  Roadway Type_4 OR MORE LANES, UNDIVIDED  3608 non-null   bool          \n",
      " 18  Roadway Type_OTHER                       3608 non-null   bool          \n",
      " 19  Manner of Collision_ANGLE                3608 non-null   bool          \n",
      " 20  Manner of Collision_ONE MOTOR VEHICLE    3608 non-null   bool          \n",
      " 21  Manner of Collision_OPPOSITE DIRECTION   3608 non-null   bool          \n",
      " 22  Manner of Collision_OTHER                3608 non-null   bool          \n",
      " 23  Manner of Collision_SAME DIRECTION       3608 non-null   bool          \n",
      " 24  Day_Friday                               3608 non-null   bool          \n",
      " 25  Day_Monday                               3608 non-null   bool          \n",
      " 26  Day_Saturday                             3608 non-null   bool          \n",
      " 27  Day_Sunday                               3608 non-null   bool          \n",
      " 28  Day_Thursday                             3608 non-null   bool          \n",
      " 29  Day_Tuesday                              3608 non-null   bool          \n",
      " 30  Day_Wednesday                            3608 non-null   bool          \n",
      " 31  Time of Day_Evening Rush Hour            3608 non-null   bool          \n",
      " 32  Time of Day_Morning Rush Hour            3608 non-null   bool          \n",
      " 33  Time of Day_Other                        3608 non-null   bool          \n",
      " 34  Surface Condition_DRY                    3608 non-null   bool          \n",
      " 35  Surface Condition_Other                  3608 non-null   bool          \n",
      " 36  Surface Condition_WET                    3608 non-null   bool          \n",
      " 37  Weather Condition_CLEAR                  3608 non-null   bool          \n",
      " 38  Weather Condition_CLOUDY                 3608 non-null   bool          \n",
      " 39  Weather Condition_OTHER                  3608 non-null   bool          \n",
      " 40  Weather Condition_RAIN                   3608 non-null   bool          \n",
      "dtypes: bool(31), datetime64[ns](3), float64(3), int64(2), object(2)\n",
      "memory usage: 419.3+ KB\n"
     ]
    }
   ],
   "source": [
    "df.info()"
   ]
  },
  {
   "cell_type": "markdown",
   "id": "f2d3629b-d836-42d1-923f-d2f4c1fa3c16",
   "metadata": {},
   "source": [
    "---"
   ]
  },
  {
   "cell_type": "markdown",
   "id": "8b439bbd-206b-4f05-8420-bb1d10ec8ed2",
   "metadata": {},
   "source": [
    "# Question 22\n",
    "Call the \"info\" function on your data frame. Ensure that all the columns, except \"Crash Date\", \"Crash Time\", \"Time Scene Cleared\", \"Date Scene Cleared\", \"Crash DateTime\", and \"Scene Cleared DateTime\", are of numerical data types (int, float, or bool). If not, please review the previous lab questions to ensure all tasks have been completed. Keep in mind that the order of implementation is important for successfully completing this Lab. Next, drop the four mentioned columns from the data frame. Then, provide the number of columns in the remaining data frame."
   ]
  },
  {
   "cell_type": "code",
   "execution_count": 58,
   "id": "900744d5-de1a-4701-84d1-2220c9efd54e",
   "metadata": {},
   "outputs": [
    {
     "name": "stdout",
     "output_type": "stream",
     "text": [
      "<class 'pandas.core.frame.DataFrame'>\n",
      "Index: 3608 entries, 19468595 to 20316856\n",
      "Data columns (total 41 columns):\n",
      " #   Column                                   Non-Null Count  Dtype         \n",
      "---  ------                                   --------------  -----         \n",
      " 0   Adjusted Average Daily Traffic Amount    3608 non-null   float64       \n",
      " 1   Crash Date                               3608 non-null   datetime64[ns]\n",
      " 2   Crash Severity                           3608 non-null   int64         \n",
      " 3   Crash Time                               3608 non-null   object        \n",
      " 4   Date Scene Cleared                       3608 non-null   object        \n",
      " 5   Speed Limit                              3608 non-null   float64       \n",
      " 6   Time Scene Cleared                       3608 non-null   int64         \n",
      " 7   Crash_date_time                          3608 non-null   datetime64[ns]\n",
      " 8   Scene Cleared DateTime                   3608 non-null   datetime64[ns]\n",
      " 9   Clearance_time_minutes                   3608 non-null   float64       \n",
      " 10  Road Class_CITY STREET                   3608 non-null   bool          \n",
      " 11  Road Class_FARM TO MARKET                3608 non-null   bool          \n",
      " 12  Road Class_INTERSTATE                    3608 non-null   bool          \n",
      " 13  Road Class_NON TRAFFICWAY                3608 non-null   bool          \n",
      " 14  Road Class_US & STATE HIGHWAYS           3608 non-null   bool          \n",
      " 15  Roadway Type_2 LANE, 2 WAY               3608 non-null   bool          \n",
      " 16  Roadway Type_4 OR MORE LANES, DIVIDED    3608 non-null   bool          \n",
      " 17  Roadway Type_4 OR MORE LANES, UNDIVIDED  3608 non-null   bool          \n",
      " 18  Roadway Type_OTHER                       3608 non-null   bool          \n",
      " 19  Manner of Collision_ANGLE                3608 non-null   bool          \n",
      " 20  Manner of Collision_ONE MOTOR VEHICLE    3608 non-null   bool          \n",
      " 21  Manner of Collision_OPPOSITE DIRECTION   3608 non-null   bool          \n",
      " 22  Manner of Collision_OTHER                3608 non-null   bool          \n",
      " 23  Manner of Collision_SAME DIRECTION       3608 non-null   bool          \n",
      " 24  Day_Friday                               3608 non-null   bool          \n",
      " 25  Day_Monday                               3608 non-null   bool          \n",
      " 26  Day_Saturday                             3608 non-null   bool          \n",
      " 27  Day_Sunday                               3608 non-null   bool          \n",
      " 28  Day_Thursday                             3608 non-null   bool          \n",
      " 29  Day_Tuesday                              3608 non-null   bool          \n",
      " 30  Day_Wednesday                            3608 non-null   bool          \n",
      " 31  Time of Day_Evening Rush Hour            3608 non-null   bool          \n",
      " 32  Time of Day_Morning Rush Hour            3608 non-null   bool          \n",
      " 33  Time of Day_Other                        3608 non-null   bool          \n",
      " 34  Surface Condition_DRY                    3608 non-null   bool          \n",
      " 35  Surface Condition_Other                  3608 non-null   bool          \n",
      " 36  Surface Condition_WET                    3608 non-null   bool          \n",
      " 37  Weather Condition_CLEAR                  3608 non-null   bool          \n",
      " 38  Weather Condition_CLOUDY                 3608 non-null   bool          \n",
      " 39  Weather Condition_OTHER                  3608 non-null   bool          \n",
      " 40  Weather Condition_RAIN                   3608 non-null   bool          \n",
      "dtypes: bool(31), datetime64[ns](3), float64(3), int64(2), object(2)\n",
      "memory usage: 419.3+ KB\n"
     ]
    }
   ],
   "source": [
    "df.info()"
   ]
  },
  {
   "cell_type": "code",
   "execution_count": 59,
   "id": "ffc7586b-a233-40b5-b1ba-f2727c518fe5",
   "metadata": {},
   "outputs": [],
   "source": [
    "# Dropping columns\n",
    "df.drop(columns=[\"Crash Date\", \"Crash Time\", \"Time Scene Cleared\", \"Date Scene Cleared\", \"Crash_date_time\", \"Scene Cleared DateTime\"], inplace = True)"
   ]
  },
  {
   "cell_type": "code",
   "execution_count": 60,
   "id": "1b77e68c-7186-44cb-8d02-8c2e1b5e6523",
   "metadata": {},
   "outputs": [
    {
     "name": "stdout",
     "output_type": "stream",
     "text": [
      "Updated new number of columns 35\n"
     ]
    }
   ],
   "source": [
    "# New shape of data frame\n",
    "upd_shape_dataframe = df.shape[1]\n",
    "print(f\"Updated new number of columns {upd_shape_dataframe}\")"
   ]
  },
  {
   "cell_type": "markdown",
   "id": "997ada3f-ab59-4e80-a249-09f78a368744",
   "metadata": {},
   "source": [
    "----"
   ]
  },
  {
   "cell_type": "markdown",
   "id": "0e3f0352-b150-468d-bdff-628fc1bf3665",
   "metadata": {},
   "source": [
    "# Question 23\n",
    "Upload the .ipynb file you used to answer the questions in this Lab. The file name should follow the following naming convention: Lab1_Lastname_Firstname.ipynb."
   ]
  },
  {
   "cell_type": "markdown",
   "id": "1cc8e75c-49ff-44d2-b448-bc199a2d28d2",
   "metadata": {},
   "source": [
    "---"
   ]
  },
  {
   "cell_type": "markdown",
   "id": "7a401e39-4df2-4fad-8b16-6a704565ca94",
   "metadata": {},
   "source": [
    "# LAB 2"
   ]
  },
  {
   "cell_type": "code",
   "execution_count": 61,
   "id": "40d6dc77-d3fe-413d-987d-71434f010160",
   "metadata": {},
   "outputs": [
    {
     "name": "stdout",
     "output_type": "stream",
     "text": [
      "Requirement already satisfied: scikit-learn in c:\\python312\\lib\\site-packages (1.5.2)\n",
      "Requirement already satisfied: numpy>=1.19.5 in c:\\python312\\lib\\site-packages (from scikit-learn) (2.1.0)\n",
      "Requirement already satisfied: scipy>=1.6.0 in c:\\python312\\lib\\site-packages (from scikit-learn) (1.14.1)\n",
      "Requirement already satisfied: joblib>=1.2.0 in c:\\python312\\lib\\site-packages (from scikit-learn) (1.4.2)\n",
      "Requirement already satisfied: threadpoolctl>=3.1.0 in c:\\python312\\lib\\site-packages (from scikit-learn) (3.5.0)\n"
     ]
    }
   ],
   "source": [
    "!pip install scikit-learn"
   ]
  },
  {
   "cell_type": "code",
   "execution_count": 62,
   "id": "c5c1da6a-d997-43fa-b591-3d5a3a3172ee",
   "metadata": {},
   "outputs": [
    {
     "name": "stdout",
     "output_type": "stream",
     "text": [
      "Requirement already satisfied: scipy in c:\\python312\\lib\\site-packages (1.14.1)\n",
      "Requirement already satisfied: numpy<2.3,>=1.23.5 in c:\\python312\\lib\\site-packages (from scipy) (2.1.0)\n"
     ]
    }
   ],
   "source": [
    "!pip install --upgrade scipy"
   ]
  },
  {
   "cell_type": "markdown",
   "id": "cf12082f-c0d7-4c06-aff3-927ec9ba3eec",
   "metadata": {},
   "source": [
    "# Question 1\n",
    "You should continue working on the data frame computed in Lab 1. The ultimate goal of this project is to predict time to clear the scene after each accident. Column Clearance Time (Minutes) is the target column; the rest of the features are considered this project’s feature set. From now on, we refer to the feature set as X and the target column as y. What is the median of column Speed Limit in X?"
   ]
  },
  {
   "cell_type": "code",
   "execution_count": 63,
   "id": "a6099901-d173-4ff8-8b00-0d0bbcef3c03",
   "metadata": {},
   "outputs": [
    {
     "name": "stdout",
     "output_type": "stream",
     "text": [
      "<class 'pandas.core.frame.DataFrame'>\n",
      "Index: 3608 entries, 19468595 to 20316856\n",
      "Data columns (total 35 columns):\n",
      " #   Column                                   Non-Null Count  Dtype  \n",
      "---  ------                                   --------------  -----  \n",
      " 0   Adjusted Average Daily Traffic Amount    3608 non-null   float64\n",
      " 1   Crash Severity                           3608 non-null   int64  \n",
      " 2   Speed Limit                              3608 non-null   float64\n",
      " 3   Clearance_time_minutes                   3608 non-null   float64\n",
      " 4   Road Class_CITY STREET                   3608 non-null   bool   \n",
      " 5   Road Class_FARM TO MARKET                3608 non-null   bool   \n",
      " 6   Road Class_INTERSTATE                    3608 non-null   bool   \n",
      " 7   Road Class_NON TRAFFICWAY                3608 non-null   bool   \n",
      " 8   Road Class_US & STATE HIGHWAYS           3608 non-null   bool   \n",
      " 9   Roadway Type_2 LANE, 2 WAY               3608 non-null   bool   \n",
      " 10  Roadway Type_4 OR MORE LANES, DIVIDED    3608 non-null   bool   \n",
      " 11  Roadway Type_4 OR MORE LANES, UNDIVIDED  3608 non-null   bool   \n",
      " 12  Roadway Type_OTHER                       3608 non-null   bool   \n",
      " 13  Manner of Collision_ANGLE                3608 non-null   bool   \n",
      " 14  Manner of Collision_ONE MOTOR VEHICLE    3608 non-null   bool   \n",
      " 15  Manner of Collision_OPPOSITE DIRECTION   3608 non-null   bool   \n",
      " 16  Manner of Collision_OTHER                3608 non-null   bool   \n",
      " 17  Manner of Collision_SAME DIRECTION       3608 non-null   bool   \n",
      " 18  Day_Friday                               3608 non-null   bool   \n",
      " 19  Day_Monday                               3608 non-null   bool   \n",
      " 20  Day_Saturday                             3608 non-null   bool   \n",
      " 21  Day_Sunday                               3608 non-null   bool   \n",
      " 22  Day_Thursday                             3608 non-null   bool   \n",
      " 23  Day_Tuesday                              3608 non-null   bool   \n",
      " 24  Day_Wednesday                            3608 non-null   bool   \n",
      " 25  Time of Day_Evening Rush Hour            3608 non-null   bool   \n",
      " 26  Time of Day_Morning Rush Hour            3608 non-null   bool   \n",
      " 27  Time of Day_Other                        3608 non-null   bool   \n",
      " 28  Surface Condition_DRY                    3608 non-null   bool   \n",
      " 29  Surface Condition_Other                  3608 non-null   bool   \n",
      " 30  Surface Condition_WET                    3608 non-null   bool   \n",
      " 31  Weather Condition_CLEAR                  3608 non-null   bool   \n",
      " 32  Weather Condition_CLOUDY                 3608 non-null   bool   \n",
      " 33  Weather Condition_OTHER                  3608 non-null   bool   \n",
      " 34  Weather Condition_RAIN                   3608 non-null   bool   \n",
      "dtypes: bool(31), float64(3), int64(1)\n",
      "memory usage: 250.2 KB\n"
     ]
    }
   ],
   "source": [
    "df.info()"
   ]
  },
  {
   "cell_type": "code",
   "execution_count": 64,
   "id": "d8e2d900-9f62-4cf0-b37c-15cf2d2d88f7",
   "metadata": {},
   "outputs": [],
   "source": [
    "# Column Clearance Time (Minutes) is the target column represented as \"y\"; the rest of the features are considered this project’s feature set represented as \"X\". \"\"\"\n",
    "X = df.drop(\"Clearance_time_minutes\", axis = 1)\n",
    "y = df[\"Clearance_time_minutes\"]"
   ]
  },
  {
   "cell_type": "code",
   "execution_count": 65,
   "id": "b6028006-fe25-4e20-803c-cb73df6aac5b",
   "metadata": {},
   "outputs": [
    {
     "name": "stdout",
     "output_type": "stream",
     "text": [
      "The median of column Speed Limit in X is : 45.0\n"
     ]
    }
   ],
   "source": [
    "# calculating median of column Speed Limit in X\n",
    "Speed_Limit_median = X[\"Speed Limit\"].median()\n",
    "print(f\"The median of column Speed Limit in X is : {Speed_Limit_median}\")"
   ]
  },
  {
   "cell_type": "markdown",
   "id": "ae01a144-a2d4-4b6b-b23d-5021ae8a189b",
   "metadata": {},
   "source": [
    "# Question 2\n",
    "As we discussed in class, scaling is essential for ensuring that each feature contributes equally to the clustering process, improving the performance and interpretability of the clustering algorithm. Scaling ensures that each feature contributes equally to the distance calculations. Hence, we will start with scaling the feature set with MinMaxScaler. Store the scaled dataset in a data frame named X_scaled with the same column names as X. What is the median of column Speed Limit in X_scaled? Enter the answer with two digits after the decimal point."
   ]
  },
  {
   "cell_type": "code",
   "execution_count": 66,
   "id": "92b64787-b88b-409d-8a3c-769a375aee21",
   "metadata": {},
   "outputs": [],
   "source": [
    "# Scale the datset\n",
    "from sklearn.preprocessing import MinMaxScaler\n",
    "\n",
    "X = df.drop(\"Clearance_time_minutes\", axis = 1)\n",
    "y = df[\"Clearance_time_minutes\"]\n",
    "\n",
    "scaler = MinMaxScaler()\n",
    "scaler.fit(X)\n",
    "X_scaled = scaler.transform(X)\n",
    "\n",
    "# Make a dataframe out of the scaled values\n",
    "X_scaled = pd.DataFrame(X_scaled, columns = X.columns)"
   ]
  },
  {
   "cell_type": "code",
   "execution_count": 67,
   "id": "1fdd228f-ab8f-43ed-ab50-1265f4045d48",
   "metadata": {},
   "outputs": [
    {
     "name": "stdout",
     "output_type": "stream",
     "text": [
      "The median of column Speed Limit in X_scaled is : 0.57\n"
     ]
    }
   ],
   "source": [
    "# Calculating median of column Speed Limit in X_scaled with two digits after the decimal point\n",
    "Speed_Limit_scaled_median = X_scaled[\"Speed Limit\"].median()\n",
    "print(f\"The median of column Speed Limit in X_scaled is : {Speed_Limit_scaled_median:.2f}\")"
   ]
  },
  {
   "cell_type": "markdown",
   "id": "2b9eecdd-66e8-4e4d-aabf-53efec4c268f",
   "metadata": {},
   "source": [
    "# Question 3\n",
    "Which integer value of distance_threshold results in 6 clusters in an agglomerative clustering? Note that n_clusters should be None and you do not need to change the default value of other model parameters."
   ]
  },
  {
   "cell_type": "code",
   "execution_count": 68,
   "id": "b29641ca-bf59-4c29-9dad-ad736e064de6",
   "metadata": {},
   "outputs": [
    {
     "name": "stdout",
     "output_type": "stream",
     "text": [
      " Number of clusters: 6\n",
      " The integer value of distance_threshold results in 6 clusters in an agglomerative clustering is : 27\n"
     ]
    }
   ],
   "source": [
    "# Build the clustering model\n",
    "# n_clusters = None and linkage = \"ward\" would be default\n",
    "\n",
    "from sklearn.cluster import AgglomerativeClustering\n",
    "\n",
    "model = AgglomerativeClustering(distance_threshold = 27, n_clusters = None, linkage = \"ward\")\n",
    "\n",
    "labels = model.fit(X_scaled)\n",
    "\n",
    "# The number of clusters found by the algorithm.\n",
    "model.n_clusters_\n",
    "print(f\" Number of clusters: {model.n_clusters_}\")\n",
    "print(f\" The integer value of distance_threshold results in 6 clusters in an agglomerative clustering is : 27\")"
   ]
  },
  {
   "cell_type": "markdown",
   "id": "403d1b03-6855-414a-ad18-f1db41ce0d2e",
   "metadata": {},
   "source": [
    "# Question 4\n",
    "Train an Agglomerative clustering model with all default parameters and distance_threshold computed in the previous question. \n",
    "\n",
    "Agglomerative Clustering is a deterministic algorithm, meaning the clustering results (i.e., which points belong to which cluster) are consistent across runs. However, the numeric labels assigned to clusters can vary between runs because there is no inherent order or meaning to these labels. As a result, even though the clusters themselves remain the same, the labels might differ arbitrarily. Unfortunately, there is no parameter in the AgglomerativeClustering model to make the label assignment static. To achieve consistent labeling, you can apply a post-processing step, such as sorting clusters by some statistic (like the mean or median of the points in the cluster), and then assigning labels in a consistent order based on that.\n",
    "\n",
    "To achieve this, start by creating a new column \"agg\" in X to store the cluster labels from the trained Agglomerative Clustering model (model), which was fitted on X_scaled:\n",
    "\n",
    "X['agg'] = model.labels_\n",
    "Next, we group the data by \"agg\" and compute the mean of \"Speed Limit\" for each cluster, then sort the clusters based on this mean:\n",
    "\n",
    "cluster_means = X.groupby('agg').mean().sort_values(by='Speed Limit')\n",
    "Finally, we assign new consistent labels to each cluster by mapping the old labels to new ones, based on the sorted cluster means:\n",
    "\n",
    "label_mapping = {old_label: new_label for new_label, old_label in enumerate(cluster_means.index)}\n",
    "X['agg'] = X['agg'].map(label_mapping)"
   ]
  },
  {
   "cell_type": "raw",
   "id": "542f4339-a3d8-458b-94c3-81e51c240cad",
   "metadata": {},
   "source": [
    "X[\"agg\"] = model.fit_predict(X_scaled)\n",
    "\n",
    "cluster_means = X.groupby(\"agg\")[\"Speed Limit\"].mean()\n",
    "print(cluster_means)"
   ]
  },
  {
   "cell_type": "raw",
   "id": "e6053263-87e4-47ea-bde1-2ff7f85b5488",
   "metadata": {},
   "source": [
    "agg\n",
    "0    32.094878\n",
    "1    60.874126\n",
    "2    49.546569\n",
    "3    43.001443\n",
    "4    52.916667\n",
    "5    43.366142\n",
    "Name: Speed Limit, dtype: float64"
   ]
  },
  {
   "cell_type": "code",
   "execution_count": 69,
   "id": "46609a0e-5b9b-421a-919a-bb3604b3adb3",
   "metadata": {},
   "outputs": [],
   "source": [
    "X['agg'] = model.labels_\n",
    "\n",
    "cluster_means = X.groupby('agg').mean().sort_values(by='Speed Limit')\n",
    "\n",
    "label_mapping = {old_label: new_label for new_label, old_label in enumerate(cluster_means.index)}\n",
    "X['agg'] = X['agg'].map(label_mapping)"
   ]
  },
  {
   "cell_type": "code",
   "execution_count": 70,
   "id": "ae7ddf81-9be6-4ec8-a9ea-0d9d6f94e086",
   "metadata": {},
   "outputs": [
    {
     "name": "stdout",
     "output_type": "stream",
     "text": [
      "agg\n",
      "0    1191\n",
      "1     693\n",
      "2     254\n",
      "3     408\n",
      "4     204\n",
      "5     858\n",
      "Name: count, dtype: int64\n"
     ]
    }
   ],
   "source": [
    "cluster_size = X['agg'].value_counts().sort_index()\n",
    "print(cluster_size)"
   ]
  },
  {
   "cell_type": "raw",
   "id": "171ab192-add6-46a6-93ac-7fe7a5c97062",
   "metadata": {},
   "source": [
    "label_mapping = {old_label: new_label for new_label, old_label in enumerate(cluster_means.index)}\n",
    "X[\"agg\"] = X[\"agg\"].map(label_mapping)"
   ]
  },
  {
   "cell_type": "raw",
   "id": "d1ff6190-f969-4277-bd83-f3a20bcf50f5",
   "metadata": {},
   "source": [
    "cluster_sizes = X['agg'].value_counts().sort_index()\n",
    "print(cluster_sizes)"
   ]
  },
  {
   "cell_type": "markdown",
   "id": "b932e844-11ef-4250-a3a3-7926e3a62705",
   "metadata": {},
   "source": [
    "# Question 5\n",
    "Arrange the clusters in ascending order based on the median of Adjusted Average Daily Traffic Amount :"
   ]
  },
  {
   "cell_type": "code",
   "execution_count": 71,
   "id": "fa6c0ce3-4a85-48bc-ba6f-3d2a0fdeb273",
   "metadata": {},
   "outputs": [
    {
     "name": "stdout",
     "output_type": "stream",
     "text": [
      "agg\n",
      "2     8562.0\n",
      "0    14489.0\n",
      "1    25998.0\n",
      "3    27522.0\n",
      "4    28551.0\n",
      "5    83664.0\n",
      "Name: Adjusted Average Daily Traffic Amount, dtype: float64\n"
     ]
    }
   ],
   "source": [
    "cluster_means= X.groupby(\"agg\")[\"Adjusted Average Daily Traffic Amount\"].median().sort_values()\n",
    "print(cluster_means)\n"
   ]
  },
  {
   "cell_type": "markdown",
   "id": "d6d28bf5-e46e-4f17-b9ce-3c18fc309b25",
   "metadata": {},
   "source": [
    "# Question 6\n",
    "Mark all the correct answers for Cluster 0:"
   ]
  },
  {
   "cell_type": "code",
   "execution_count": 72,
   "id": "c4b14080-d2a4-40e7-baa1-248e54975e51",
   "metadata": {},
   "outputs": [],
   "source": [
    "cluster0 = X[X['agg'] == 0]"
   ]
  },
  {
   "cell_type": "code",
   "execution_count": 73,
   "id": "efa80299-c36f-436b-a891-837c3c49e667",
   "metadata": {},
   "outputs": [
    {
     "data": {
      "text/plain": [
       "1191"
      ]
     },
     "execution_count": 73,
     "metadata": {},
     "output_type": "execute_result"
    }
   ],
   "source": [
    "len(cluster0)"
   ]
  },
  {
   "cell_type": "code",
   "execution_count": 74,
   "id": "5c0a2de4-e5ae-4073-9632-aa7af7458f04",
   "metadata": {},
   "outputs": [
    {
     "name": "stdout",
     "output_type": "stream",
     "text": [
      "<class 'pandas.core.frame.DataFrame'>\n",
      "Index: 3608 entries, 19468595 to 20316856\n",
      "Data columns (total 35 columns):\n",
      " #   Column                                   Non-Null Count  Dtype  \n",
      "---  ------                                   --------------  -----  \n",
      " 0   Adjusted Average Daily Traffic Amount    3608 non-null   float64\n",
      " 1   Crash Severity                           3608 non-null   int64  \n",
      " 2   Speed Limit                              3608 non-null   float64\n",
      " 3   Clearance_time_minutes                   3608 non-null   float64\n",
      " 4   Road Class_CITY STREET                   3608 non-null   bool   \n",
      " 5   Road Class_FARM TO MARKET                3608 non-null   bool   \n",
      " 6   Road Class_INTERSTATE                    3608 non-null   bool   \n",
      " 7   Road Class_NON TRAFFICWAY                3608 non-null   bool   \n",
      " 8   Road Class_US & STATE HIGHWAYS           3608 non-null   bool   \n",
      " 9   Roadway Type_2 LANE, 2 WAY               3608 non-null   bool   \n",
      " 10  Roadway Type_4 OR MORE LANES, DIVIDED    3608 non-null   bool   \n",
      " 11  Roadway Type_4 OR MORE LANES, UNDIVIDED  3608 non-null   bool   \n",
      " 12  Roadway Type_OTHER                       3608 non-null   bool   \n",
      " 13  Manner of Collision_ANGLE                3608 non-null   bool   \n",
      " 14  Manner of Collision_ONE MOTOR VEHICLE    3608 non-null   bool   \n",
      " 15  Manner of Collision_OPPOSITE DIRECTION   3608 non-null   bool   \n",
      " 16  Manner of Collision_OTHER                3608 non-null   bool   \n",
      " 17  Manner of Collision_SAME DIRECTION       3608 non-null   bool   \n",
      " 18  Day_Friday                               3608 non-null   bool   \n",
      " 19  Day_Monday                               3608 non-null   bool   \n",
      " 20  Day_Saturday                             3608 non-null   bool   \n",
      " 21  Day_Sunday                               3608 non-null   bool   \n",
      " 22  Day_Thursday                             3608 non-null   bool   \n",
      " 23  Day_Tuesday                              3608 non-null   bool   \n",
      " 24  Day_Wednesday                            3608 non-null   bool   \n",
      " 25  Time of Day_Evening Rush Hour            3608 non-null   bool   \n",
      " 26  Time of Day_Morning Rush Hour            3608 non-null   bool   \n",
      " 27  Time of Day_Other                        3608 non-null   bool   \n",
      " 28  Surface Condition_DRY                    3608 non-null   bool   \n",
      " 29  Surface Condition_Other                  3608 non-null   bool   \n",
      " 30  Surface Condition_WET                    3608 non-null   bool   \n",
      " 31  Weather Condition_CLEAR                  3608 non-null   bool   \n",
      " 32  Weather Condition_CLOUDY                 3608 non-null   bool   \n",
      " 33  Weather Condition_OTHER                  3608 non-null   bool   \n",
      " 34  Weather Condition_RAIN                   3608 non-null   bool   \n",
      "dtypes: bool(31), float64(3), int64(1)\n",
      "memory usage: 250.2 KB\n"
     ]
    }
   ],
   "source": [
    "df.info()"
   ]
  },
  {
   "cell_type": "code",
   "execution_count": 75,
   "id": "ae845386-92c1-4235-9104-fcc43f40e423",
   "metadata": {},
   "outputs": [
    {
     "data": {
      "text/plain": [
       "np.True_"
      ]
     },
     "execution_count": 75,
     "metadata": {},
     "output_type": "execute_result"
    }
   ],
   "source": [
    "# statement 1: Cluster 0 has the lowest average speed limit among all clusters. True\n",
    "avg_speed_limit = cluster0['Speed Limit'].mean()\n",
    "all_avg_speed_limits = X.groupby('agg')['Speed Limit'].mean()\n",
    "statement1 = avg_speed_limit == all_avg_speed_limits.min()\n",
    "statement1\n",
    "#print(avg_speed_limit , all_avg_speed_limits)"
   ]
  },
  {
   "cell_type": "code",
   "execution_count": 76,
   "id": "ee35d89f-e737-4f4f-8770-678edb9229f7",
   "metadata": {},
   "outputs": [
    {
     "name": "stdout",
     "output_type": "stream",
     "text": [
      "agg\n",
      "0    32.094878\n",
      "1    43.001443\n",
      "2    43.366142\n",
      "3    49.546569\n",
      "4    52.916667\n",
      "5    60.874126\n",
      "Name: Speed Limit, dtype: float64 32.09487825356843\n"
     ]
    }
   ],
   "source": [
    "# Explanation1\n",
    "avg_speed_limit = cluster0['Speed Limit'].mean()\n",
    "\n",
    "# Explanation1\n",
    "all_avg_speed_limits = X.groupby('agg')['Speed Limit'].mean()\n",
    "print(all_avg_speed_limits,avg_speed_limit) \n"
   ]
  },
  {
   "cell_type": "code",
   "execution_count": 77,
   "id": "49bf4178-9fcb-4749-be3b-cd6b357e0491",
   "metadata": {},
   "outputs": [
    {
     "data": {
      "text/plain": [
       "agg\n",
       "0    863\n",
       "1     43\n",
       "2     12\n",
       "3    102\n",
       "4      0\n",
       "5      0\n",
       "Name: Road Class_CITY STREET, dtype: int64"
      ]
     },
     "execution_count": 77,
     "metadata": {},
     "output_type": "execute_result"
    }
   ],
   "source": [
    "# statement 2: Majority of roads in Cluster 0 are classified as “City Street” True\n",
    "city_street_count = X.groupby('agg')['Road Class_CITY STREET'].sum()\n",
    "city_street_count"
   ]
  },
  {
   "cell_type": "code",
   "execution_count": 78,
   "id": "3a116162-251f-4cb1-aefe-1ed6b78e0b87",
   "metadata": {},
   "outputs": [
    {
     "name": "stdout",
     "output_type": "stream",
     "text": [
      "Precent of City Street Roads in Cluster 0 : 72.46\n"
     ]
    }
   ],
   "source": [
    "Cluster0_city_street = 863\n",
    "Total_size_Cluster0 = 1191\n",
    "percent_CITY_STREET = (Cluster0_city_street/Total_size_Cluster0)*100\n",
    "print(f\"Precent of City Street Roads in Cluster 0 : {percent_CITY_STREET:.2f}\")"
   ]
  },
  {
   "cell_type": "code",
   "execution_count": 79,
   "id": "323eb99d-94e6-4adf-8ddb-f5f863354ca4",
   "metadata": {},
   "outputs": [
    {
     "data": {
      "text/plain": [
       "np.False_"
      ]
     },
     "execution_count": 79,
     "metadata": {},
     "output_type": "execute_result"
    }
   ],
   "source": [
    "# statement 3: Cluster 0 has the lowest “US & State Highways” number in this dataset. False\n",
    "us_state_highways_count = cluster0['Road Class_US & STATE HIGHWAYS'].sum()\n",
    "all_us_state_highways_counts = X.groupby('agg')['Road Class_US & STATE HIGHWAYS'].sum()\n",
    "statement3 = us_state_highways_count == all_us_state_highways_counts.min()\n",
    "statement3"
   ]
  },
  {
   "cell_type": "code",
   "execution_count": 80,
   "id": "a7a19bd3-1b4f-4118-8cc9-6ef83b991bec",
   "metadata": {},
   "outputs": [
    {
     "name": "stdout",
     "output_type": "stream",
     "text": [
      "agg\n",
      "0     37\n",
      "1    645\n",
      "2     29\n",
      "3     54\n",
      "4     96\n",
      "5      0\n",
      "Name: Road Class_US & STATE HIGHWAYS, dtype: int64 37\n"
     ]
    }
   ],
   "source": [
    "# EXplanation3:\n",
    "us_state_highways_count = cluster0['Road Class_US & STATE HIGHWAYS'].sum()\n",
    "\n",
    "\n",
    "all_us_state_highways_counts = X.groupby('agg')['Road Class_US & STATE HIGHWAYS'].sum()\n",
    "print(all_us_state_highways_counts, us_state_highways_count)"
   ]
  },
  {
   "cell_type": "code",
   "execution_count": 81,
   "id": "53a8e769-0f8e-4669-b30a-d75988ace2aa",
   "metadata": {},
   "outputs": [
    {
     "data": {
      "text/plain": [
       "agg\n",
       "0      4\n",
       "1     17\n",
       "2    126\n",
       "3     23\n",
       "4     16\n",
       "5      0\n",
       "Name: Roadway Type_2 LANE, 2 WAY, dtype: int64"
      ]
     },
     "execution_count": 81,
     "metadata": {},
     "output_type": "execute_result"
    }
   ],
   "source": [
    "# Statement 4: Most of the roads in Cluster 0 are “2 LANE, 2 WAY” False\n",
    "two_lane_count = X.groupby('agg')['Roadway Type_2 LANE, 2 WAY'].sum()\n",
    "two_lane_count"
   ]
  },
  {
   "cell_type": "code",
   "execution_count": 82,
   "id": "ee12f895-3f1a-4b48-8cd4-905e576584fa",
   "metadata": {},
   "outputs": [
    {
     "name": "stdout",
     "output_type": "stream",
     "text": [
      "4 16 6 1165\n"
     ]
    }
   ],
   "source": [
    "#Explanation:\n",
    "two_lane_count = cluster0['Roadway Type_2 LANE, 2 WAY'].sum()\n",
    "divided = cluster0[\"Roadway Type_4 OR MORE LANES, DIVIDED\"].sum()\n",
    "undivided = cluster0[\"Roadway Type_4 OR MORE LANES, UNDIVIDED\"].sum()\n",
    "other = cluster0[\"Roadway Type_OTHER\"].sum()\n",
    "print(two_lane_count, divided, undivided, other)"
   ]
  },
  {
   "cell_type": "code",
   "execution_count": 83,
   "id": "64229436-3ddc-4472-831e-be5ae0433d55",
   "metadata": {},
   "outputs": [
    {
     "data": {
      "text/plain": [
       "np.False_"
      ]
     },
     "execution_count": 83,
     "metadata": {},
     "output_type": "execute_result"
    }
   ],
   "source": [
    "# statement 5:  Most of the accidents in this cluster are recorded with the manner of collision as “OPPOSITE DIRECTION” False\n",
    "opposite_direction_count = cluster0['Manner of Collision_OPPOSITE DIRECTION'].sum()\n",
    "statement5 = opposite_direction_count > (len(cluster0) / 2)\n",
    "statement5"
   ]
  },
  {
   "cell_type": "code",
   "execution_count": 84,
   "id": "196f5de2-e8f4-4e9a-8638-e6579c7d1869",
   "metadata": {},
   "outputs": [
    {
     "name": "stdout",
     "output_type": "stream",
     "text": [
      "129 403 276 362 21\n"
     ]
    }
   ],
   "source": [
    "opposite_direction_count = cluster0['Manner of Collision_OPPOSITE DIRECTION'].sum()\n",
    "one_motor = cluster0['Manner of Collision_ONE MOTOR VEHICLE'].sum()\n",
    "same_direction = cluster0['Manner of Collision_SAME DIRECTION'].sum()\n",
    "angle = cluster0['Manner of Collision_ANGLE'].sum()\n",
    "other = cluster0['Manner of Collision_OTHER'].sum()\n",
    "print(opposite_direction_count, one_motor, same_direction, angle, other)"
   ]
  },
  {
   "cell_type": "code",
   "execution_count": 85,
   "id": "eebbfc64-5d7c-4bba-9022-d26a4fc116a3",
   "metadata": {},
   "outputs": [
    {
     "name": "stdout",
     "output_type": "stream",
     "text": [
      "175\n",
      "180\n",
      "192\n",
      "154\n",
      "200\n",
      "166\n",
      "124\n"
     ]
    }
   ],
   "source": [
    "# statement 6 : Accidents recorded in Cluster 0 mostly happen on Friday. True\n",
    "mon_accidents = cluster0[cluster0['Day_Monday']]\n",
    "print(len(mon_accidents))\n",
    "tue_accidents = cluster0[cluster0['Day_Tuesday']]\n",
    "print(len(tue_accidents))\n",
    "wed_accidents = cluster0[cluster0['Day_Wednesday']]\n",
    "print(len(wed_accidents))\n",
    "thu_accidents = cluster0[cluster0['Day_Thursday']]\n",
    "print(len(thu_accidents))\n",
    "friday_accidents = cluster0[cluster0['Day_Friday']]\n",
    "print(len(friday_accidents))\n",
    "sat_accidents = cluster0[cluster0['Day_Saturday']]\n",
    "print(len(sat_accidents))\n",
    "sun_accidents = cluster0[cluster0['Day_Sunday']]\n",
    "print(len(sun_accidents))"
   ]
  },
  {
   "cell_type": "code",
   "execution_count": 86,
   "id": "ded40f80-9fdd-46dd-b6c7-81dc067fb6a1",
   "metadata": {},
   "outputs": [
    {
     "name": "stdout",
     "output_type": "stream",
     "text": [
      "agg\n",
      "0    92\n",
      "1    87\n",
      "2    20\n",
      "3    29\n",
      "4    34\n",
      "5    85\n",
      "Name: Time of Day_Morning Rush Hour, dtype: int64\n",
      "agg\n",
      "0    217\n",
      "1    123\n",
      "2     34\n",
      "3     54\n",
      "4     31\n",
      "5    193\n",
      "Name: Time of Day_Evening Rush Hour, dtype: int64\n",
      "agg\n",
      "0    882\n",
      "1    483\n",
      "2    200\n",
      "3    325\n",
      "4    139\n",
      "5    580\n",
      "Name: Time of Day_Other, dtype: int64\n"
     ]
    }
   ],
   "source": [
    "# statement 7 : Most of the accidents recorded in Cluster 0 happened in times other than morning and afternoon rush hours. True\n",
    "Morning = X.groupby('agg')['Time of Day_Morning Rush Hour'].sum()\n",
    "print(Morning)\n",
    "\n",
    "Evening = X.groupby('agg')['Time of Day_Evening Rush Hour'].sum()\n",
    "print(Evening)\n",
    "\n",
    "Other = X.groupby('agg')['Time of Day_Other'].sum()\n",
    "print(Other)"
   ]
  },
  {
   "cell_type": "code",
   "execution_count": 87,
   "id": "ed30221b-b71d-4c5f-a101-1526ac725c23",
   "metadata": {},
   "outputs": [
    {
     "name": "stdout",
     "output_type": "stream",
     "text": [
      "92 217 882\n"
     ]
    }
   ],
   "source": [
    "# Explanation7:\n",
    "morning = cluster0['Time of Day_Morning Rush Hour'].sum()\n",
    "evening = cluster0[\"Time of Day_Evening Rush Hour\"].sum()\n",
    "other = cluster0[\"Time of Day_Other\"].sum()\n",
    "print(morning, evening, other)\n"
   ]
  },
  {
   "cell_type": "markdown",
   "id": "aa13a015-1004-4195-b427-761c0aa9c6ae",
   "metadata": {},
   "source": [
    "# Question 7\n",
    "Mark all the correct answers for Cluster 1:"
   ]
  },
  {
   "cell_type": "code",
   "execution_count": 88,
   "id": "40858f67-b31f-4718-ac71-fc7e28173c1c",
   "metadata": {},
   "outputs": [],
   "source": [
    "\n",
    "cluster1 = X[X['agg'] == 1]"
   ]
  },
  {
   "cell_type": "code",
   "execution_count": 89,
   "id": "51e242ee-74ce-4c7b-85ae-a39dde606dd6",
   "metadata": {},
   "outputs": [
    {
     "data": {
      "text/plain": [
       "693"
      ]
     },
     "execution_count": 89,
     "metadata": {},
     "output_type": "execute_result"
    }
   ],
   "source": [
    "len(cluster1)"
   ]
  },
  {
   "cell_type": "code",
   "execution_count": 90,
   "id": "9ff8d24f-7b2a-4245-bd13-7b160a85d392",
   "metadata": {},
   "outputs": [
    {
     "data": {
      "text/plain": [
       "np.False_"
      ]
     },
     "execution_count": 90,
     "metadata": {},
     "output_type": "execute_result"
    }
   ],
   "source": [
    "# Statement 1: Cluster 1 has the highest “Adjusted Average Daily Traffic Amount” compared to other clusters. False\n",
    "adjusted_traffic_amount = cluster1['Adjusted Average Daily Traffic Amount'].mean()\n",
    "all_avg_traffic_amounts = X.groupby('agg')['Adjusted Average Daily Traffic Amount'].mean()\n",
    "statement1 = adjusted_traffic_amount == all_avg_traffic_amounts.max()\n",
    "statement1"
   ]
  },
  {
   "cell_type": "code",
   "execution_count": 91,
   "id": "0c44d6ea-3ab4-4b8f-ac58-337b3cf85774",
   "metadata": {},
   "outputs": [
    {
     "name": "stdout",
     "output_type": "stream",
     "text": [
      "agg\n",
      "0    14656.614610\n",
      "1    23402.756133\n",
      "2    10311.078740\n",
      "3    46181.674020\n",
      "4    45013.897059\n",
      "5    77387.968531\n",
      "Name: Adjusted Average Daily Traffic Amount, dtype: float64 23402.756132756134\n"
     ]
    }
   ],
   "source": [
    "# Explanation1:\n",
    "adjusted_traffic_amount = cluster1['Adjusted Average Daily Traffic Amount'].mean()\n",
    "\n",
    "\n",
    "all_avg_traffic_amounts = X.groupby('agg')['Adjusted Average Daily Traffic Amount'].mean()\n",
    "print(all_avg_traffic_amounts, adjusted_traffic_amount)"
   ]
  },
  {
   "cell_type": "code",
   "execution_count": 92,
   "id": "df7f2dc0-df32-4596-a100-485a991f63cd",
   "metadata": {},
   "outputs": [
    {
     "data": {
      "text/plain": [
       "np.False_"
      ]
     },
     "execution_count": 92,
     "metadata": {},
     "output_type": "execute_result"
    }
   ],
   "source": [
    "# Statement 2: Cluster 1 has the highest average “Speed Limit” compared to other clusters. False\n",
    "avg_speed_limit1 = cluster1['Speed Limit'].mean()\n",
    "all_avg_speed_limits1 = X.groupby('agg')['Speed Limit'].mean()\n",
    "statement2 = avg_speed_limit1 == all_avg_speed_limits1.max()\n",
    "statement2"
   ]
  },
  {
   "cell_type": "code",
   "execution_count": 93,
   "id": "bf59d786-9350-449f-bc0a-4c067dae25e8",
   "metadata": {},
   "outputs": [
    {
     "name": "stdout",
     "output_type": "stream",
     "text": [
      "agg\n",
      "0    32.094878\n",
      "1    43.001443\n",
      "2    43.366142\n",
      "3    49.546569\n",
      "4    52.916667\n",
      "5    60.874126\n",
      "Name: Speed Limit, dtype: float64 43.001443001443\n"
     ]
    }
   ],
   "source": [
    "# Explanation2\n",
    "avg_speed_limit1 = cluster1['Speed Limit'].mean()\n",
    "\n",
    "\n",
    "all_avg_speed_limits1 = X.groupby('agg')['Speed Limit'].mean()\n",
    "print(all_avg_speed_limits1, avg_speed_limit1)"
   ]
  },
  {
   "cell_type": "code",
   "execution_count": 94,
   "id": "a5f42337-5d1c-4df6-82c9-3e519417ffb5",
   "metadata": {},
   "outputs": [
    {
     "data": {
      "text/plain": [
       "np.True_"
      ]
     },
     "execution_count": 94,
     "metadata": {},
     "output_type": "execute_result"
    }
   ],
   "source": [
    "# Statement 3: None of the accidents recorded in Cluster 1 occurred on a road classified as “NON TRAFFICWAY” True\n",
    "statement3 = (cluster1['Road Class_NON TRAFFICWAY'].sum() == 0)\n",
    "statement3"
   ]
  },
  {
   "cell_type": "code",
   "execution_count": 95,
   "id": "2e0d102a-cc91-4dc7-a2ac-9bc4f529c752",
   "metadata": {},
   "outputs": [
    {
     "name": "stdout",
     "output_type": "stream",
     "text": [
      "43 5 0 0 645\n"
     ]
    }
   ],
   "source": [
    "# Explanation3:\n",
    "city_street_count1 = cluster1['Road Class_CITY STREET'].sum()\n",
    "farm_market1 = cluster1['Road Class_FARM TO MARKET'].sum()\n",
    "interstate1 = cluster1['Road Class_INTERSTATE'].sum()\n",
    "non_trafficway1 = cluster1['Road Class_NON TRAFFICWAY'].sum()\n",
    "US_state1 = cluster1['Road Class_US & STATE HIGHWAYS'].sum()\n",
    "\n",
    "print(city_street_count1, farm_market1, interstate1, non_trafficway1, US_state1)\n"
   ]
  },
  {
   "cell_type": "code",
   "execution_count": 96,
   "id": "5df7c347-f22d-4323-94f5-cc94f1b91ce2",
   "metadata": {},
   "outputs": [
    {
     "data": {
      "text/plain": [
       "np.True_"
      ]
     },
     "execution_count": 96,
     "metadata": {},
     "output_type": "execute_result"
    }
   ],
   "source": [
    "# Statement 4: None of the accidents recorded in Cluster 1 occurred on “Interstate” road class. True\n",
    "statement4 = (cluster1['Road Class_INTERSTATE'].sum() == 0)\n",
    "statement4"
   ]
  },
  {
   "cell_type": "code",
   "execution_count": 97,
   "id": "9a8dbd95-b79a-4d93-b234-1933a0ae8ac4",
   "metadata": {},
   "outputs": [
    {
     "name": "stdout",
     "output_type": "stream",
     "text": [
      "43 5 0 0 645\n"
     ]
    }
   ],
   "source": [
    "# Explanation4:\n",
    "city_street_count1 = cluster1['Road Class_CITY STREET'].sum()\n",
    "farm_market1 = cluster1['Road Class_FARM TO MARKET'].sum()\n",
    "interstate1 = cluster1['Road Class_INTERSTATE'].sum()\n",
    "non_trafficway1 = cluster1['Road Class_NON TRAFFICWAY'].sum()\n",
    "US_state1 = cluster1['Road Class_US & STATE HIGHWAYS'].sum()\n",
    "\n",
    "print(city_street_count1, farm_market1, interstate1, non_trafficway1, US_state1)"
   ]
  },
  {
   "cell_type": "code",
   "execution_count": 98,
   "id": "9ba172cd-87cc-4542-9430-58ce26a5b456",
   "metadata": {},
   "outputs": [
    {
     "data": {
      "text/plain": [
       "np.False_"
      ]
     },
     "execution_count": 98,
     "metadata": {},
     "output_type": "execute_result"
    }
   ],
   "source": [
    "# Statement 5: Most of the accidents in Cluster 1 occurred on roadways classified as “4 OR MORE LANES, UNDIVIDED.” False\n",
    "four_or_more_lanes_count1 = cluster1['Roadway Type_4 OR MORE LANES, UNDIVIDED'].sum()\n",
    "statement5= (four_or_more_lanes_count1 > len(cluster1) / 2)\n",
    "statement5"
   ]
  },
  {
   "cell_type": "code",
   "execution_count": 99,
   "id": "7e63ab39-0529-4be7-b19f-7399e7d1ce49",
   "metadata": {},
   "outputs": [
    {
     "name": "stdout",
     "output_type": "stream",
     "text": [
      "17 493 176 7\n"
     ]
    }
   ],
   "source": [
    "#Explanation5:\n",
    "two_lane_count1 = cluster1['Roadway Type_2 LANE, 2 WAY'].sum()\n",
    "divided1 = cluster1[\"Roadway Type_4 OR MORE LANES, DIVIDED\"].sum()\n",
    "undivided1 = cluster1[\"Roadway Type_4 OR MORE LANES, UNDIVIDED\"].sum()\n",
    "other1 = cluster1[\"Roadway Type_OTHER\"].sum()\n",
    "print(two_lane_count1, divided1, undivided1, other1)"
   ]
  },
  {
   "cell_type": "code",
   "execution_count": 100,
   "id": "ac2638e1-cc49-4873-a2fc-0140621c6cb4",
   "metadata": {},
   "outputs": [
    {
     "data": {
      "text/plain": [
       "False"
      ]
     },
     "execution_count": 100,
     "metadata": {},
     "output_type": "execute_result"
    }
   ],
   "source": [
    "# Statement 6: All accidents in Cluster 1 involve collisions in “Same direction,” “Opposite direction,” “One motor vehicle,” or “angle.” False\n",
    "collisions_count = cluster1[\n",
    "    cluster1['Manner of Collision_SAME DIRECTION'] |\n",
    "    cluster1['Manner of Collision_OPPOSITE DIRECTION'] |\n",
    "    cluster1['Manner of Collision_ONE MOTOR VEHICLE'] |\n",
    "    cluster1['Manner of Collision_ANGLE']\n",
    "].shape[0]\n",
    "statement6 = (collisions_count == len(cluster1))\n",
    "statement6"
   ]
  },
  {
   "cell_type": "code",
   "execution_count": 101,
   "id": "726d7d51-50f9-46ba-979c-4537b10f7926",
   "metadata": {},
   "outputs": [
    {
     "name": "stdout",
     "output_type": "stream",
     "text": [
      "159 50 296 187 1\n"
     ]
    }
   ],
   "source": [
    "# Explanation6:\n",
    "opposite_direction_count1 = cluster1['Manner of Collision_OPPOSITE DIRECTION'].sum()\n",
    "one_motor1 = cluster1['Manner of Collision_ONE MOTOR VEHICLE'].sum()\n",
    "same_direction1 = cluster1['Manner of Collision_SAME DIRECTION'].sum()\n",
    "angle1 = cluster1['Manner of Collision_ANGLE'].sum()\n",
    "other1 = cluster1['Manner of Collision_OTHER'].sum()\n",
    "print(opposite_direction_count1, one_motor1, same_direction1, angle1, other1)\n"
   ]
  },
  {
   "cell_type": "code",
   "execution_count": 102,
   "id": "db7b1c77-79fb-421e-9414-ac92ae6c503a",
   "metadata": {},
   "outputs": [
    {
     "name": "stdout",
     "output_type": "stream",
     "text": [
      "Precent of Saturdays in Cluster 1 : 11.83\n"
     ]
    }
   ],
   "source": [
    "# Statement 7: The majority of the accidents in Cluster 1 occurred on Saturdays. False\n",
    "Cluster1_size = 693\n",
    "Saturday_cluster_1 = 82\n",
    "percent = (Saturday_cluster_1/Cluster1_size)*100\n",
    "print(f\"Precent of Saturdays in Cluster 1 : {percent:.2f}\")"
   ]
  },
  {
   "cell_type": "code",
   "execution_count": 103,
   "id": "75ee5a55-daf3-4064-8a2f-d83745a11938",
   "metadata": {},
   "outputs": [
    {
     "name": "stdout",
     "output_type": "stream",
     "text": [
      "105\n",
      "123\n",
      "116\n",
      "97\n",
      "111\n",
      "82\n",
      "59\n"
     ]
    }
   ],
   "source": [
    "# EXplanation7:\n",
    "mon_accidents1 = cluster1[cluster1['Day_Monday']]\n",
    "print(len(mon_accidents1))\n",
    "tue_accidents1 = cluster1[cluster1['Day_Tuesday']]\n",
    "print(len(tue_accidents1))\n",
    "wed_accidents1 = cluster1[cluster1['Day_Wednesday']]\n",
    "print(len(wed_accidents1))\n",
    "thu_accidents1 = cluster1[cluster1['Day_Thursday']]\n",
    "print(len(thu_accidents1))\n",
    "friday_accidents1 = cluster1[cluster1['Day_Friday']]\n",
    "print(len(friday_accidents1))\n",
    "sat_accidents1 = cluster1[cluster1['Day_Saturday']]\n",
    "print(len(sat_accidents1))\n",
    "sun_accidents1 = cluster1[cluster1['Day_Sunday']]\n",
    "print(len(sun_accidents1))"
   ]
  },
  {
   "cell_type": "code",
   "execution_count": 104,
   "id": "fd00149c-d5b8-43b2-b75a-9f3651c6111d",
   "metadata": {},
   "outputs": [
    {
     "data": {
      "text/plain": [
       "np.False_"
      ]
     },
     "execution_count": 104,
     "metadata": {},
     "output_type": "execute_result"
    }
   ],
   "source": [
    "# Statement 8: There are more accidents during the “Morning Rush Hour” than the “Evening Rush Hour” in Cluster 1. False\n",
    "morning_rush_hour_count1 = cluster1['Time of Day_Morning Rush Hour'].sum()\n",
    "evening_rush_hour_count1 = cluster1['Time of Day_Evening Rush Hour'].sum()\n",
    "statement8 = (morning_rush_hour_count1 > evening_rush_hour_count1)\n",
    "statement8"
   ]
  },
  {
   "cell_type": "code",
   "execution_count": 105,
   "id": "bf538b14-fdb6-45f9-9f4a-07855272b597",
   "metadata": {},
   "outputs": [
    {
     "name": "stdout",
     "output_type": "stream",
     "text": [
      "87 123 483\n"
     ]
    }
   ],
   "source": [
    "# Explanation8:\n",
    "morning1 = cluster1['Time of Day_Morning Rush Hour'].sum()\n",
    "evening1 = cluster1[\"Time of Day_Evening Rush Hour\"].sum()\n",
    "other1 = cluster1[\"Time of Day_Other\"].sum()\n",
    "print(morning1, evening1, other1)\n"
   ]
  },
  {
   "cell_type": "markdown",
   "id": "40250329-c7d0-442d-96be-fcc727eccbe9",
   "metadata": {},
   "source": [
    "# Question 8\n",
    "Mark all the correct answers for Cluster 2:"
   ]
  },
  {
   "cell_type": "code",
   "execution_count": 106,
   "id": "bfe1979a-ce8a-421e-9708-7d271260814f",
   "metadata": {},
   "outputs": [],
   "source": [
    "\n",
    "cluster2 = X[X['agg'] == 2]"
   ]
  },
  {
   "cell_type": "code",
   "execution_count": 107,
   "id": "a0f1977a-71ca-40ad-9e11-6546e13d6ced",
   "metadata": {},
   "outputs": [
    {
     "data": {
      "text/plain": [
       "254"
      ]
     },
     "execution_count": 107,
     "metadata": {},
     "output_type": "execute_result"
    }
   ],
   "source": [
    "len(cluster2)"
   ]
  },
  {
   "cell_type": "code",
   "execution_count": 108,
   "id": "0e44c855-d805-4317-9c5d-37e73f2f0ca2",
   "metadata": {},
   "outputs": [
    {
     "data": {
      "text/plain": [
       "np.True_"
      ]
     },
     "execution_count": 108,
     "metadata": {},
     "output_type": "execute_result"
    }
   ],
   "source": [
    "# Statement 1: Cluster 2 has the lowest average “Adjusted Average Daily Traffic Amount” compared to other clusters. True\n",
    "avg_traffic_amount = cluster2['Adjusted Average Daily Traffic Amount'].mean()\n",
    "all_avg_traffic_amounts = X.groupby('agg')['Adjusted Average Daily Traffic Amount'].mean()\n",
    "statement1 = avg_traffic_amount == all_avg_traffic_amounts.min()\n",
    "statement1"
   ]
  },
  {
   "cell_type": "code",
   "execution_count": 109,
   "id": "219644d0-380b-4b23-a211-2355be0bf6fe",
   "metadata": {},
   "outputs": [
    {
     "data": {
      "text/plain": [
       "agg\n",
       "0    14656.614610\n",
       "1    23402.756133\n",
       "2    10311.078740\n",
       "3    46181.674020\n",
       "4    45013.897059\n",
       "5    77387.968531\n",
       "Name: Adjusted Average Daily Traffic Amount, dtype: float64"
      ]
     },
     "execution_count": 109,
     "metadata": {},
     "output_type": "execute_result"
    }
   ],
   "source": [
    "# Explanation1:\n",
    "all_avg_traffic_amounts = X.groupby('agg')['Adjusted Average Daily Traffic Amount'].mean()\n",
    "all_avg_traffic_amounts\n"
   ]
  },
  {
   "cell_type": "code",
   "execution_count": 110,
   "id": "0bc972fa-0e19-4040-87d4-050021884bbb",
   "metadata": {},
   "outputs": [
    {
     "data": {
      "text/plain": [
       "np.False_"
      ]
     },
     "execution_count": 110,
     "metadata": {},
     "output_type": "execute_result"
    }
   ],
   "source": [
    "# Statement2: Cluster 2 has the lowest average “Speed Limit” compared to other clusters. False\n",
    "avg_speed_limit2 = cluster2['Speed Limit'].mean()\n",
    "all_avg_speed_limits2 = X.groupby('agg')['Speed Limit'].mean()\n",
    "statement2 = avg_speed_limit2 == all_avg_speed_limits2.min()\n",
    "statement2"
   ]
  },
  {
   "cell_type": "code",
   "execution_count": 111,
   "id": "9344350f-9733-45c1-ac6b-17b17312d982",
   "metadata": {
    "scrolled": true
   },
   "outputs": [
    {
     "data": {
      "text/plain": [
       "agg\n",
       "0    32.094878\n",
       "1    43.001443\n",
       "2    43.366142\n",
       "3    49.546569\n",
       "4    52.916667\n",
       "5    60.874126\n",
       "Name: Speed Limit, dtype: float64"
      ]
     },
     "execution_count": 111,
     "metadata": {},
     "output_type": "execute_result"
    }
   ],
   "source": [
    "# Explanation2\n",
    "all_avg_speed_limits2 = X.groupby('agg')['Speed Limit'].mean()\n",
    "all_avg_speed_limits2\n"
   ]
  },
  {
   "cell_type": "code",
   "execution_count": 112,
   "id": "fd463ba2-12fb-4a24-9522-182824b60581",
   "metadata": {},
   "outputs": [
    {
     "data": {
      "text/plain": [
       "np.True_"
      ]
     },
     "execution_count": 112,
     "metadata": {},
     "output_type": "execute_result"
    }
   ],
   "source": [
    "# Statement 3: None of the accidents recorded in Cluster 2 occurred on a road classified as “NON TRAFFICWAY”. True\n",
    "statement3= (cluster2['Road Class_NON TRAFFICWAY'].sum() == 0)\n",
    "statement3"
   ]
  },
  {
   "cell_type": "code",
   "execution_count": 113,
   "id": "8c875978-5192-4ddf-8a48-8ece374af592",
   "metadata": {},
   "outputs": [
    {
     "name": "stdout",
     "output_type": "stream",
     "text": [
      "12 212 1 0 29\n"
     ]
    }
   ],
   "source": [
    "# Explanation3:\n",
    "city_street_count2 = cluster2['Road Class_CITY STREET'].sum()\n",
    "farm_market2 = cluster2['Road Class_FARM TO MARKET'].sum()\n",
    "interstate2 = cluster2['Road Class_INTERSTATE'].sum()\n",
    "non_trafficway2 = cluster2['Road Class_NON TRAFFICWAY'].sum()\n",
    "US_state2 = cluster2['Road Class_US & STATE HIGHWAYS'].sum()\n",
    "\n",
    "print(city_street_count2, farm_market2, interstate2, non_trafficway2, US_state2)"
   ]
  },
  {
   "cell_type": "code",
   "execution_count": 114,
   "id": "54061ab6-da0d-4aa6-9b4f-a4868f614958",
   "metadata": {},
   "outputs": [
    {
     "data": {
      "text/plain": [
       "np.True_"
      ]
     },
     "execution_count": 114,
     "metadata": {},
     "output_type": "execute_result"
    }
   ],
   "source": [
    "# Statement 4: Most of the accidents recorded in Cluster 2 occurred on “FARM TO MARKET” road class. True\n",
    "farm_to_market_count = cluster2['Road Class_FARM TO MARKET'].sum()\n",
    "statement4 = (farm_to_market_count > len(cluster2) / 2)\n",
    "statement4"
   ]
  },
  {
   "cell_type": "code",
   "execution_count": 115,
   "id": "9a49fbda-9c8e-4aab-a3c9-b7aaaa06811e",
   "metadata": {},
   "outputs": [
    {
     "name": "stdout",
     "output_type": "stream",
     "text": [
      "12 212 1 0 29\n"
     ]
    }
   ],
   "source": [
    "# Explanation4:\n",
    "city_street_count2 = cluster2['Road Class_CITY STREET'].sum()\n",
    "farm_market2 = cluster2['Road Class_FARM TO MARKET'].sum()\n",
    "interstate2 = cluster2['Road Class_INTERSTATE'].sum()\n",
    "non_trafficway2 = cluster2['Road Class_NON TRAFFICWAY'].sum()\n",
    "US_state2 = cluster2['Road Class_US & STATE HIGHWAYS'].sum()\n",
    "\n",
    "print(city_street_count2, farm_market2, interstate2, non_trafficway2, US_state2)"
   ]
  },
  {
   "cell_type": "code",
   "execution_count": 116,
   "id": "9e61b3ad-c36a-4b86-85c1-e15cfdeb4f40",
   "metadata": {},
   "outputs": [
    {
     "data": {
      "text/plain": [
       "np.False_"
      ]
     },
     "execution_count": 116,
     "metadata": {},
     "output_type": "execute_result"
    }
   ],
   "source": [
    "# Statement 5: Most of the accidents in Cluster 2 occurred on roadways classified as “4 OR MORE LANES, DIVIDED”. False\n",
    "four_or_more_divided_count = cluster2['Roadway Type_4 OR MORE LANES, DIVIDED'].sum()\n",
    "statement5 = (four_or_more_divided_count > len(cluster2) / 2)\n",
    "statement5"
   ]
  },
  {
   "cell_type": "code",
   "execution_count": 117,
   "id": "bd9bfe27-9d4c-47e8-9f1c-309137b79921",
   "metadata": {},
   "outputs": [
    {
     "name": "stdout",
     "output_type": "stream",
     "text": [
      "126 35 40 53\n"
     ]
    }
   ],
   "source": [
    "#Explanation5:\n",
    "two_lane_count2 = cluster2['Roadway Type_2 LANE, 2 WAY'].sum()\n",
    "divided2 = cluster2[\"Roadway Type_4 OR MORE LANES, DIVIDED\"].sum()\n",
    "undivided2 = cluster2[\"Roadway Type_4 OR MORE LANES, UNDIVIDED\"].sum()\n",
    "other2 = cluster2[\"Roadway Type_OTHER\"].sum()\n",
    "print(two_lane_count2, divided2, undivided2, other2)"
   ]
  },
  {
   "cell_type": "code",
   "execution_count": 118,
   "id": "d3e3cc20-fba7-4413-ae5d-b2d28e18d5b1",
   "metadata": {},
   "outputs": [
    {
     "name": "stdout",
     "output_type": "stream",
     "text": [
      "Precent of Monday in Cluster 2 : 18.11\n"
     ]
    }
   ],
   "source": [
    "# Statement 6:The majority of the accidents in Cluster 2 occurred on Mondays. False\n",
    "Cluster2_size = len(cluster2)\n",
    "Monday_cluster_2 = 46\n",
    "percent = (Monday_cluster_2/Cluster2_size)*100\n",
    "print(f\"Precent of Monday in Cluster 2 : {percent:.2f}\")"
   ]
  },
  {
   "cell_type": "code",
   "execution_count": 119,
   "id": "e21c94b0-da83-49ff-b3d7-474da14e42c8",
   "metadata": {},
   "outputs": [
    {
     "name": "stdout",
     "output_type": "stream",
     "text": [
      "46\n",
      "31\n",
      "34\n",
      "44\n",
      "35\n",
      "30\n",
      "34\n"
     ]
    }
   ],
   "source": [
    "# Explanation6:\n",
    "mon_accidents2 = cluster2[cluster2['Day_Monday']]\n",
    "print(len(mon_accidents2))\n",
    "tue_accidents2 = cluster2[cluster2['Day_Tuesday']]\n",
    "print(len(tue_accidents2))\n",
    "wed_accidents2 = cluster2[cluster2['Day_Wednesday']]\n",
    "print(len(wed_accidents2))\n",
    "thu_accidents2 = cluster2[cluster2['Day_Thursday']]\n",
    "print(len(thu_accidents2))\n",
    "friday_accidents2 = cluster2[cluster2['Day_Friday']]\n",
    "print(len(friday_accidents2))\n",
    "sat_accidents2 = cluster2[cluster2['Day_Saturday']]\n",
    "print(len(sat_accidents2))\n",
    "sun_accidents2 = cluster2[cluster2['Day_Sunday']]\n",
    "print(len(sun_accidents2))"
   ]
  },
  {
   "cell_type": "code",
   "execution_count": 120,
   "id": "bc3ec095-5728-4bc0-af13-ebad05bc8fa7",
   "metadata": {},
   "outputs": [
    {
     "data": {
      "text/plain": [
       "np.True_"
      ]
     },
     "execution_count": 120,
     "metadata": {},
     "output_type": "execute_result"
    }
   ],
   "source": [
    "# Statement 7: There are more accidents during the “Evening Rush Hour” than the “Morning Rush Hour” in Cluster 2. True\n",
    "evening_rush_hour_count = cluster2['Time of Day_Evening Rush Hour'].sum()\n",
    "morning_rush_hour_count = cluster2['Time of Day_Morning Rush Hour'].sum()\n",
    "statement7 = (evening_rush_hour_count > morning_rush_hour_count)\n",
    "statement7"
   ]
  },
  {
   "cell_type": "code",
   "execution_count": 121,
   "id": "738dc249-246d-4827-9b82-7e085828d059",
   "metadata": {},
   "outputs": [
    {
     "name": "stdout",
     "output_type": "stream",
     "text": [
      "20 34 200\n"
     ]
    }
   ],
   "source": [
    "# Explanation7:\n",
    "morning2 = cluster2['Time of Day_Morning Rush Hour'].sum()\n",
    "evening2 = cluster2[\"Time of Day_Evening Rush Hour\"].sum()\n",
    "other2 = cluster2[\"Time of Day_Other\"].sum()\n",
    "print(morning2, evening2, other2)"
   ]
  },
  {
   "cell_type": "markdown",
   "id": "93ddb96c-5ade-4b51-875b-8be4d3c0bcb1",
   "metadata": {},
   "source": [
    "# Question 9\n",
    "Mark all the correct answers for Cluster 3:"
   ]
  },
  {
   "cell_type": "code",
   "execution_count": 122,
   "id": "feb87b65-be93-45e0-888f-3c2703c7cda0",
   "metadata": {},
   "outputs": [],
   "source": [
    "\n",
    "cluster3 = X[X['agg'] == 3]"
   ]
  },
  {
   "cell_type": "code",
   "execution_count": 123,
   "id": "40eeca2b-7c8d-48f7-b405-e637f448c8b8",
   "metadata": {},
   "outputs": [
    {
     "data": {
      "text/plain": [
       "408"
      ]
     },
     "execution_count": 123,
     "metadata": {},
     "output_type": "execute_result"
    }
   ],
   "source": [
    "len(cluster3)"
   ]
  },
  {
   "cell_type": "code",
   "execution_count": 124,
   "id": "29af1855-8a44-40e5-bb3d-86c997e3a5e7",
   "metadata": {},
   "outputs": [
    {
     "data": {
      "text/plain": [
       "np.False_"
      ]
     },
     "execution_count": 124,
     "metadata": {},
     "output_type": "execute_result"
    }
   ],
   "source": [
    "# Statement 1: Cluster 3 has the highest average “Adjusted Average Daily Traffic Amount” compared to other clusters. False\n",
    "avg_traffic_amount = cluster3['Adjusted Average Daily Traffic Amount'].mean()\n",
    "all_avg_traffic_amounts = X.groupby('agg')['Adjusted Average Daily Traffic Amount'].mean()\n",
    "statement1 = avg_traffic_amount == all_avg_traffic_amounts.max()\n",
    "statement1"
   ]
  },
  {
   "cell_type": "code",
   "execution_count": 125,
   "id": "fe4c8816-be39-4fdd-8303-3c2054bb5840",
   "metadata": {},
   "outputs": [
    {
     "data": {
      "text/plain": [
       "agg\n",
       "0    14656.614610\n",
       "1    23402.756133\n",
       "2    10311.078740\n",
       "3    46181.674020\n",
       "4    45013.897059\n",
       "5    77387.968531\n",
       "Name: Adjusted Average Daily Traffic Amount, dtype: float64"
      ]
     },
     "execution_count": 125,
     "metadata": {},
     "output_type": "execute_result"
    }
   ],
   "source": [
    "# Expalantion1:\n",
    "all_avg_traffic_amounts = X.groupby('agg')['Adjusted Average Daily Traffic Amount'].mean()\n",
    "all_avg_traffic_amounts"
   ]
  },
  {
   "cell_type": "code",
   "execution_count": 126,
   "id": "a3ab5911-fab9-45a7-8203-c1998366f52d",
   "metadata": {},
   "outputs": [
    {
     "data": {
      "text/plain": [
       "np.False_"
      ]
     },
     "execution_count": 126,
     "metadata": {},
     "output_type": "execute_result"
    }
   ],
   "source": [
    "# Statement 2: Cluster 3 has the highest average “Speed Limit” compared to other clusters. False\n",
    "avg_speed_limit = cluster3['Speed Limit'].mean()\n",
    "all_avg_speed_limits = X.groupby('agg')['Speed Limit'].mean()\n",
    "statement2 = avg_speed_limit == all_avg_speed_limits.max()\n",
    "statement2"
   ]
  },
  {
   "cell_type": "code",
   "execution_count": 127,
   "id": "17940424-f69b-49b8-8fd9-7a8b7da3e671",
   "metadata": {},
   "outputs": [
    {
     "data": {
      "text/plain": [
       "agg\n",
       "0    32.094878\n",
       "1    43.001443\n",
       "2    43.366142\n",
       "3    49.546569\n",
       "4    52.916667\n",
       "5    60.874126\n",
       "Name: Speed Limit, dtype: float64"
      ]
     },
     "execution_count": 127,
     "metadata": {},
     "output_type": "execute_result"
    }
   ],
   "source": [
    "# Explanation2\n",
    "all_avg_speed_limits2 = X.groupby('agg')['Speed Limit'].mean()\n",
    "all_avg_speed_limits2"
   ]
  },
  {
   "cell_type": "code",
   "execution_count": 128,
   "id": "330e8363-06a2-4a85-8a52-7df2bcba9e07",
   "metadata": {},
   "outputs": [
    {
     "data": {
      "text/plain": [
       "np.False_"
      ]
     },
     "execution_count": 128,
     "metadata": {},
     "output_type": "execute_result"
    }
   ],
   "source": [
    "# Statement3:None of the accidents recorded in Cluster 3 occurred on a road classified as “City Street.” False\n",
    "statement3 = (cluster3['Road Class_CITY STREET'].sum() == 0)\n",
    "statement3"
   ]
  },
  {
   "cell_type": "code",
   "execution_count": 129,
   "id": "99ffdd4d-a725-428a-8b44-109e8176b191",
   "metadata": {},
   "outputs": [
    {
     "name": "stdout",
     "output_type": "stream",
     "text": [
      "102 28 197 27 54\n"
     ]
    }
   ],
   "source": [
    "# Explanation3:\n",
    "city_street_count3 = cluster3['Road Class_CITY STREET'].sum()\n",
    "farm_market3 = cluster3['Road Class_FARM TO MARKET'].sum()\n",
    "interstate3 = cluster3['Road Class_INTERSTATE'].sum()\n",
    "non_trafficway3 = cluster3['Road Class_NON TRAFFICWAY'].sum()\n",
    "US_state3 = cluster3['Road Class_US & STATE HIGHWAYS'].sum()\n",
    "\n",
    "print(city_street_count3, farm_market3, interstate3, non_trafficway3, US_state3)"
   ]
  },
  {
   "cell_type": "code",
   "execution_count": 130,
   "id": "45198d28-b14a-41b8-9b09-0b4db329d1c1",
   "metadata": {},
   "outputs": [
    {
     "data": {
      "text/plain": [
       "np.True_"
      ]
     },
     "execution_count": 130,
     "metadata": {},
     "output_type": "execute_result"
    }
   ],
   "source": [
    "# Statement 4: Most of the accidents in Cluster 3 occurred on roadways classified as “4 Or More Lanes, Divided.” True\n",
    "four_or_more_divided_count = cluster3['Roadway Type_4 OR MORE LANES, DIVIDED'].sum()\n",
    "statement4 = (four_or_more_divided_count > len(cluster3) / 2)\n",
    "statement4"
   ]
  },
  {
   "cell_type": "code",
   "execution_count": 131,
   "id": "632fecdb-f3d6-4140-8cf2-f7feaab601ec",
   "metadata": {},
   "outputs": [
    {
     "name": "stdout",
     "output_type": "stream",
     "text": [
      "23 224 19 142\n"
     ]
    }
   ],
   "source": [
    "#Explanation4:\n",
    "two_lane_count3 = cluster3['Roadway Type_2 LANE, 2 WAY'].sum()\n",
    "divided3 = cluster3[\"Roadway Type_4 OR MORE LANES, DIVIDED\"].sum()\n",
    "undivided3 = cluster3[\"Roadway Type_4 OR MORE LANES, UNDIVIDED\"].sum()\n",
    "other3 = cluster3[\"Roadway Type_OTHER\"].sum()\n",
    "print(two_lane_count3, divided3, undivided3, other3)"
   ]
  },
  {
   "cell_type": "code",
   "execution_count": 132,
   "id": "42f5e2dc-824d-40d6-92be-c45f0cd799b7",
   "metadata": {},
   "outputs": [
    {
     "data": {
      "text/plain": [
       "False"
      ]
     },
     "execution_count": 132,
     "metadata": {},
     "output_type": "execute_result"
    }
   ],
   "source": [
    "# Statement 5: All accidents in Cluster 3 involve collisions in “Same direction,” “Opposite direction,” “One motor vehicle,” or “angle.” False\n",
    "collisions_count = cluster3[\n",
    "    cluster3['Manner of Collision_SAME DIRECTION'] |\n",
    "    cluster3['Manner of Collision_OPPOSITE DIRECTION'] |\n",
    "    cluster3['Manner of Collision_ONE MOTOR VEHICLE'] |\n",
    "    cluster3['Manner of Collision_ANGLE']\n",
    "].shape[0]\n",
    "statement5 = (collisions_count == len(cluster3))\n",
    "statement5"
   ]
  },
  {
   "cell_type": "code",
   "execution_count": 133,
   "id": "203d5152-c0ae-48de-959b-54858e55e161",
   "metadata": {},
   "outputs": [
    {
     "name": "stdout",
     "output_type": "stream",
     "text": [
      "29 148 165 62 4\n"
     ]
    }
   ],
   "source": [
    "# Explanation5:\n",
    "opposite_direction_count3 = cluster3['Manner of Collision_OPPOSITE DIRECTION'].sum()\n",
    "one_motor3 = cluster3['Manner of Collision_ONE MOTOR VEHICLE'].sum()\n",
    "same_direction3 = cluster3['Manner of Collision_SAME DIRECTION'].sum()\n",
    "angle3 = cluster3['Manner of Collision_ANGLE'].sum()\n",
    "other3 = cluster3['Manner of Collision_OTHER'].sum()\n",
    "print(opposite_direction_count3, one_motor3, same_direction3, angle3, other3)\n"
   ]
  },
  {
   "cell_type": "code",
   "execution_count": 134,
   "id": "1906dee6-4caa-4fd7-a090-0ce2ea1ce691",
   "metadata": {},
   "outputs": [
    {
     "data": {
      "text/plain": [
       "np.True_"
      ]
     },
     "execution_count": 134,
     "metadata": {},
     "output_type": "execute_result"
    }
   ],
   "source": [
    "# Statement 6: Number of accident on Thursdays is higher than other days in Cluster 3. True\n",
    "thursday_accidents = cluster3['Day_Thursday'].sum()\n",
    "other_days_counts = {day: cluster3[f'Day_{day}'].sum() for day in ['Monday', 'Tuesday', 'Wednesday', 'Friday', 'Saturday', 'Sunday']}\n",
    "statement6 = (thursday_accidents > max(other_days_counts.values()))\n",
    "statement6"
   ]
  },
  {
   "cell_type": "code",
   "execution_count": 135,
   "id": "9bf40259-fa9f-43cf-abc4-44fb607abfe9",
   "metadata": {},
   "outputs": [
    {
     "name": "stdout",
     "output_type": "stream",
     "text": [
      "48\n",
      "48\n",
      "37\n",
      "95\n",
      "53\n",
      "71\n",
      "56\n"
     ]
    }
   ],
   "source": [
    "# Explanation6:\n",
    "mon_accidents3 = cluster3[cluster3['Day_Monday']]\n",
    "print(len(mon_accidents3))\n",
    "tue_accidents3 = cluster3[cluster3['Day_Tuesday']]\n",
    "print(len(tue_accidents3))\n",
    "wed_accidents3 = cluster3[cluster3['Day_Wednesday']]\n",
    "print(len(wed_accidents3))\n",
    "thu_accidents3 = cluster3[cluster3['Day_Thursday']]\n",
    "print(len(thu_accidents3))\n",
    "friday_accidents3 = cluster3[cluster3['Day_Friday']]\n",
    "print(len(friday_accidents3))\n",
    "sat_accidents3 = cluster3[cluster3['Day_Saturday']]\n",
    "print(len(sat_accidents3))\n",
    "sun_accidents3 = cluster3[cluster3['Day_Sunday']]\n",
    "print(len(sun_accidents3))"
   ]
  },
  {
   "cell_type": "code",
   "execution_count": 136,
   "id": "65e89ecb-7ad9-4e83-bf2c-c7de794b473d",
   "metadata": {},
   "outputs": [
    {
     "data": {
      "text/plain": [
       "np.False_"
      ]
     },
     "execution_count": 136,
     "metadata": {},
     "output_type": "execute_result"
    }
   ],
   "source": [
    "# Statement 7: There are more accidents during the “Morning Rush Hour” than the “Evening Rush Hour” in Cluster 3. False\n",
    "morning_rush_hour_count = cluster3['Time of Day_Morning Rush Hour'].sum()\n",
    "evening_rush_hour_count = cluster3['Time of Day_Evening Rush Hour'].sum()\n",
    "statement7 = (morning_rush_hour_count > evening_rush_hour_count)\n",
    "statement7"
   ]
  },
  {
   "cell_type": "code",
   "execution_count": 137,
   "id": "086eba91-43fb-4d81-a3f6-d3d891645272",
   "metadata": {},
   "outputs": [
    {
     "name": "stdout",
     "output_type": "stream",
     "text": [
      "29 54 325\n"
     ]
    }
   ],
   "source": [
    "# Explanation7:\n",
    "morning3 = cluster3['Time of Day_Morning Rush Hour'].sum()\n",
    "evening3 = cluster3[\"Time of Day_Evening Rush Hour\"].sum()\n",
    "other3 = cluster3[\"Time of Day_Other\"].sum()\n",
    "print(morning3, evening3, other3)"
   ]
  },
  {
   "cell_type": "markdown",
   "id": "cd2e8b53-4811-4f6f-a5f5-5f6b1c994079",
   "metadata": {},
   "source": [
    "# Question 10\n",
    "Mark all the correct answers for Cluster 4:"
   ]
  },
  {
   "cell_type": "code",
   "execution_count": 138,
   "id": "f1e1556b-605a-42b7-a32a-cbfec54b0e76",
   "metadata": {},
   "outputs": [],
   "source": [
    "\n",
    "cluster4 = X[X['agg'] == 4]"
   ]
  },
  {
   "cell_type": "code",
   "execution_count": 139,
   "id": "72cf660d-da87-4207-8be8-492efe59e623",
   "metadata": {},
   "outputs": [
    {
     "data": {
      "text/plain": [
       "204"
      ]
     },
     "execution_count": 139,
     "metadata": {},
     "output_type": "execute_result"
    }
   ],
   "source": [
    "len(cluster4)"
   ]
  },
  {
   "cell_type": "code",
   "execution_count": 140,
   "id": "4ed8d94a-fc52-4da0-9641-9ccb3742d9eb",
   "metadata": {},
   "outputs": [
    {
     "data": {
      "text/plain": [
       "np.False_"
      ]
     },
     "execution_count": 140,
     "metadata": {},
     "output_type": "execute_result"
    }
   ],
   "source": [
    "# Statement1:Cluster 4 has the lowest average “Adjusted Average Daily Traffic Amount” compared to other clusters. False\n",
    "avg_traffic_amount = cluster4['Adjusted Average Daily Traffic Amount'].mean()\n",
    "all_avg_traffic_amounts = X.groupby('agg')['Adjusted Average Daily Traffic Amount'].mean()\n",
    "statement1 = avg_traffic_amount == all_avg_traffic_amounts.min()\n",
    "statement1"
   ]
  },
  {
   "cell_type": "code",
   "execution_count": 141,
   "id": "f2e82706-c0fb-46d5-944e-34599382d81a",
   "metadata": {},
   "outputs": [
    {
     "data": {
      "text/plain": [
       "agg\n",
       "0    14656.614610\n",
       "1    23402.756133\n",
       "2    10311.078740\n",
       "3    46181.674020\n",
       "4    45013.897059\n",
       "5    77387.968531\n",
       "Name: Adjusted Average Daily Traffic Amount, dtype: float64"
      ]
     },
     "execution_count": 141,
     "metadata": {},
     "output_type": "execute_result"
    }
   ],
   "source": [
    "# Expalantion1:\n",
    "all_avg_traffic_amounts = X.groupby('agg')['Adjusted Average Daily Traffic Amount'].mean()\n",
    "all_avg_traffic_amounts"
   ]
  },
  {
   "cell_type": "code",
   "execution_count": 142,
   "id": "9a38cb32-e677-46d3-bcf2-144cb317efe4",
   "metadata": {},
   "outputs": [
    {
     "data": {
      "text/plain": [
       "np.False_"
      ]
     },
     "execution_count": 142,
     "metadata": {},
     "output_type": "execute_result"
    }
   ],
   "source": [
    "# Statement 2:Cluster 4 has the lowest average “Speed Limit” compared to other clusters - False\n",
    "avg_speed_limit = cluster4['Speed Limit'].mean()\n",
    "all_avg_speed_limits = X.groupby('agg')['Speed Limit'].mean()\n",
    "statement2 = avg_speed_limit == all_avg_speed_limits.min()\n",
    "statement2"
   ]
  },
  {
   "cell_type": "code",
   "execution_count": 143,
   "id": "5e8ad837-8b76-4340-a0f7-f193f2137e31",
   "metadata": {},
   "outputs": [
    {
     "data": {
      "text/plain": [
       "agg\n",
       "0    32.094878\n",
       "1    43.001443\n",
       "2    43.366142\n",
       "3    49.546569\n",
       "4    52.916667\n",
       "5    60.874126\n",
       "Name: Speed Limit, dtype: float64"
      ]
     },
     "execution_count": 143,
     "metadata": {},
     "output_type": "execute_result"
    }
   ],
   "source": [
    "# Explanation2\n",
    "all_avg_speed_limits = X.groupby('agg')['Speed Limit'].mean()\n",
    "all_avg_speed_limits"
   ]
  },
  {
   "cell_type": "code",
   "execution_count": 144,
   "id": "8c4479eb-8a69-4f3d-877e-f46f8bbe6bac",
   "metadata": {},
   "outputs": [
    {
     "data": {
      "text/plain": [
       "np.True_"
      ]
     },
     "execution_count": 144,
     "metadata": {},
     "output_type": "execute_result"
    }
   ],
   "source": [
    "# Statement3:None of the accidents recorded in Cluster 4 occurred on a road classified as “City Street.” True\n",
    "statement3 = (cluster4['Road Class_CITY STREET'].sum() == 0)\n",
    "statement3"
   ]
  },
  {
   "cell_type": "code",
   "execution_count": 145,
   "id": "54d4cc30-37fb-466b-a133-c529c8609d8a",
   "metadata": {},
   "outputs": [
    {
     "name": "stdout",
     "output_type": "stream",
     "text": [
      "0 20 88 0 96\n"
     ]
    }
   ],
   "source": [
    "# Explanation3:\n",
    "city_street_count4 = cluster4['Road Class_CITY STREET'].sum()\n",
    "farm_market4 = cluster4['Road Class_FARM TO MARKET'].sum()\n",
    "interstate4 = cluster4['Road Class_INTERSTATE'].sum()\n",
    "non_trafficway4 = cluster4['Road Class_NON TRAFFICWAY'].sum()\n",
    "US_state4 = cluster4['Road Class_US & STATE HIGHWAYS'].sum()\n",
    "\n",
    "print(city_street_count4, farm_market4, interstate4, non_trafficway4, US_state4)"
   ]
  },
  {
   "cell_type": "code",
   "execution_count": 146,
   "id": "e058d006-8312-4251-96d3-3332e66842e6",
   "metadata": {},
   "outputs": [
    {
     "data": {
      "text/plain": [
       "np.True_"
      ]
     },
     "execution_count": 146,
     "metadata": {},
     "output_type": "execute_result"
    }
   ],
   "source": [
    "# Statement4 :Most of the accidents recorded in Cluster 4 occurred on “US & STATE HIGHWAYS” road class. True\n",
    "us_state_highways_count = cluster4['Road Class_US & STATE HIGHWAYS'].sum()\n",
    "statement4 = (us_state_highways_count <= len(cluster4)/2)\n",
    "statement4"
   ]
  },
  {
   "cell_type": "code",
   "execution_count": 147,
   "id": "397fbc23-21ea-42a1-b8d8-878c76f4767b",
   "metadata": {},
   "outputs": [
    {
     "name": "stdout",
     "output_type": "stream",
     "text": [
      "0 20 88 0 96\n"
     ]
    }
   ],
   "source": [
    "# Explanation4:\n",
    "city_street_count4 = cluster4['Road Class_CITY STREET'].sum()\n",
    "farm_market4 = cluster4['Road Class_FARM TO MARKET'].sum()\n",
    "interstate4 = cluster4['Road Class_INTERSTATE'].sum()\n",
    "non_trafficway4 = cluster4['Road Class_NON TRAFFICWAY'].sum()\n",
    "US_state4 = cluster4['Road Class_US & STATE HIGHWAYS'].sum()\n",
    "\n",
    "print(city_street_count4, farm_market4, interstate4, non_trafficway4, US_state4)"
   ]
  },
  {
   "cell_type": "code",
   "execution_count": 148,
   "id": "ef7f988e-9f1e-4f24-a34d-2c873266040b",
   "metadata": {},
   "outputs": [
    {
     "data": {
      "text/plain": [
       "np.True_"
      ]
     },
     "execution_count": 148,
     "metadata": {},
     "output_type": "execute_result"
    }
   ],
   "source": [
    "# Statement5:Most of the accidents in Cluster 4 occurred on roadways classified as “4 OR MORE LANES, DIVIDED”. True\n",
    "four_or_more_divided_count = cluster4['Roadway Type_4 OR MORE LANES, DIVIDED'].sum()\n",
    "statement5 = (four_or_more_divided_count > len(cluster4) / 2)\n",
    "statement5"
   ]
  },
  {
   "cell_type": "code",
   "execution_count": 149,
   "id": "4409ac74-a45e-4bf7-936e-fb43afb99194",
   "metadata": {},
   "outputs": [
    {
     "name": "stdout",
     "output_type": "stream",
     "text": [
      "16 153 26 9\n"
     ]
    }
   ],
   "source": [
    "#Explanation5:\n",
    "two_lane_count4 = cluster4['Roadway Type_2 LANE, 2 WAY'].sum()\n",
    "divided4 = cluster4[\"Roadway Type_4 OR MORE LANES, DIVIDED\"].sum()\n",
    "undivided4 = cluster4[\"Roadway Type_4 OR MORE LANES, UNDIVIDED\"].sum()\n",
    "other4 = cluster4[\"Roadway Type_OTHER\"].sum()\n",
    "print(two_lane_count4, divided4, undivided4, other4)"
   ]
  },
  {
   "cell_type": "code",
   "execution_count": 150,
   "id": "e246418d-0094-4a6a-88fd-53b6cf776380",
   "metadata": {},
   "outputs": [
    {
     "data": {
      "text/plain": [
       "True"
      ]
     },
     "execution_count": 150,
     "metadata": {},
     "output_type": "execute_result"
    }
   ],
   "source": [
    "# Statement6:All accidents in Cluster 4 involve collisions in “Same direction,” “Opposite direction,” “One motor vehicle,” or “angle.” True\n",
    "\n",
    "collisions_count = cluster4[\n",
    "    cluster4['Manner of Collision_SAME DIRECTION'] |\n",
    "    cluster4['Manner of Collision_OPPOSITE DIRECTION'] |\n",
    "    cluster4['Manner of Collision_ONE MOTOR VEHICLE'] |\n",
    "    cluster4['Manner of Collision_ANGLE']\n",
    "].shape[0]\n",
    "statement6 = (collisions_count == len(cluster4))\n",
    "statement6"
   ]
  },
  {
   "cell_type": "code",
   "execution_count": 151,
   "id": "fda204f3-98f3-47fa-8d3b-ab595fcacade",
   "metadata": {},
   "outputs": [
    {
     "name": "stdout",
     "output_type": "stream",
     "text": [
      "18 29 118 39 0\n"
     ]
    }
   ],
   "source": [
    "# Explanation6:\n",
    "opposite_direction_count4 = cluster4['Manner of Collision_OPPOSITE DIRECTION'].sum()\n",
    "one_motor4 = cluster4['Manner of Collision_ONE MOTOR VEHICLE'].sum()\n",
    "same_direction4 = cluster4['Manner of Collision_SAME DIRECTION'].sum()\n",
    "angle4 = cluster4['Manner of Collision_ANGLE'].sum()\n",
    "other4 = cluster4['Manner of Collision_OTHER'].sum()\n",
    "print(opposite_direction_count4, one_motor4, same_direction4, angle4, other4)\n"
   ]
  },
  {
   "cell_type": "code",
   "execution_count": 152,
   "id": "e2272bbf-124a-43fd-97f9-ae189e955c7d",
   "metadata": {},
   "outputs": [
    {
     "name": "stdout",
     "output_type": "stream",
     "text": [
      "Precent of Friday in Cluster 4 : 25.98\n"
     ]
    }
   ],
   "source": [
    "# Statement 7:The majority of the accidents in Cluster 4 occurred on Friday. False\n",
    "Cluster4_size = len(cluster4)\n",
    "Friday_cluster_4 = 53\n",
    "percent = (Friday_cluster_4/Cluster4_size)*100\n",
    "print(f\"Precent of Friday in Cluster 4 : {percent:.2f}\")"
   ]
  },
  {
   "cell_type": "code",
   "execution_count": 153,
   "id": "cafd44bb-5177-43eb-83d6-b9bfd89a46d3",
   "metadata": {},
   "outputs": [
    {
     "name": "stdout",
     "output_type": "stream",
     "text": [
      "26\n",
      "36\n",
      "31\n",
      "27\n",
      "53\n",
      "20\n",
      "11\n"
     ]
    }
   ],
   "source": [
    "# Explanation7:\n",
    "mon_accidents4 = cluster4[cluster4['Day_Monday']]\n",
    "print(len(mon_accidents4))\n",
    "tue_accidents4 = cluster4[cluster4['Day_Tuesday']]\n",
    "print(len(tue_accidents4))\n",
    "wed_accidents4 = cluster4[cluster4['Day_Wednesday']]\n",
    "print(len(wed_accidents4))\n",
    "thu_accidents4 = cluster4[cluster4['Day_Thursday']]\n",
    "print(len(thu_accidents4))\n",
    "friday_accidents4 = cluster4[cluster4['Day_Friday']]\n",
    "print(len(friday_accidents4))\n",
    "sat_accidents4 = cluster4[cluster4['Day_Saturday']]\n",
    "print(len(sat_accidents4))\n",
    "sun_accidents4 = cluster4[cluster4['Day_Sunday']]\n",
    "print(len(sun_accidents4))"
   ]
  },
  {
   "cell_type": "code",
   "execution_count": 154,
   "id": "563f0594-e24e-4302-9d86-b9f2b5e8ec17",
   "metadata": {},
   "outputs": [
    {
     "data": {
      "text/plain": [
       "np.False_"
      ]
     },
     "execution_count": 154,
     "metadata": {},
     "output_type": "execute_result"
    }
   ],
   "source": [
    "# Statement 8:There are more accidents during the “Evening Rush Hour” than the “Morning Rush Hour” in Cluster 4. False\n",
    "evening_rush_hour_count = cluster4['Time of Day_Evening Rush Hour'].sum()\n",
    "morning_rush_hour_count = cluster4['Time of Day_Morning Rush Hour'].sum()\n",
    "statement8 = (evening_rush_hour_count > morning_rush_hour_count)\n",
    "statement8"
   ]
  },
  {
   "cell_type": "code",
   "execution_count": 155,
   "id": "5e18804f-4169-48b4-adbb-00025f9335ad",
   "metadata": {},
   "outputs": [
    {
     "name": "stdout",
     "output_type": "stream",
     "text": [
      "34 31 139\n"
     ]
    }
   ],
   "source": [
    "# Explanation8:\n",
    "morning4 = cluster4['Time of Day_Morning Rush Hour'].sum()\n",
    "evening4 = cluster4[\"Time of Day_Evening Rush Hour\"].sum()\n",
    "other4 = cluster4[\"Time of Day_Other\"].sum()\n",
    "print(morning4, evening4, other4)"
   ]
  },
  {
   "cell_type": "markdown",
   "id": "aa81ca4c-7d79-41ce-bf89-0a269a84b2c1",
   "metadata": {},
   "source": [
    "# Question 11\n",
    "Mark all the correct answers for Cluster 5:"
   ]
  },
  {
   "cell_type": "code",
   "execution_count": 156,
   "id": "1748197b-6543-4015-b8fe-7c5079430213",
   "metadata": {},
   "outputs": [],
   "source": [
    "\n",
    "cluster5 = X[X['agg'] == 5]"
   ]
  },
  {
   "cell_type": "code",
   "execution_count": 157,
   "id": "e8833ec0-e38b-47ee-8bf4-e8db4027685a",
   "metadata": {},
   "outputs": [
    {
     "data": {
      "text/plain": [
       "858"
      ]
     },
     "execution_count": 157,
     "metadata": {},
     "output_type": "execute_result"
    }
   ],
   "source": [
    "len(cluster5)"
   ]
  },
  {
   "cell_type": "code",
   "execution_count": 158,
   "id": "d5776ef3-7fe9-41b1-aed6-76ffb5aea768",
   "metadata": {},
   "outputs": [
    {
     "data": {
      "text/plain": [
       "np.False_"
      ]
     },
     "execution_count": 158,
     "metadata": {},
     "output_type": "execute_result"
    }
   ],
   "source": [
    "# Statement 1:Cluster 5 has the lowest average speed limit among all clusters. False\n",
    "avg_speed_limit = cluster5['Speed Limit'].mean()\n",
    "all_avg_speed_limits = X.groupby('agg')['Speed Limit'].mean()\n",
    "statement1 = avg_speed_limit == all_avg_speed_limits.min()\n",
    "statement1"
   ]
  },
  {
   "cell_type": "code",
   "execution_count": 159,
   "id": "af37770d-1448-40c5-8320-98379d3706c0",
   "metadata": {},
   "outputs": [
    {
     "name": "stdout",
     "output_type": "stream",
     "text": [
      "agg\n",
      "0    32.094878\n",
      "1    43.001443\n",
      "2    43.366142\n",
      "3    49.546569\n",
      "4    52.916667\n",
      "5    60.874126\n",
      "Name: Speed Limit, dtype: float64 60.87412587412587\n"
     ]
    }
   ],
   "source": [
    "# Explanation1\n",
    "avg_speed_limit = cluster5['Speed Limit'].mean()\n",
    "all_avg_speed_limits = X.groupby('agg')['Speed Limit'].mean()\n",
    "print(all_avg_speed_limits, avg_speed_limit)"
   ]
  },
  {
   "cell_type": "code",
   "execution_count": 160,
   "id": "af4345c1-63e8-4924-bb6a-ed4d1ed4d91b",
   "metadata": {},
   "outputs": [
    {
     "data": {
      "text/plain": [
       "np.True_"
      ]
     },
     "execution_count": 160,
     "metadata": {},
     "output_type": "execute_result"
    }
   ],
   "source": [
    "# Statement2:Cluster 5 has the highest average “Speed Limit” among the 6 clusters. True\n",
    "avg_speed_limit = cluster5['Speed Limit'].mean()\n",
    "statement2 = avg_speed_limit == all_avg_speed_limits.max()\n",
    "statement2"
   ]
  },
  {
   "cell_type": "code",
   "execution_count": 161,
   "id": "b91052c6-253f-4898-9f7b-5c68e7b5a1b8",
   "metadata": {},
   "outputs": [
    {
     "data": {
      "text/plain": [
       "agg\n",
       "0    32.094878\n",
       "1    43.001443\n",
       "2    43.366142\n",
       "3    49.546569\n",
       "4    52.916667\n",
       "5    60.874126\n",
       "Name: Speed Limit, dtype: float64"
      ]
     },
     "execution_count": 161,
     "metadata": {},
     "output_type": "execute_result"
    }
   ],
   "source": [
    "# Explanation2\n",
    "all_avg_speed_limits = X.groupby('agg')['Speed Limit'].mean()\n",
    "all_avg_speed_limits"
   ]
  },
  {
   "cell_type": "code",
   "execution_count": 162,
   "id": "1904336d-d03d-4b44-865e-59841316e89a",
   "metadata": {},
   "outputs": [
    {
     "data": {
      "text/plain": [
       "np.True_"
      ]
     },
     "execution_count": 162,
     "metadata": {},
     "output_type": "execute_result"
    }
   ],
   "source": [
    "# Statement 3:Cluster 5 has the highest number of accidents recorded on the “Interstate” road class compared to other clusters. True\n",
    "interstate_count = cluster5['Road Class_INTERSTATE'].sum()\n",
    "all_interstate_counts = X.groupby('agg')['Road Class_INTERSTATE'].sum()\n",
    "statement3 = interstate_count == all_interstate_counts.max()\n",
    "statement3"
   ]
  },
  {
   "cell_type": "code",
   "execution_count": 163,
   "id": "408b7dd0-4cc1-4dca-b07f-8c6379b84745",
   "metadata": {},
   "outputs": [
    {
     "data": {
      "text/plain": [
       "agg\n",
       "0     45\n",
       "1      0\n",
       "2      1\n",
       "3    197\n",
       "4     88\n",
       "5    858\n",
       "Name: Road Class_INTERSTATE, dtype: int64"
      ]
     },
     "execution_count": 163,
     "metadata": {},
     "output_type": "execute_result"
    }
   ],
   "source": [
    "# Explanation3:\n",
    "lowest_us_state = X.groupby('agg')['Road Class_INTERSTATE'].sum()\n",
    "lowest_us_state\n"
   ]
  },
  {
   "cell_type": "code",
   "execution_count": 164,
   "id": "f9f23630-882d-4579-bc84-a2f1973334e8",
   "metadata": {},
   "outputs": [
    {
     "data": {
      "text/plain": [
       "np.True_"
      ]
     },
     "execution_count": 164,
     "metadata": {},
     "output_type": "execute_result"
    }
   ],
   "source": [
    "# Statement4:Cluster 5 has the lowest number of accidents on US and State Highways compared to other clusters. True\n",
    "\n",
    "us_state_highways_count = cluster5['Road Class_US & STATE HIGHWAYS'].sum()\n",
    "all_us_state_counts = X.groupby('agg')['Road Class_US & STATE HIGHWAYS'].sum()\n",
    "statement4 = us_state_highways_count == all_us_state_counts.min()\n",
    "statement4"
   ]
  },
  {
   "cell_type": "code",
   "execution_count": 165,
   "id": "2d2b774e-c57b-4b2b-99c6-32c570c0d386",
   "metadata": {},
   "outputs": [
    {
     "data": {
      "text/plain": [
       "agg\n",
       "0     37\n",
       "1    645\n",
       "2     29\n",
       "3     54\n",
       "4     96\n",
       "5      0\n",
       "Name: Road Class_US & STATE HIGHWAYS, dtype: int64"
      ]
     },
     "execution_count": 165,
     "metadata": {},
     "output_type": "execute_result"
    }
   ],
   "source": [
    "# Explanation4:\n",
    "lowest_us_state = X.groupby('agg')['Road Class_US & STATE HIGHWAYS'].sum()\n",
    "lowest_us_state\n"
   ]
  },
  {
   "cell_type": "code",
   "execution_count": 166,
   "id": "81a87c66-26a0-4a1c-9d6a-48fa2f314232",
   "metadata": {},
   "outputs": [
    {
     "data": {
      "text/plain": [
       "np.True_"
      ]
     },
     "execution_count": 166,
     "metadata": {},
     "output_type": "execute_result"
    }
   ],
   "source": [
    "# Statement 5:Most of the accidents recorded in Cluster 5 occurred on roadways with “4 or more lanes, divided.” True\n",
    "four_or_more_divided_count = cluster5['Roadway Type_4 OR MORE LANES, DIVIDED'].sum()\n",
    "statement5 = (four_or_more_divided_count > len(cluster5) / 2)\n",
    "statement5"
   ]
  },
  {
   "cell_type": "code",
   "execution_count": 167,
   "id": "ed65975a-720a-432f-848a-075e10c69c87",
   "metadata": {},
   "outputs": [
    {
     "name": "stdout",
     "output_type": "stream",
     "text": [
      "0 855 0 3\n"
     ]
    }
   ],
   "source": [
    "#Explanation5:\n",
    "two_lane_count5 = cluster5['Roadway Type_2 LANE, 2 WAY'].sum()\n",
    "divided5 = cluster5[\"Roadway Type_4 OR MORE LANES, DIVIDED\"].sum()\n",
    "undivided5 = cluster5[\"Roadway Type_4 OR MORE LANES, UNDIVIDED\"].sum()\n",
    "other5 = cluster5[\"Roadway Type_OTHER\"].sum()\n",
    "print(two_lane_count5, divided5, undivided5, other5)"
   ]
  },
  {
   "cell_type": "code",
   "execution_count": 168,
   "id": "db978a9f-2193-4dad-bcd9-30605686a03b",
   "metadata": {},
   "outputs": [
    {
     "data": {
      "text/plain": [
       "np.True_"
      ]
     },
     "execution_count": 168,
     "metadata": {},
     "output_type": "execute_result"
    }
   ],
   "source": [
    "# Statement 6:The most frequent manner of collision among instances in Cluster 5 is “Same Direction”. True\n",
    "same_direction_count = cluster5['Manner of Collision_SAME DIRECTION'].sum()\n",
    "other_collisions1 = [\n",
    "    cluster5['Manner of Collision_ONE MOTOR VEHICLE'].sum(),\n",
    "    cluster5['Manner of Collision_OPPOSITE DIRECTION'].sum(),\n",
    "    cluster5['Manner of Collision_ANGLE'].sum(),\n",
    "    cluster5['Manner of Collision_OTHER'].sum()\n",
    "]\n",
    "\n",
    "statement6 = (same_direction_count > max(other_collisions1))\n",
    "statement6"
   ]
  },
  {
   "cell_type": "code",
   "execution_count": 169,
   "id": "fcc1b30f-df6e-47b5-814e-bf947e771e2c",
   "metadata": {},
   "outputs": [
    {
     "data": {
      "text/plain": [
       "np.int64(629)"
      ]
     },
     "execution_count": 169,
     "metadata": {},
     "output_type": "execute_result"
    }
   ],
   "source": [
    "same_direction_count = cluster5['Manner of Collision_SAME DIRECTION'].sum()\n",
    "same_direction_count"
   ]
  },
  {
   "cell_type": "code",
   "execution_count": 170,
   "id": "599cc0f9-1a91-4665-a35c-54c8d586c99c",
   "metadata": {},
   "outputs": [
    {
     "data": {
      "text/plain": [
       "np.int64(127)"
      ]
     },
     "execution_count": 170,
     "metadata": {},
     "output_type": "execute_result"
    }
   ],
   "source": [
    "max(other_collisions1)"
   ]
  },
  {
   "cell_type": "code",
   "execution_count": 171,
   "id": "6bb571f3-f6bc-4894-8188-eaa2743f8ba8",
   "metadata": {},
   "outputs": [
    {
     "name": "stdout",
     "output_type": "stream",
     "text": [
      "22 127 629 80 0\n"
     ]
    }
   ],
   "source": [
    "# Explanation6:\n",
    "opposite_direction_count5 = cluster5['Manner of Collision_OPPOSITE DIRECTION'].sum()\n",
    "one_motor5 = cluster5['Manner of Collision_ONE MOTOR VEHICLE'].sum()\n",
    "same_direction5 = cluster5['Manner of Collision_SAME DIRECTION'].sum()\n",
    "angle5 = cluster5['Manner of Collision_ANGLE'].sum()\n",
    "other5 = cluster5['Manner of Collision_OTHER'].sum()\n",
    "print(opposite_direction_count5, one_motor5, same_direction5, angle5, other5)\n"
   ]
  },
  {
   "cell_type": "code",
   "execution_count": 172,
   "id": "5823895b-0735-4063-8d7b-8da7b5c893a6",
   "metadata": {},
   "outputs": [
    {
     "data": {
      "text/plain": [
       "np.False_"
      ]
     },
     "execution_count": 172,
     "metadata": {},
     "output_type": "execute_result"
    }
   ],
   "source": [
    "# Statement 7:The most frequent manner of collision among instances in Cluster 5 is “One Motor Vehicle”. False\n",
    "most_frequent_collision = cluster5['Manner of Collision_ONE MOTOR VEHICLE'].sum()\n",
    "other_collisions = [\n",
    "    cluster5['Manner of Collision_SAME DIRECTION'].sum(),\n",
    "    cluster5['Manner of Collision_OPPOSITE DIRECTION'].sum(),\n",
    "    cluster5['Manner of Collision_ANGLE'].sum(),\n",
    "    cluster5['Manner of Collision_OTHER'].sum()\n",
    "]\n",
    "statement7 = (most_frequent_collision > max(other_collisions))\n",
    "statement7"
   ]
  },
  {
   "cell_type": "code",
   "execution_count": 173,
   "id": "3c53ae56-abb2-4a12-b5e9-357a9380382e",
   "metadata": {},
   "outputs": [
    {
     "name": "stdout",
     "output_type": "stream",
     "text": [
      "22 127 629 80 0\n"
     ]
    }
   ],
   "source": [
    "# Explanation7:\n",
    "opposite_direction_count5 = cluster5['Manner of Collision_OPPOSITE DIRECTION'].sum()\n",
    "one_motor5 = cluster5['Manner of Collision_ONE MOTOR VEHICLE'].sum()\n",
    "same_direction5 = cluster5['Manner of Collision_SAME DIRECTION'].sum()\n",
    "angle5 = cluster5['Manner of Collision_ANGLE'].sum()\n",
    "other5 = cluster5['Manner of Collision_OTHER'].sum()\n",
    "print(opposite_direction_count5, one_motor5, same_direction5, angle5, other5)\n"
   ]
  },
  {
   "cell_type": "code",
   "execution_count": 174,
   "id": "d7a353df-fb54-4220-8dc0-e166a131843f",
   "metadata": {},
   "outputs": [
    {
     "name": "stdout",
     "output_type": "stream",
     "text": [
      "Percent of Saturday in Cluster 5 : 10.37\n"
     ]
    }
   ],
   "source": [
    "# Statement 8: The majority of accidents recorded in Cluster 5 occurred on Saturdays. False\n",
    "Cluster5_size = len(cluster5)\n",
    "Saturday_cluster_5 = 89\n",
    "percent = (Saturday_cluster_5/Cluster5_size)*100\n",
    "print(f\"Percent of Saturday in Cluster 5 : {percent:.2f}\")"
   ]
  },
  {
   "cell_type": "code",
   "execution_count": 175,
   "id": "25e750ed-01ae-42d2-9c34-4fcd098c1de4",
   "metadata": {},
   "outputs": [
    {
     "name": "stdout",
     "output_type": "stream",
     "text": [
      "127\n",
      "130\n",
      "131\n",
      "122\n",
      "164\n",
      "89\n",
      "95\n"
     ]
    }
   ],
   "source": [
    "mon_accidents5 = cluster5[cluster5['Day_Monday']]\n",
    "print(len(mon_accidents5))\n",
    "tue_accidents5 = cluster5[cluster5['Day_Tuesday']]\n",
    "print(len(tue_accidents5))\n",
    "wed_accidents5 = cluster5[cluster5['Day_Wednesday']]\n",
    "print(len(wed_accidents5))\n",
    "thu_accidents5 = cluster5[cluster5['Day_Thursday']]\n",
    "print(len(thu_accidents5))\n",
    "friday_accidents5 = cluster5[cluster5['Day_Friday']]\n",
    "print(len(friday_accidents5))\n",
    "sat_accidents5 = cluster5[cluster5['Day_Saturday']]\n",
    "print(len(sat_accidents5))\n",
    "sun_accidents5 = cluster5[cluster5['Day_Sunday']]\n",
    "print(len(sun_accidents5))"
   ]
  },
  {
   "cell_type": "markdown",
   "id": "10aca8c5-22de-4acb-ad97-b2e5d4d181c7",
   "metadata": {},
   "source": [
    "# Question 12\n",
    "Now, train a KMeans clustering algorithm on the scaled feature set with 3 clusters and random_state = 0 and n_init= \"auto\". Assume the default values for the rest of the parameters. \n",
    "\n",
    "Follow the instructions provided for Agglomerative Clustering to perform post-processing on the labels predicted by the KMeans model. Once done, complete the following table."
   ]
  },
  {
   "cell_type": "code",
   "execution_count": 181,
   "id": "5bfd0d9c-5547-444a-b330-076bc495d904",
   "metadata": {},
   "outputs": [],
   "source": [
    "from sklearn.cluster import KMeans\n",
    "\n",
    "model_2 = KMeans(n_clusters = 3,  random_state = 0, n_init= 'auto')\n",
    "model_2 = model_2.fit(X_scaled)\n",
    "\n",
    "X['kmeans'] = model_2.labels_\n",
    "\n",
    "\n",
    "cluster_kmeans = X.groupby('kmeans').mean().sort_values(by='Speed Limit')\n",
    "\n",
    "label_mapping = {old_label: new_label for new_label, old_label in enumerate(cluster_kmeans.index)}\n",
    "X['kmeans'] = X['kmeans'].map(label_mapping)\n",
    "\n"
   ]
  },
  {
   "cell_type": "code",
   "execution_count": 182,
   "id": "a820f045-aa7a-4b33-b58d-483fa4691b5f",
   "metadata": {},
   "outputs": [
    {
     "name": "stdout",
     "output_type": "stream",
     "text": [
      "kmeans\n",
      "0    1359\n",
      "1    1078\n",
      "2    1171\n",
      "Name: count, dtype: int64\n"
     ]
    }
   ],
   "source": [
    "cluster_ksizes = X['kmeans'].value_counts().sort_index()\n",
    "print(cluster_ksizes)"
   ]
  },
  {
   "cell_type": "markdown",
   "id": "45e54816-ddcb-4fb0-9e89-31570eb314f2",
   "metadata": {},
   "source": [
    "# Question 13\n",
    "Mark all the correct answers for Cluster 0(KMeans):"
   ]
  },
  {
   "cell_type": "code",
   "execution_count": 186,
   "id": "bac9545f-1c9b-455e-8da2-270cf8953123",
   "metadata": {},
   "outputs": [],
   "source": [
    "cluster0 = X[X['kmeans'] == 0]"
   ]
  },
  {
   "cell_type": "code",
   "execution_count": 187,
   "id": "dca7c581-668a-499c-b2a7-c9db065d24a7",
   "metadata": {},
   "outputs": [
    {
     "data": {
      "text/plain": [
       "1359"
      ]
     },
     "execution_count": 187,
     "metadata": {},
     "output_type": "execute_result"
    }
   ],
   "source": [
    "len(cluster0)"
   ]
  },
  {
   "cell_type": "code",
   "execution_count": 216,
   "id": "94a0fd4e-387e-4048-9ef4-d53be9061a80",
   "metadata": {},
   "outputs": [
    {
     "data": {
      "text/plain": [
       "np.True_"
      ]
     },
     "execution_count": 216,
     "metadata": {},
     "output_type": "execute_result"
    }
   ],
   "source": [
    "# Statement 1:Cluster 0 has the lowest average “Adjusted Average Daily Traffic Amount”. True\n",
    "avg_adjusted_traffic = cluster0['Adjusted Average Daily Traffic Amount'].mean()\n",
    "all_avg_adjusted_traffic = X.groupby('kmeans')['Adjusted Average Daily Traffic Amount'].mean()\n",
    "statement1 = avg_adjusted_traffic == all_avg_adjusted_traffic.min()\n",
    "statement1"
   ]
  },
  {
   "cell_type": "code",
   "execution_count": 215,
   "id": "bb64111b-54a1-481d-bb04-ddc11ab7760d",
   "metadata": {},
   "outputs": [
    {
     "name": "stdout",
     "output_type": "stream",
     "text": [
      "kmeans\n",
      "0    12451.162620\n",
      "1    20870.629870\n",
      "2    77965.258753\n",
      "Name: Adjusted Average Daily Traffic Amount, dtype: float64 12451.162619573215\n"
     ]
    }
   ],
   "source": [
    "# Explanation1:\n",
    "avg_adjusted_traffic = cluster0['Adjusted Average Daily Traffic Amount'].mean()\n",
    "\n",
    "\n",
    "all_avg_adjusted_traffic = X.groupby('kmeans')['Adjusted Average Daily Traffic Amount'].mean()\n",
    "print(all_avg_adjusted_traffic, avg_adjusted_traffic)"
   ]
  },
  {
   "cell_type": "code",
   "execution_count": 217,
   "id": "8999281e-b220-488d-8a15-1fbfcbdc1c35",
   "metadata": {},
   "outputs": [
    {
     "data": {
      "text/plain": [
       "np.True_"
      ]
     },
     "execution_count": 217,
     "metadata": {},
     "output_type": "execute_result"
    }
   ],
   "source": [
    "# Statement 2:Cluster 0 has the lowest average “Speed Limit” compared to other clusters. True\n",
    "avg_speed_limit = cluster0['Speed Limit'].mean()\n",
    "all_avg_speed_limits = X.groupby('kmeans')['Speed Limit'].mean()\n",
    "statement2 = avg_speed_limit == all_avg_speed_limits.min()\n",
    "statement2"
   ]
  },
  {
   "cell_type": "code",
   "execution_count": 218,
   "id": "4caa1d57-e592-4a19-9e03-c900d1fd1f32",
   "metadata": {},
   "outputs": [
    {
     "name": "stdout",
     "output_type": "stream",
     "text": [
      "kmeans\n",
      "0    31.475350\n",
      "1    44.183673\n",
      "2    61.379163\n",
      "Name: Speed Limit, dtype: float64 31.475349521707138\n"
     ]
    }
   ],
   "source": [
    "# Explanation2:\n",
    "avg_speed_limit = cluster0['Speed Limit'].mean()\n",
    "\n",
    "\n",
    "all_avg_speed_limits = X.groupby('kmeans')['Speed Limit'].mean()\n",
    "print(all_avg_speed_limits, avg_speed_limit)"
   ]
  },
  {
   "cell_type": "code",
   "execution_count": 219,
   "id": "1a11282e-fa04-4653-8e7d-63ebb2880fca",
   "metadata": {},
   "outputs": [
    {
     "name": "stdout",
     "output_type": "stream",
     "text": [
      "Percent of City Street Roads in Cluster 0 : 73.88\n"
     ]
    }
   ],
   "source": [
    "# Statement3:The majority of the accidents in Cluster 0 occurred on roads classified as “CITY STREET”. True\n",
    "Cluster0_size = 1359\n",
    "city_street_clsuter_0 = 1004\n",
    "percent = (city_street_clsuter_0/Cluster0_size)*100\n",
    "print(f\"Percent of City Street Roads in Cluster 0 : {percent:.2f}\")"
   ]
  },
  {
   "cell_type": "code",
   "execution_count": 220,
   "id": "8aedb6d5-3edb-4d30-979c-65d2263c2985",
   "metadata": {},
   "outputs": [
    {
     "name": "stdout",
     "output_type": "stream",
     "text": [
      "1004 74 18 254 9\n"
     ]
    }
   ],
   "source": [
    "# Explanation3:\n",
    "city_street_count = cluster0['Road Class_CITY STREET'].sum()\n",
    "farm_market = cluster0['Road Class_FARM TO MARKET'].sum()\n",
    "interstate = cluster0['Road Class_INTERSTATE'].sum()\n",
    "non_trafficway = cluster0['Road Class_NON TRAFFICWAY'].sum()\n",
    "US_state = cluster0['Road Class_US & STATE HIGHWAYS'].sum()\n",
    "\n",
    "print(city_street_count, farm_market, interstate, non_trafficway, US_state)"
   ]
  },
  {
   "cell_type": "code",
   "execution_count": 221,
   "id": "382af3fd-58a8-4668-9fcf-b6c64921bbe3",
   "metadata": {},
   "outputs": [
    {
     "name": "stdout",
     "output_type": "stream",
     "text": [
      "Percent of “US & STATE HIGHWAYS” in Cluster 0 : 0.66\n"
     ]
    }
   ],
   "source": [
    "# Statement 4:The majority of accidents in Cluster 0 occurred on roads classified “US & STATE HIGHWAYS”. False\n",
    "Cluster0_size = 1359\n",
    "us_state_cluster0 = 9\n",
    "percent = (us_state_cluster0/Cluster0_size)*100\n",
    "print(f\"Percent of “US & STATE HIGHWAYS” in Cluster 0 : {percent:.2f}\")"
   ]
  },
  {
   "cell_type": "code",
   "execution_count": 222,
   "id": "92d4a043-08a6-4a40-a11d-7393002c626f",
   "metadata": {},
   "outputs": [
    {
     "name": "stdout",
     "output_type": "stream",
     "text": [
      "1004 74 18 254 9\n"
     ]
    }
   ],
   "source": [
    "# Explanation4:\n",
    "city_street_count = cluster0['Road Class_CITY STREET'].sum()\n",
    "farm_market = cluster0['Road Class_FARM TO MARKET'].sum()\n",
    "interstate = cluster0['Road Class_INTERSTATE'].sum()\n",
    "non_trafficway = cluster0['Road Class_NON TRAFFICWAY'].sum()\n",
    "US_state = cluster0['Road Class_US & STATE HIGHWAYS'].sum()\n",
    "\n",
    "print(city_street_count, farm_market, interstate, non_trafficway, US_state)"
   ]
  },
  {
   "cell_type": "code",
   "execution_count": 223,
   "id": "bf4bec6a-924e-4fe6-aea1-a4794f3e7405",
   "metadata": {},
   "outputs": [
    {
     "data": {
      "text/plain": [
       "np.True_"
      ]
     },
     "execution_count": 223,
     "metadata": {},
     "output_type": "execute_result"
    }
   ],
   "source": [
    "# Statement5 :Cluster 0 is the only cluster with accidents recorded on “NON TRAFFICWAY” road class. True\n",
    "non_trafficway_count = cluster0['Road Class_NON TRAFFICWAY'].sum()\n",
    "statement5 = (non_trafficway_count > 0 and (X['Road Class_NON TRAFFICWAY'].sum() == non_trafficway_count))\n",
    "statement5"
   ]
  },
  {
   "cell_type": "code",
   "execution_count": 224,
   "id": "a9e7a12f-2d48-41f1-95f6-352af24eee98",
   "metadata": {},
   "outputs": [
    {
     "name": "stdout",
     "output_type": "stream",
     "text": [
      "1004 74 18 254 9\n",
      "43 5 0 0 645\n",
      "12 212 1 0 29\n"
     ]
    }
   ],
   "source": [
    "# Explanation5:\n",
    "city_street_count = cluster0['Road Class_CITY STREET'].sum()\n",
    "farm_market = cluster0['Road Class_FARM TO MARKET'].sum()\n",
    "interstate = cluster0['Road Class_INTERSTATE'].sum()\n",
    "non_trafficway = cluster0['Road Class_NON TRAFFICWAY'].sum()\n",
    "US_state = cluster0['Road Class_US & STATE HIGHWAYS'].sum()\n",
    "\n",
    "print(city_street_count, farm_market, interstate, non_trafficway, US_state)\n",
    "\n",
    "# Explanation:\n",
    "city_street_count = cluster1['Road Class_CITY STREET'].sum()\n",
    "farm_market = cluster1['Road Class_FARM TO MARKET'].sum()\n",
    "interstate = cluster1['Road Class_INTERSTATE'].sum()\n",
    "non_trafficway = cluster1['Road Class_NON TRAFFICWAY'].sum()\n",
    "US_state = cluster1['Road Class_US & STATE HIGHWAYS'].sum()\n",
    "\n",
    "print(city_street_count, farm_market, interstate, non_trafficway, US_state)\n",
    "\n",
    "# Explanation:\n",
    "city_street_count = cluster2['Road Class_CITY STREET'].sum()\n",
    "farm_market = cluster2['Road Class_FARM TO MARKET'].sum()\n",
    "interstate = cluster2['Road Class_INTERSTATE'].sum()\n",
    "non_trafficway = cluster2['Road Class_NON TRAFFICWAY'].sum()\n",
    "US_state = cluster2['Road Class_US & STATE HIGHWAYS'].sum()\n",
    "\n",
    "print(city_street_count, farm_market, interstate, non_trafficway, US_state)"
   ]
  },
  {
   "cell_type": "code",
   "execution_count": 225,
   "id": "5a172b2b-bfb3-4938-b945-ef268fa366f3",
   "metadata": {},
   "outputs": [
    {
     "data": {
      "text/plain": [
       "np.False_"
      ]
     },
     "execution_count": 225,
     "metadata": {},
     "output_type": "execute_result"
    }
   ],
   "source": [
    "# Statement 6:Cluster 0 has the highest number of recorded accidents on roadways with “4 or more lanes, divided.”. False\n",
    "four_or_more_divided_count = cluster0['Roadway Type_4 OR MORE LANES, DIVIDED'].sum()\n",
    "all_four_or_more_counts = X.groupby('kmeans')['Roadway Type_4 OR MORE LANES, DIVIDED'].sum()\n",
    "statement6 = four_or_more_divided_count == all_four_or_more_counts.max()\n",
    "statement6"
   ]
  },
  {
   "cell_type": "code",
   "execution_count": 226,
   "id": "6c6c28e0-8316-43b0-aabf-6ed7b75a5e68",
   "metadata": {},
   "outputs": [
    {
     "name": "stdout",
     "output_type": "stream",
     "text": [
      "15 5 46 1293\n"
     ]
    }
   ],
   "source": [
    "#Explanation6:\n",
    "two_lane_count = cluster0['Roadway Type_2 LANE, 2 WAY'].sum()\n",
    "divided = cluster0[\"Roadway Type_4 OR MORE LANES, DIVIDED\"].sum()\n",
    "undivided = cluster0[\"Roadway Type_4 OR MORE LANES, UNDIVIDED\"].sum()\n",
    "other = cluster0[\"Roadway Type_OTHER\"].sum()\n",
    "print(two_lane_count, divided, undivided, other)"
   ]
  },
  {
   "cell_type": "code",
   "execution_count": 227,
   "id": "8ebd41c4-5c65-428b-92fc-b31fef429943",
   "metadata": {},
   "outputs": [
    {
     "data": {
      "text/plain": [
       "np.True_"
      ]
     },
     "execution_count": 227,
     "metadata": {},
     "output_type": "execute_result"
    }
   ],
   "source": [
    "# Statement 7:Cluster 0 has the highest number of recorded accidents with the collision type “ONE MOTOR VEHICLE” compared to other clusters. True\n",
    "one_motor_vehicle_count = cluster0['Manner of Collision_ONE MOTOR VEHICLE'].sum()\n",
    "all_one_motor_vehicle_counts = X.groupby('kmeans')['Manner of Collision_ONE MOTOR VEHICLE'].sum()\n",
    "statement7 = one_motor_vehicle_count == all_one_motor_vehicle_counts.max()\n",
    "statement7"
   ]
  },
  {
   "cell_type": "code",
   "execution_count": 229,
   "id": "bcb2c704-cc41-483d-8d00-1d259fa34595",
   "metadata": {},
   "outputs": [
    {
     "name": "stdout",
     "output_type": "stream",
     "text": [
      "kmeans\n",
      "0    477\n",
      "1    115\n",
      "2    209\n",
      "Name: Manner of Collision_ONE MOTOR VEHICLE, dtype: int64 477\n"
     ]
    }
   ],
   "source": [
    "#Explanation7:\n",
    "one_motor_vehicle_count = cluster0['Manner of Collision_ONE MOTOR VEHICLE'].sum()\n",
    "\n",
    "\n",
    "all_one_motor_vehicle_counts = X.groupby('kmeans')['Manner of Collision_ONE MOTOR VEHICLE'].sum()\n",
    "print(all_one_motor_vehicle_counts, one_motor_vehicle_count)"
   ]
  },
  {
   "cell_type": "code",
   "execution_count": 230,
   "id": "52c2d486-9378-4beb-8158-9fd910451cbe",
   "metadata": {},
   "outputs": [
    {
     "data": {
      "text/plain": [
       "np.False_"
      ]
     },
     "execution_count": 230,
     "metadata": {},
     "output_type": "execute_result"
    }
   ],
   "source": [
    "# Statement 8:Cluster 0 has the highest number of recorded accidents with the collision type “SAME DIRECTION” compared to other clusters. False\n",
    "same_direction_count = cluster0['Manner of Collision_SAME DIRECTION'].sum()\n",
    "all_same_direction_counts = X.groupby('kmeans')['Manner of Collision_SAME DIRECTION'].sum()\n",
    "statement8 = same_direction_count == all_same_direction_counts.max()\n",
    "statement8"
   ]
  },
  {
   "cell_type": "code",
   "execution_count": 231,
   "id": "a039ca97-4e39-4db4-8fc3-06941a42975f",
   "metadata": {},
   "outputs": [
    {
     "name": "stdout",
     "output_type": "stream",
     "text": [
      "kmeans\n",
      "0    291\n",
      "1    433\n",
      "2    843\n",
      "Name: Manner of Collision_SAME DIRECTION, dtype: int64 291\n"
     ]
    }
   ],
   "source": [
    "#Explanation8:\n",
    "one_motor_vehicle_count = cluster0['Manner of Collision_SAME DIRECTION'].sum()\n",
    "\n",
    "\n",
    "all_one_motor_vehicle_counts = X.groupby('kmeans')['Manner of Collision_SAME DIRECTION'].sum()\n",
    "print(all_one_motor_vehicle_counts, one_motor_vehicle_count)"
   ]
  },
  {
   "cell_type": "code",
   "execution_count": 232,
   "id": "692b0f4e-8745-4409-b1a3-58b95b017865",
   "metadata": {},
   "outputs": [
    {
     "data": {
      "text/plain": [
       "np.True_"
      ]
     },
     "execution_count": 232,
     "metadata": {},
     "output_type": "execute_result"
    }
   ],
   "source": [
    "# Statement 9:Most of the accidents in Cluster 0 occurred on Fridays. True\n",
    "friday_accidents = cluster0['Day_Friday'].sum()\n",
    "statement9 = (friday_accidents <= len(cluster0) / 2)\n",
    "statement9"
   ]
  },
  {
   "cell_type": "code",
   "execution_count": 233,
   "id": "b8000c60-23b5-45f9-96cc-869add0702d5",
   "metadata": {},
   "outputs": [
    {
     "name": "stdout",
     "output_type": "stream",
     "text": [
      "198\n",
      "195\n",
      "204\n",
      "188\n",
      "217\n",
      "195\n",
      "162\n"
     ]
    }
   ],
   "source": [
    "#Explanation9:\n",
    "mon_accidents = cluster0['Day_Monday'].sum()\n",
    "print(mon_accidents)\n",
    "tue_accidents = cluster0['Day_Tuesday'].sum()\n",
    "print(tue_accidents)\n",
    "wed_accidents = cluster0['Day_Wednesday'].sum()\n",
    "print(wed_accidents)\n",
    "thu_accidents = cluster0['Day_Thursday'].sum()\n",
    "print(thu_accidents)\n",
    "friday_accidents = cluster0['Day_Friday'].sum()\n",
    "print(friday_accidents)\n",
    "sat_accidents = cluster0['Day_Saturday'].sum()\n",
    "print(sat_accidents)\n",
    "sun_accidents = cluster0['Day_Sunday'].sum()\n",
    "print(sun_accidents)"
   ]
  },
  {
   "cell_type": "code",
   "execution_count": 234,
   "id": "54fd9ca8-25cf-458e-ac28-3a0f4df9e16e",
   "metadata": {},
   "outputs": [
    {
     "data": {
      "text/plain": [
       "np.False_"
      ]
     },
     "execution_count": 234,
     "metadata": {},
     "output_type": "execute_result"
    }
   ],
   "source": [
    "# Statement 10:Numbers of accidents in Cluster 0 during “Morning Rush Hours” are higher than those during “Evening Rush Hours”. False\n",
    "morning_rush_hour_count = cluster0['Time of Day_Morning Rush Hour'].sum()\n",
    "evening_rush_hour_count = cluster0['Time of Day_Evening Rush Hour'].sum()\n",
    "statement10 = (morning_rush_hour_count > evening_rush_hour_count)\n",
    "statement10"
   ]
  },
  {
   "cell_type": "code",
   "execution_count": 235,
   "id": "c980ebea-5d64-40c9-8e44-6535306e9597",
   "metadata": {},
   "outputs": [
    {
     "name": "stdout",
     "output_type": "stream",
     "text": [
      "105 226 1028\n"
     ]
    }
   ],
   "source": [
    "# Explanation10:\n",
    "morning = cluster0['Time of Day_Morning Rush Hour'].sum()\n",
    "evening = cluster0[\"Time of Day_Evening Rush Hour\"].sum()\n",
    "other = cluster0[\"Time of Day_Other\"].sum()\n",
    "print(morning, evening, other)"
   ]
  },
  {
   "cell_type": "markdown",
   "id": "949f2154-e7f7-432b-8744-d1b99dbfe1e4",
   "metadata": {},
   "source": [
    "# Question 14\n",
    "Mark all the correct answers for Cluster 1(KMeans):"
   ]
  },
  {
   "cell_type": "code",
   "execution_count": 239,
   "id": "3743e821-6c97-4db7-ac53-f25463488dd1",
   "metadata": {},
   "outputs": [],
   "source": [
    "\n",
    "cluster1 = X[X['kmeans'] == 1]\n"
   ]
  },
  {
   "cell_type": "code",
   "execution_count": 240,
   "id": "b993484e-a415-4249-a49f-4bb82bd49043",
   "metadata": {},
   "outputs": [
    {
     "data": {
      "text/plain": [
       "1078"
      ]
     },
     "execution_count": 240,
     "metadata": {},
     "output_type": "execute_result"
    }
   ],
   "source": [
    "len(cluster1)"
   ]
  },
  {
   "cell_type": "code",
   "execution_count": 241,
   "id": "f6135a1a-93de-4c45-abdc-ef38caea8253",
   "metadata": {},
   "outputs": [
    {
     "data": {
      "text/plain": [
       "np.False_"
      ]
     },
     "execution_count": 241,
     "metadata": {},
     "output_type": "execute_result"
    }
   ],
   "source": [
    "# Statement 1:Cluster 1 has the lowest average “Adjusted Average Daily Traffic Amount”. false\n",
    "\n",
    "avg_adjusted_traffic = cluster1['Adjusted Average Daily Traffic Amount'].mean()\n",
    "all_avg_adjusted_traffic = X.groupby('kmeans')['Adjusted Average Daily Traffic Amount'].mean()\n",
    "statement1 = avg_adjusted_traffic == all_avg_adjusted_traffic.min()\n",
    "statement1"
   ]
  },
  {
   "cell_type": "code",
   "execution_count": 242,
   "id": "8023149a-9f35-4af0-8fb5-d4cfc06e6982",
   "metadata": {},
   "outputs": [
    {
     "name": "stdout",
     "output_type": "stream",
     "text": [
      "kmeans\n",
      "0    12451.162620\n",
      "1    20870.629870\n",
      "2    77965.258753\n",
      "Name: Adjusted Average Daily Traffic Amount, dtype: float64 12451.162619573215\n"
     ]
    }
   ],
   "source": [
    "# Explanation1:\n",
    "avg_adjusted_traffic = cluster0['Adjusted Average Daily Traffic Amount'].mean()\n",
    "\n",
    "\n",
    "all_avg_adjusted_traffic = X.groupby('kmeans')['Adjusted Average Daily Traffic Amount'].mean()\n",
    "print(all_avg_adjusted_traffic, avg_adjusted_traffic)"
   ]
  },
  {
   "cell_type": "code",
   "execution_count": 243,
   "id": "82893969-507b-458c-86c9-19d803ce7472",
   "metadata": {},
   "outputs": [
    {
     "data": {
      "text/plain": [
       "np.False_"
      ]
     },
     "execution_count": 243,
     "metadata": {},
     "output_type": "execute_result"
    }
   ],
   "source": [
    "# Statement 2:Cluster 1 has the lowest average “Speed Limit” compared to other clusters. false\n",
    "avg_speed_limit = cluster1['Speed Limit'].mean()\n",
    "all_avg_speed_limits = X.groupby('kmeans')['Speed Limit'].mean()\n",
    "statement2= avg_speed_limit == all_avg_speed_limits.min()\n",
    "statement2"
   ]
  },
  {
   "cell_type": "code",
   "execution_count": 244,
   "id": "3f9318d5-c5db-490b-a3a4-e3868e14405b",
   "metadata": {},
   "outputs": [
    {
     "name": "stdout",
     "output_type": "stream",
     "text": [
      "kmeans\n",
      "0    31.475350\n",
      "1    44.183673\n",
      "2    61.379163\n",
      "Name: Speed Limit, dtype: float64 31.475349521707138\n"
     ]
    }
   ],
   "source": [
    "# Explanation2:\n",
    "avg_speed_limit = cluster0['Speed Limit'].mean()\n",
    "\n",
    "\n",
    "all_avg_speed_limits = X.groupby('kmeans')['Speed Limit'].mean()\n",
    "print(all_avg_speed_limits, avg_speed_limit)"
   ]
  },
  {
   "cell_type": "code",
   "execution_count": 245,
   "id": "7bbbaef8-6309-4dc1-aa92-177e82334976",
   "metadata": {},
   "outputs": [
    {
     "name": "stdout",
     "output_type": "stream",
     "text": [
      "Percent of City Street Roads in Cluster 1 : 1.10\n"
     ]
    }
   ],
   "source": [
    "# Statement 3:The majority of the accidents in Cluster 1 occurred on roads classified as “CITY STREET”. false\n",
    "Cluster1_size = len(cluster1)\n",
    "city_street_cluster_1 = 15\n",
    "percent = (city_street_cluster_1/Cluster0_size)*100\n",
    "print(f\"Percent of City Street Roads in Cluster 1 : {percent:.2f}\")"
   ]
  },
  {
   "cell_type": "code",
   "execution_count": 246,
   "id": "cbb12c3d-32f2-41c7-a8e2-1ee6919c7766",
   "metadata": {},
   "outputs": [
    {
     "name": "stdout",
     "output_type": "stream",
     "text": [
      "15 210 1 0 852\n"
     ]
    }
   ],
   "source": [
    "# Explanation3:\n",
    "city_street_count = cluster1['Road Class_CITY STREET'].sum()\n",
    "farm_market = cluster1['Road Class_FARM TO MARKET'].sum()\n",
    "interstate = cluster1['Road Class_INTERSTATE'].sum()\n",
    "non_trafficway = cluster1['Road Class_NON TRAFFICWAY'].sum()\n",
    "US_state = cluster1['Road Class_US & STATE HIGHWAYS'].sum()\n",
    "\n",
    "print(city_street_count, farm_market, interstate, non_trafficway, US_state)\n"
   ]
  },
  {
   "cell_type": "code",
   "execution_count": 248,
   "id": "527245f1-4cd1-471b-9a7b-07345cc865b8",
   "metadata": {},
   "outputs": [
    {
     "name": "stdout",
     "output_type": "stream",
     "text": [
      "Percent of “US & STATE HIGHWAYS” in Cluster 1 : 79.04\n"
     ]
    }
   ],
   "source": [
    "# Statement 4:The majority of accidents in Cluster 1 occurred on roads classified “US & STATE HIGHWAYS”. True\n",
    "Cluster1_size = len(cluster1)\n",
    "us_state_cluster_1 = 852\n",
    "percent = (us_state_cluster_1/Cluster1_size)*100\n",
    "print(f\"Percent of “US & STATE HIGHWAYS” in Cluster 1 : {percent:.2f}\")"
   ]
  },
  {
   "cell_type": "code",
   "execution_count": 249,
   "id": "eefe6a9c-4044-4d6d-9fc6-463cf9793ac9",
   "metadata": {},
   "outputs": [
    {
     "data": {
      "text/plain": [
       "np.False_"
      ]
     },
     "execution_count": 249,
     "metadata": {},
     "output_type": "execute_result"
    }
   ],
   "source": [
    "# Statement 5:Cluster 1 is the only cluster with accidents recorded on “NON TRAFFICWAY” road class. False\n",
    "non_trafficway_count = cluster1['Road Class_NON TRAFFICWAY'].sum()\n",
    "statement5 = (non_trafficway_count > 0 and (X['Road Class_NON TRAFFICWAY'].sum() == non_trafficway_count))\n",
    "statement5"
   ]
  },
  {
   "cell_type": "code",
   "execution_count": 250,
   "id": "01e1b894-1afc-4ea4-8250-0e1d20021bc5",
   "metadata": {},
   "outputs": [
    {
     "name": "stdout",
     "output_type": "stream",
     "text": [
      "1004 74 18 254 9\n",
      "15 210 1 0 852\n",
      "12 212 1 0 29\n"
     ]
    }
   ],
   "source": [
    "# Explanation:\n",
    "city_street_count = cluster0['Road Class_CITY STREET'].sum()\n",
    "farm_market = cluster0['Road Class_FARM TO MARKET'].sum()\n",
    "interstate = cluster0['Road Class_INTERSTATE'].sum()\n",
    "non_trafficway = cluster0['Road Class_NON TRAFFICWAY'].sum()\n",
    "US_state = cluster0['Road Class_US & STATE HIGHWAYS'].sum()\n",
    "\n",
    "print(city_street_count, farm_market, interstate, non_trafficway, US_state)\n",
    "\n",
    "# Explanation:\n",
    "city_street_count = cluster1['Road Class_CITY STREET'].sum()\n",
    "farm_market = cluster1['Road Class_FARM TO MARKET'].sum()\n",
    "interstate = cluster1['Road Class_INTERSTATE'].sum()\n",
    "non_trafficway = cluster1['Road Class_NON TRAFFICWAY'].sum()\n",
    "US_state = cluster1['Road Class_US & STATE HIGHWAYS'].sum()\n",
    "\n",
    "print(city_street_count, farm_market, interstate, non_trafficway, US_state)\n",
    "\n",
    "# Explanation:\n",
    "city_street_count = cluster2['Road Class_CITY STREET'].sum()\n",
    "farm_market = cluster2['Road Class_FARM TO MARKET'].sum()\n",
    "interstate = cluster2['Road Class_INTERSTATE'].sum()\n",
    "non_trafficway = cluster2['Road Class_NON TRAFFICWAY'].sum()\n",
    "US_state = cluster2['Road Class_US & STATE HIGHWAYS'].sum()\n",
    "\n",
    "print(city_street_count, farm_market, interstate, non_trafficway, US_state)"
   ]
  },
  {
   "cell_type": "code",
   "execution_count": 251,
   "id": "7ed3575e-de1e-421a-9b6b-794251206a56",
   "metadata": {},
   "outputs": [
    {
     "data": {
      "text/plain": [
       "np.True_"
      ]
     },
     "execution_count": 251,
     "metadata": {},
     "output_type": "execute_result"
    }
   ],
   "source": [
    "# Statement 6:Cluster 1 has the highest number of recorded accidents on roadways with “4 OR MORE LANES, UNDIVIDED” compared to other clusters. true\n",
    "four_or_more_undivided_count = cluster1['Roadway Type_4 OR MORE LANES, UNDIVIDED'].sum()\n",
    "all_four_or_more_counts = X.groupby('kmeans')['Roadway Type_4 OR MORE LANES, UNDIVIDED'].sum()\n",
    "statement6 = four_or_more_undivided_count == all_four_or_more_counts.max()\n",
    "statement6"
   ]
  },
  {
   "cell_type": "code",
   "execution_count": 252,
   "id": "c56ad5cf-9096-4b10-b71f-b7c0a1d4ed82",
   "metadata": {},
   "outputs": [
    {
     "name": "stdout",
     "output_type": "stream",
     "text": [
      "170 639 221 48\n"
     ]
    }
   ],
   "source": [
    "#Explanation6:\n",
    "two_lane_count = cluster1['Roadway Type_2 LANE, 2 WAY'].sum()\n",
    "divided = cluster1[\"Roadway Type_4 OR MORE LANES, DIVIDED\"].sum()\n",
    "undivided = cluster1[\"Roadway Type_4 OR MORE LANES, UNDIVIDED\"].sum()\n",
    "other = cluster1[\"Roadway Type_OTHER\"].sum()\n",
    "print(two_lane_count, divided, undivided, other)"
   ]
  },
  {
   "cell_type": "code",
   "execution_count": 253,
   "id": "817f7ef4-2317-4fa9-9c97-db3f18395c8b",
   "metadata": {},
   "outputs": [
    {
     "data": {
      "text/plain": [
       "np.True_"
      ]
     },
     "execution_count": 253,
     "metadata": {},
     "output_type": "execute_result"
    }
   ],
   "source": [
    "# Statement 7:Cluster 1 has the lowest number of recorded accidents with the collision type “ONE MOTOR VEHICLE” compared to other clusters. true\n",
    "one_motor_vehicle_count = cluster1['Manner of Collision_ONE MOTOR VEHICLE'].sum()\n",
    "all_one_motor_vehicle_counts = X.groupby('kmeans')['Manner of Collision_ONE MOTOR VEHICLE'].sum()\n",
    "statement7 = one_motor_vehicle_count == all_one_motor_vehicle_counts.min()\n",
    "statement7"
   ]
  },
  {
   "cell_type": "code",
   "execution_count": 256,
   "id": "adcfbf25-8861-4504-bd13-db2627ebbaf2",
   "metadata": {},
   "outputs": [
    {
     "name": "stdout",
     "output_type": "stream",
     "text": [
      "kmeans\n",
      "0    477\n",
      "1    115\n",
      "2    209\n",
      "Name: Manner of Collision_ONE MOTOR VEHICLE, dtype: int64 115\n"
     ]
    }
   ],
   "source": [
    "#Explanation6:\n",
    "one_motor_vehicle_count = cluster1['Manner of Collision_ONE MOTOR VEHICLE'].sum()\n",
    "\n",
    "\n",
    "all_one_motor_vehicle_counts = X.groupby('kmeans')['Manner of Collision_ONE MOTOR VEHICLE'].sum()\n",
    "print(all_one_motor_vehicle_counts, one_motor_vehicle_count)"
   ]
  },
  {
   "cell_type": "code",
   "execution_count": 257,
   "id": "9da8b935-3a90-4239-9c8b-3d5c11bad485",
   "metadata": {},
   "outputs": [
    {
     "data": {
      "text/plain": [
       "np.False_"
      ]
     },
     "execution_count": 257,
     "metadata": {},
     "output_type": "execute_result"
    }
   ],
   "source": [
    "# Statement 8:Cluster 1 has the highest number of recorded accidents with the collision type “SAME DIRECTION” compared to other clusters. false\n",
    "\n",
    "same_direction_count = cluster1['Manner of Collision_SAME DIRECTION'].sum()\n",
    "all_same_direction_counts = X.groupby('kmeans')['Manner of Collision_SAME DIRECTION'].sum()\n",
    "statement8 = same_direction_count == all_same_direction_counts.max()\n",
    "statement8"
   ]
  },
  {
   "cell_type": "code",
   "execution_count": 258,
   "id": "b0d65bab-d52e-4ff7-a807-228eee13957f",
   "metadata": {},
   "outputs": [
    {
     "name": "stdout",
     "output_type": "stream",
     "text": [
      "kmeans\n",
      "0    291\n",
      "1    433\n",
      "2    843\n",
      "Name: Manner of Collision_SAME DIRECTION, dtype: int64 433\n"
     ]
    }
   ],
   "source": [
    "#Explanation8:\n",
    "one_motor_vehicle_count = cluster1['Manner of Collision_SAME DIRECTION'].sum()\n",
    "\n",
    "\n",
    "all_one_motor_vehicle_counts = X.groupby('kmeans')['Manner of Collision_SAME DIRECTION'].sum()\n",
    "print(all_one_motor_vehicle_counts, one_motor_vehicle_count)"
   ]
  },
  {
   "cell_type": "code",
   "execution_count": 261,
   "id": "58167dab-ef30-484d-bae4-354ea143dbec",
   "metadata": {},
   "outputs": [
    {
     "data": {
      "text/plain": [
       "np.False_"
      ]
     },
     "execution_count": 261,
     "metadata": {},
     "output_type": "execute_result"
    }
   ],
   "source": [
    "# Statement 9:Accidents in Cluster 1 are most frequent on Fridays compared to other days in the dataset. true\n",
    "friday_accidents = cluster1['Day_Friday'].sum()\n",
    "statement2 = (friday_accidents < max(\n",
    "    cluster1['Day_Monday'].sum(),\n",
    "    cluster1['Day_Tuesday'].sum(),\n",
    "    cluster1['Day_Wednesday'].sum(),\n",
    "    cluster1['Day_Thursday'].sum(),\n",
    "    cluster1['Day_Saturday'].sum(),\n",
    "    cluster1['Day_Sunday'].sum(),\n",
    "))\n",
    "statement8"
   ]
  },
  {
   "cell_type": "code",
   "execution_count": 260,
   "id": "5e33f613-9950-443f-a9ec-9ae33f1acac1",
   "metadata": {},
   "outputs": [
    {
     "name": "stdout",
     "output_type": "stream",
     "text": [
      "163\n",
      "175\n",
      "171\n",
      "167\n",
      "184\n",
      "124\n",
      "94\n"
     ]
    }
   ],
   "source": [
    "mon_accidents = cluster1['Day_Monday'].sum()\n",
    "print(mon_accidents)\n",
    "tue_accidents = cluster1['Day_Tuesday'].sum()\n",
    "print(tue_accidents)\n",
    "wed_accidents = cluster1['Day_Wednesday'].sum()\n",
    "print(wed_accidents)\n",
    "thu_accidents = cluster1['Day_Thursday'].sum()\n",
    "print(thu_accidents)\n",
    "friday_accidents = cluster1['Day_Friday'].sum()\n",
    "print(friday_accidents)\n",
    "sat_accidents = cluster1['Day_Saturday'].sum()\n",
    "print(sat_accidents)\n",
    "sun_accidents = cluster1['Day_Sunday'].sum()\n",
    "print(sun_accidents)"
   ]
  },
  {
   "cell_type": "code",
   "execution_count": 262,
   "id": "5e10e9b4-5345-46c7-979c-8f35a110b7df",
   "metadata": {},
   "outputs": [
    {
     "data": {
      "text/plain": [
       "np.False_"
      ]
     },
     "execution_count": 262,
     "metadata": {},
     "output_type": "execute_result"
    }
   ],
   "source": [
    "# Statement 10:Numbers of accidents in Cluster 1 during “Morning Rush Hours” are higher than those during “Evening Rush Hours”. false\n",
    "\n",
    "morning_rush_hour_count = cluster1['Time of Day_Morning Rush Hour'].sum()\n",
    "evening_rush_hour_count = cluster1['Time of Day_Evening Rush Hour'].sum()\n",
    "statement9 = (morning_rush_hour_count > evening_rush_hour_count)\n",
    "statement9"
   ]
  },
  {
   "cell_type": "code",
   "execution_count": 263,
   "id": "569bcf58-dbe5-4b87-aa0c-2c4bbdedefba",
   "metadata": {},
   "outputs": [
    {
     "name": "stdout",
     "output_type": "stream",
     "text": [
      "129 185 764\n"
     ]
    }
   ],
   "source": [
    "# Explanation10:\n",
    "morning = cluster1['Time of Day_Morning Rush Hour'].sum()\n",
    "evening = cluster1[\"Time of Day_Evening Rush Hour\"].sum()\n",
    "other = cluster1[\"Time of Day_Other\"].sum()\n",
    "print(morning, evening, other)"
   ]
  },
  {
   "cell_type": "markdown",
   "id": "f5a43624-b299-4ce7-8df8-bcf70bd4a01e",
   "metadata": {},
   "source": [
    "# Question 15\n",
    "Mark all the correct answers for Cluster 2(KMeans):"
   ]
  },
  {
   "cell_type": "code",
   "execution_count": 264,
   "id": "e734e3a0-1dcf-47f9-8064-a6d2efe42194",
   "metadata": {},
   "outputs": [],
   "source": [
    "\n",
    "cluster2 = X[X['kmeans'] == 2]"
   ]
  },
  {
   "cell_type": "code",
   "execution_count": 265,
   "id": "05b32e46-c804-48ef-b02d-71757121687d",
   "metadata": {},
   "outputs": [
    {
     "data": {
      "text/plain": [
       "1171"
      ]
     },
     "execution_count": 265,
     "metadata": {},
     "output_type": "execute_result"
    }
   ],
   "source": [
    "len(cluster2)"
   ]
  },
  {
   "cell_type": "code",
   "execution_count": 266,
   "id": "dd11492d-1f19-45e5-b2cd-ca2f2064c38e",
   "metadata": {},
   "outputs": [
    {
     "data": {
      "text/plain": [
       "np.False_"
      ]
     },
     "execution_count": 266,
     "metadata": {},
     "output_type": "execute_result"
    }
   ],
   "source": [
    "# Statement 1:Cluster 2 has the lowest number of recorded accidents with the collision type “ONE MOTOR VEHICLE” compared to other clusters. false\n",
    "one_motor_vehicle_count = cluster2['Manner of Collision_ONE MOTOR VEHICLE'].sum()\n",
    "all_one_motor_vehicle_counts = X.groupby('kmeans')['Manner of Collision_ONE MOTOR VEHICLE'].sum()\n",
    "statement1 = one_motor_vehicle_count == all_one_motor_vehicle_counts.min()\n",
    "statement1"
   ]
  },
  {
   "cell_type": "code",
   "execution_count": 268,
   "id": "fbb583c6-8d54-4c8c-ac12-1537ced98aaa",
   "metadata": {},
   "outputs": [
    {
     "data": {
      "text/plain": [
       "kmeans\n",
       "0    477\n",
       "1    115\n",
       "2    209\n",
       "Name: Manner of Collision_ONE MOTOR VEHICLE, dtype: int64"
      ]
     },
     "execution_count": 268,
     "metadata": {},
     "output_type": "execute_result"
    }
   ],
   "source": [
    "all_one_motor_vehicle_counts = X.groupby('kmeans')['Manner of Collision_ONE MOTOR VEHICLE'].sum()\n",
    "all_one_motor_vehicle_counts"
   ]
  },
  {
   "cell_type": "code",
   "execution_count": 270,
   "id": "38358cb3-f13e-4c51-a244-c407b30f4329",
   "metadata": {},
   "outputs": [
    {
     "name": "stdout",
     "output_type": "stream",
     "text": [
      "Percent of City Street Roads in Cluster 1 : 0.09\n"
     ]
    }
   ],
   "source": [
    "# Statement 2:The majority of the accidents in Cluster 2 occurred on roads classified as “CITY STREET”. false\n",
    "Cluster2_size = len(cluster2)\n",
    "city_street_cluster_2 = 1\n",
    "percent = (city_street_cluster_2/Cluster2_size)*100\n",
    "print(f\"Percent of City Street Roads in Cluster 1 : {percent:.2f}\")"
   ]
  },
  {
   "cell_type": "code",
   "execution_count": 271,
   "id": "edad217d-4b26-4493-abc8-a38b800500d7",
   "metadata": {},
   "outputs": [
    {
     "name": "stdout",
     "output_type": "stream",
     "text": [
      "1 0 1170 0 0\n"
     ]
    }
   ],
   "source": [
    "# Explanation:\n",
    "city_street_count = cluster2['Road Class_CITY STREET'].sum()\n",
    "farm_market = cluster2['Road Class_FARM TO MARKET'].sum()\n",
    "interstate = cluster2['Road Class_INTERSTATE'].sum()\n",
    "non_trafficway = cluster2['Road Class_NON TRAFFICWAY'].sum()\n",
    "US_state = cluster2['Road Class_US & STATE HIGHWAYS'].sum()\n",
    "\n",
    "print(city_street_count, farm_market, interstate, non_trafficway, US_state)\n"
   ]
  },
  {
   "cell_type": "code",
   "execution_count": 273,
   "id": "ac75307c-adcd-4afd-ae46-3d2076345d47",
   "metadata": {},
   "outputs": [
    {
     "data": {
      "text/plain": [
       "np.True_"
      ]
     },
     "execution_count": 273,
     "metadata": {},
     "output_type": "execute_result"
    }
   ],
   "source": [
    "# Statement 3:Cluster 2 has the highest number of recorded accidents on roadways with “4 OR MORE LANES, DIVIDED” compared to other clusters. true \n",
    "\n",
    "four_or_more_divided_count = cluster2['Roadway Type_4 OR MORE LANES, DIVIDED'].sum()\n",
    "all_four_or_more_counts = X.groupby('kmeans')['Roadway Type_4 OR MORE LANES, DIVIDED'].sum()\n",
    "statement3 = four_or_more_divided_count == all_four_or_more_counts.max()\n",
    "statement3"
   ]
  },
  {
   "cell_type": "code",
   "execution_count": 275,
   "id": "7f23d490-6d68-4e0b-a530-0b22034f2a2a",
   "metadata": {},
   "outputs": [
    {
     "data": {
      "text/plain": [
       "kmeans\n",
       "0       5\n",
       "1     639\n",
       "2    1132\n",
       "Name: Roadway Type_4 OR MORE LANES, DIVIDED, dtype: int64"
      ]
     },
     "execution_count": 275,
     "metadata": {},
     "output_type": "execute_result"
    }
   ],
   "source": [
    "all_four_or_more_counts = X.groupby('kmeans')['Roadway Type_4 OR MORE LANES, DIVIDED'].sum()\n",
    "all_four_or_more_counts"
   ]
  },
  {
   "cell_type": "code",
   "execution_count": 276,
   "id": "33e92179-c8e5-4c11-8a0a-8061c1557773",
   "metadata": {},
   "outputs": [
    {
     "data": {
      "text/plain": [
       "np.False_"
      ]
     },
     "execution_count": 276,
     "metadata": {},
     "output_type": "execute_result"
    }
   ],
   "source": [
    "# Statement 4:Numbers of accidents in Cluster 2 during “Morning Rush Hours” are higher than those during “Evening Rush Hours”. false\n",
    "morning_rush_hour_count = cluster2['Time of Day_Morning Rush Hour'].sum()\n",
    "evening_rush_hour_count = cluster2['Time of Day_Evening Rush Hour'].sum()\n",
    "statement4 = (morning_rush_hour_count > evening_rush_hour_count)\n",
    "statement4"
   ]
  },
  {
   "cell_type": "code",
   "execution_count": 277,
   "id": "1bfd65a2-047a-4a96-bfa2-0e3d63ec25c9",
   "metadata": {},
   "outputs": [
    {
     "name": "stdout",
     "output_type": "stream",
     "text": [
      "113 241 817\n"
     ]
    }
   ],
   "source": [
    "# Explanation:\n",
    "morning = cluster2['Time of Day_Morning Rush Hour'].sum()\n",
    "evening = cluster2[\"Time of Day_Evening Rush Hour\"].sum()\n",
    "other = cluster2[\"Time of Day_Other\"].sum()\n",
    "print(morning, evening, other)"
   ]
  },
  {
   "cell_type": "code",
   "execution_count": 278,
   "id": "1734f4e4-9aae-4310-9aa6-42a48ee1cee8",
   "metadata": {},
   "outputs": [
    {
     "data": {
      "text/plain": [
       "np.True_"
      ]
     },
     "execution_count": 278,
     "metadata": {},
     "output_type": "execute_result"
    }
   ],
   "source": [
    "# Statement 5:None of the accidents recorded in Cluster 2 occurred on “US & STATE HIGHWAYS” road class. true\n",
    "\n",
    "us_state_highways_count = cluster2['Road Class_US & STATE HIGHWAYS'].sum()\n",
    "statement5 = (us_state_highways_count == 0)\n",
    "statement5"
   ]
  },
  {
   "cell_type": "code",
   "execution_count": 279,
   "id": "9fdc3af9-f4ca-4dd6-9d56-9555844b7990",
   "metadata": {},
   "outputs": [
    {
     "name": "stdout",
     "output_type": "stream",
     "text": [
      "1 0 1170 0 0\n"
     ]
    }
   ],
   "source": [
    "# Explanation:\n",
    "city_street_count = cluster2['Road Class_CITY STREET'].sum()\n",
    "farm_market = cluster2['Road Class_FARM TO MARKET'].sum()\n",
    "interstate = cluster2['Road Class_INTERSTATE'].sum()\n",
    "non_trafficway = cluster2['Road Class_NON TRAFFICWAY'].sum()\n",
    "US_state = cluster2['Road Class_US & STATE HIGHWAYS'].sum()\n",
    "\n",
    "print(city_street_count, farm_market, interstate, non_trafficway, US_state)\n"
   ]
  },
  {
   "cell_type": "code",
   "execution_count": 280,
   "id": "d965dabc-98fb-40ec-8981-dc9d1ec1aa4d",
   "metadata": {},
   "outputs": [
    {
     "data": {
      "text/plain": [
       "np.True_"
      ]
     },
     "execution_count": 280,
     "metadata": {},
     "output_type": "execute_result"
    }
   ],
   "source": [
    "# Statement 6:Accidents in Cluster 2 are most frequent on Fridays compared to other days in the dataset.\n",
    "\n",
    "friday_accidents = cluster2['Day_Friday'].sum()\n",
    "statement6 = (friday_accidents > max(\n",
    "    cluster2['Day_Monday'].sum(),\n",
    "    cluster2['Day_Tuesday'].sum(),\n",
    "    cluster2['Day_Wednesday'].sum(),\n",
    "    cluster2['Day_Thursday'].sum(),\n",
    "    cluster2['Day_Saturday'].sum(),\n",
    "    cluster2['Day_Sunday'].sum(),\n",
    "))\n",
    "statement6"
   ]
  },
  {
   "cell_type": "code",
   "execution_count": 281,
   "id": "fbd86832-7fc8-46ad-8448-2f867a1c4e6f",
   "metadata": {},
   "outputs": [
    {
     "name": "stdout",
     "output_type": "stream",
     "text": [
      "166\n",
      "178\n",
      "166\n",
      "184\n",
      "215\n",
      "139\n",
      "123\n"
     ]
    }
   ],
   "source": [
    "mon_accidents = cluster2['Day_Monday'].sum()\n",
    "print(mon_accidents)\n",
    "tue_accidents = cluster2['Day_Tuesday'].sum()\n",
    "print(tue_accidents)\n",
    "wed_accidents = cluster2['Day_Wednesday'].sum()\n",
    "print(wed_accidents)\n",
    "thu_accidents = cluster2['Day_Thursday'].sum()\n",
    "print(thu_accidents)\n",
    "friday_accidents = cluster2['Day_Friday'].sum()\n",
    "print(friday_accidents)\n",
    "sat_accidents = cluster2['Day_Saturday'].sum()\n",
    "print(sat_accidents)\n",
    "sun_accidents = cluster2['Day_Sunday'].sum()\n",
    "print(sun_accidents)"
   ]
  },
  {
   "cell_type": "code",
   "execution_count": 283,
   "id": "c447611f-019a-4529-8956-cda9a6e98cce",
   "metadata": {},
   "outputs": [
    {
     "data": {
      "text/plain": [
       "np.True_"
      ]
     },
     "execution_count": 283,
     "metadata": {},
     "output_type": "execute_result"
    }
   ],
   "source": [
    "# Statement 7:Cluster 2 has the highest number of recorded accidents with the collision type “SAME DIRECTION” compared to other clusters.\n",
    "\n",
    "same_direction_count = cluster2['Manner of Collision_SAME DIRECTION'].sum()\n",
    "all_same_direction_counts = X.groupby('kmeans')['Manner of Collision_SAME DIRECTION'].sum()\n",
    "statement7 = same_direction_count == all_same_direction_counts.max()\n",
    "statement7"
   ]
  },
  {
   "cell_type": "code",
   "execution_count": 282,
   "id": "bd1add86-79f2-42de-be92-48e7ea2b5b5c",
   "metadata": {},
   "outputs": [
    {
     "data": {
      "text/plain": [
       "kmeans\n",
       "0    291\n",
       "1    433\n",
       "2    843\n",
       "Name: Manner of Collision_SAME DIRECTION, dtype: int64"
      ]
     },
     "execution_count": 282,
     "metadata": {},
     "output_type": "execute_result"
    }
   ],
   "source": [
    "all_same_direction_counts = X.groupby('kmeans')['Manner of Collision_SAME DIRECTION'].sum()\n",
    "all_same_direction_counts"
   ]
  },
  {
   "cell_type": "code",
   "execution_count": 284,
   "id": "930c7313-4d3e-416c-ae55-f8aee3009d38",
   "metadata": {},
   "outputs": [
    {
     "data": {
      "text/plain": [
       "np.False_"
      ]
     },
     "execution_count": 284,
     "metadata": {},
     "output_type": "execute_result"
    }
   ],
   "source": [
    "# Statement 8:Cluster 2 is the only cluster with accidents recorded on “NON TRAFFICWAY” road class.false\n",
    "non_trafficway_count = cluster2['Road Class_NON TRAFFICWAY'].sum()\n",
    "statement8 = (non_trafficway_count > 0 and (X['Road Class_NON TRAFFICWAY'].sum() == non_trafficway_count))\n",
    "statement8"
   ]
  },
  {
   "cell_type": "code",
   "execution_count": 285,
   "id": "e1c36adc-3ffb-41a7-8ff3-eefa86779a05",
   "metadata": {},
   "outputs": [
    {
     "name": "stdout",
     "output_type": "stream",
     "text": [
      "1 0 1170 0 0\n"
     ]
    }
   ],
   "source": [
    "# Explanation:\n",
    "city_street_count = cluster2['Road Class_CITY STREET'].sum()\n",
    "farm_market = cluster2['Road Class_FARM TO MARKET'].sum()\n",
    "interstate = cluster2['Road Class_INTERSTATE'].sum()\n",
    "non_trafficway = cluster2['Road Class_NON TRAFFICWAY'].sum()\n",
    "US_state = cluster2['Road Class_US & STATE HIGHWAYS'].sum()\n",
    "\n",
    "print(city_street_count, farm_market, interstate, non_trafficway, US_state)\n"
   ]
  },
  {
   "cell_type": "code",
   "execution_count": 286,
   "id": "c4c74c43-15e5-45d2-ae07-d6062e7adedc",
   "metadata": {},
   "outputs": [
    {
     "data": {
      "text/plain": [
       "np.True_"
      ]
     },
     "execution_count": 286,
     "metadata": {},
     "output_type": "execute_result"
    }
   ],
   "source": [
    "# Statement 9:Cluster 2 has the highest average “Adjusted Average Daily Traffic Amount”.\n",
    "avg_adjusted_traffic = cluster2['Adjusted Average Daily Traffic Amount'].mean()\n",
    "all_avg_adjusted_traffic = X.groupby('agg')['Adjusted Average Daily Traffic Amount'].mean()\n",
    "statement9 = avg_adjusted_traffic == all_avg_adjusted_traffic.max()\n",
    "statement9"
   ]
  },
  {
   "cell_type": "code",
   "execution_count": 287,
   "id": "bbf58fc2-848e-4693-b37d-cf0a197bbdd0",
   "metadata": {},
   "outputs": [
    {
     "data": {
      "text/plain": [
       "agg\n",
       "0    12451.162620\n",
       "1    20870.629870\n",
       "2    77965.258753\n",
       "Name: Adjusted Average Daily Traffic Amount, dtype: float64"
      ]
     },
     "execution_count": 287,
     "metadata": {},
     "output_type": "execute_result"
    }
   ],
   "source": [
    "all_avg_adjusted_traffic = X.groupby('agg')['Adjusted Average Daily Traffic Amount'].mean()\n",
    "all_avg_adjusted_traffic"
   ]
  },
  {
   "cell_type": "code",
   "execution_count": 288,
   "id": "06dbbe4f-df55-4de2-8bae-b5275ca38f78",
   "metadata": {},
   "outputs": [
    {
     "data": {
      "text/plain": [
       "np.True_"
      ]
     },
     "execution_count": 288,
     "metadata": {},
     "output_type": "execute_result"
    }
   ],
   "source": [
    "# Statement 10:Cluster 2 has the highest average “Speed Limit” compared to other clusters.\n",
    "avg_speed_limit = cluster2['Speed Limit'].mean()\n",
    "all_avg_speed_limits = X.groupby('agg')['Speed Limit'].mean()\n",
    "statement10 = avg_speed_limit == all_avg_speed_limits.max()\n",
    "statement10"
   ]
  },
  {
   "cell_type": "code",
   "execution_count": 289,
   "id": "35b168db-d1a8-4f59-a137-01ac20eb65b4",
   "metadata": {},
   "outputs": [
    {
     "data": {
      "text/plain": [
       "agg\n",
       "0    31.475350\n",
       "1    44.183673\n",
       "2    61.379163\n",
       "Name: Speed Limit, dtype: float64"
      ]
     },
     "execution_count": 289,
     "metadata": {},
     "output_type": "execute_result"
    }
   ],
   "source": [
    "all_avg_speed_limits = X.groupby('agg')['Speed Limit'].mean()\n",
    "all_avg_speed_limits"
   ]
  },
  {
   "cell_type": "markdown",
   "id": "2959e9cb-bbd9-46d8-b980-bca506d3749e",
   "metadata": {},
   "source": [
    "# Question 16\n",
    "Arrange the KMeans clusters in ascending order based on the number of instances with crash severity \"SUSPECTED SERIOUS INJURY\":"
   ]
  },
  {
   "cell_type": "code",
   "execution_count": 290,
   "id": "0eb23870-9deb-4537-b996-8cc36bf6909f",
   "metadata": {},
   "outputs": [
    {
     "data": {
      "text/plain": [
       "kmeans  Crash Severity\n",
       "2       4                 14\n",
       "0       4                 25\n",
       "1       4                 33\n",
       "Name: count, dtype: int64"
      ]
     },
     "execution_count": 290,
     "metadata": {},
     "output_type": "execute_result"
    }
   ],
   "source": [
    "# As SUSPECTED SERIOUS INJURY is mapped as 4\n",
    "condition = X['Crash Severity'] == 4\n",
    "X[condition].groupby('kmeans')['Crash Severity'].value_counts().sort_values()"
   ]
  },
  {
   "cell_type": "markdown",
   "id": "a8c1713c-b7a5-445e-8f93-cb2a13903943",
   "metadata": {},
   "source": [
    "# Question 17\n",
    "The dataset shows that Cluster 0 has the lowest number of fatal accidents. True or False"
   ]
  },
  {
   "cell_type": "code",
   "execution_count": 237,
   "id": "f944a777-73e4-42f7-9f7c-9553213bbe86",
   "metadata": {},
   "outputs": [
    {
     "name": "stdout",
     "output_type": "stream",
     "text": [
      "Cluster 0 has the lowest number of fatal accidents: False\n"
     ]
    },
    {
     "name": "stderr",
     "output_type": "stream",
     "text": [
      "C:\\Users\\Adithi\\AppData\\Local\\Temp\\ipykernel_8196\\4233202451.py:4: SettingWithCopyWarning: \n",
      "A value is trying to be set on a copy of a slice from a DataFrame.\n",
      "Try using .loc[row_indexer,col_indexer] = value instead\n",
      "\n",
      "See the caveats in the documentation: https://pandas.pydata.org/pandas-docs/stable/user_guide/indexing.html#returning-a-view-versus-a-copy\n",
      "  fatal_accidents['cluster'] = kMeansModel.labels_\n"
     ]
    }
   ],
   "source": [
    "\n",
    "fatal_accidents = df[df['Crash Severity'] == 'FATAL INJURY']\n",
    "\n",
    "\n",
    "fatal_accidents['cluster'] = kMeansModel.labels_\n",
    "\n",
    "\n",
    "fatal_counts = fatal_accidents.groupby('cluster').size()\n",
    "\n",
    "\n",
    "is_lowest = fatal_counts[0] == fatal_counts.min()\n",
    "\n",
    "\n",
    "print(f\"Cluster 0 has the lowest number of fatal accidents: {'True' if is_lowest else 'False'}\")\n"
   ]
  },
  {
   "cell_type": "markdown",
   "id": "e5649be3-f453-4a07-9404-da69db256c3b",
   "metadata": {},
   "source": [
    "# Question 18\n",
    "Generally, clustering algorithms are used to find objects with similar behaviors. Usually, an investigation like what we did in the previous few questions will help us to better understand the similarities among the instances in a cluster. A mathematical function also interprets and validates the consistency within data clusters. This function is called silhouette_score. Please read more about this function at this link: https://scikit-learn.org/stable/modules/generated/sklearn.metrics.silhouette_score.html. We can use the silhouette_score to find the optimum number of clusters in a dataset. Now run this function on the KMeans model with random_state = 0, n_init = ‘auto’ and n_clusters in the range of 2 to 9 clusters. Which number of clusters has the highest silhouette score?"
   ]
  },
  {
   "cell_type": "code",
   "execution_count": 238,
   "id": "63893a65-3c4a-4036-85d2-f40e6138d8e8",
   "metadata": {},
   "outputs": [
    {
     "name": "stdout",
     "output_type": "stream",
     "text": [
      "The number of clusters with the highest silhouette score is: 3 with a score of 0.1739\n"
     ]
    }
   ],
   "source": [
    "from sklearn.metrics import silhouette_score\n",
    "\n",
    "silhouette_scores = []\n",
    "\n",
    "\n",
    "for n_clusters in range(2, 10):\n",
    "    # Initialize and fit the KMeans model\n",
    "    kmeans = KMeans(n_clusters=n_clusters, random_state=0, n_init='auto')\n",
    "    cluster_labels = kmeans.fit_predict(X_scaled)\n",
    "    \n",
    "   \n",
    "    score = silhouette_score(X_scaled, cluster_labels)\n",
    "    silhouette_scores.append((n_clusters, score))\n",
    "\n",
    "\n",
    "high_n_clusters, high_score = max(silhouette_scores, key=lambda x: x[1])\n",
    "\n",
    "\n",
    "print(f\"The number of clusters with the highest silhouette score is: {high_n_clusters} with a score of {high_score:.4f}\")"
   ]
  },
  {
   "cell_type": "markdown",
   "id": "f7d75b45-59e2-479b-a08a-d99146d419c6",
   "metadata": {},
   "source": [
    "# Question 19\n",
    "Enter the silhouette_score of a Kmeans clustering with the number of clusters computed in the previous question. Enter the answer with two digits after the decimal point."
   ]
  },
  {
   "cell_type": "code",
   "execution_count": 239,
   "id": "7bfc1ef7-5b17-471f-80b4-a3332261842c",
   "metadata": {},
   "outputs": [
    {
     "name": "stdout",
     "output_type": "stream",
     "text": [
      "The number of clusters with the highest silhouette score is: 3 with a score of 0.17\n"
     ]
    }
   ],
   "source": [
    "from sklearn.metrics import silhouette_score\n",
    "\n",
    "silhouette_scores = []\n",
    "\n",
    "\n",
    "for n_clusters in range(2, 10):\n",
    "    # Initialize and fit the KMeans model\n",
    "    kmeans = KMeans(n_clusters=n_clusters, random_state=0, n_init='auto')\n",
    "    cluster_labels = kmeans.fit_predict(X_scaled)\n",
    "    \n",
    "   \n",
    "    score = silhouette_score(X_scaled, cluster_labels)\n",
    "    silhouette_scores.append((n_clusters, score))\n",
    "\n",
    "\n",
    "high_n_clusters, high_score = max(silhouette_scores, key=lambda x: x[1])\n",
    "\n",
    "\n",
    "print(f\"The number of clusters with the highest silhouette score is: {high_n_clusters} with a score of {high_score:.2f}\")"
   ]
  },
  {
   "cell_type": "markdown",
   "id": "b9041f96-2d76-4e7d-af43-9e0722e3fd9d",
   "metadata": {},
   "source": [
    "# Question 20\n",
    "Run silhouette_score function on the Agglomerative model with random_state = 0, distance_threshold= None and n_clusters in the range of 2 to the 9 clusters. Which number of clusters has the highest silhouette score?"
   ]
  },
  {
   "cell_type": "code",
   "execution_count": 240,
   "id": "6cb93427-8a82-42f3-a7dc-5a5f5b9ffb1e",
   "metadata": {},
   "outputs": [
    {
     "name": "stdout",
     "output_type": "stream",
     "text": [
      "The number of clusters with the highest silhouette score is: 3 with a score of 0.1577\n"
     ]
    }
   ],
   "source": [
    "silhouette_scores = []\n",
    "\n",
    "\n",
    "for n_clusters in range(2, 10):\n",
    "   \n",
    "    agglomerative_model = AgglomerativeClustering(n_clusters=n_clusters)\n",
    "    cluster_labels = agglomerative_model.fit_predict(X_scaled)\n",
    "    \n",
    "    \n",
    "    score = silhouette_score(X_scaled, cluster_labels)\n",
    "    silhouette_scores.append((n_clusters, score))\n",
    "\n",
    "\n",
    "high_n_clusters, high_score = max(silhouette_scores, key=lambda x: x[1])\n",
    "\n",
    "\n",
    "print(f\"The number of clusters with the highest silhouette score is: {high_n_clusters} with a score of {high_score:.4f}\")"
   ]
  },
  {
   "cell_type": "markdown",
   "id": "0e9f6a1f-13a3-4c60-bc0d-940799c08af1",
   "metadata": {},
   "source": [
    "# Question 21\n",
    "Enter the silhouette_score of a Agglomerative clustering with the number of clusters computed in the previous question. Enter the answer with two digits after the decimal point."
   ]
  },
  {
   "cell_type": "code",
   "execution_count": 241,
   "id": "186a92b2-fa3e-46ad-9c14-3206434f28dc",
   "metadata": {},
   "outputs": [
    {
     "name": "stdout",
     "output_type": "stream",
     "text": [
      "The number of clusters with the highest silhouette score is: 3 with a score of 0.16\n"
     ]
    }
   ],
   "source": [
    "silhouette_scores = []\n",
    "\n",
    "\n",
    "for n_clusters in range(2, 10):\n",
    "   \n",
    "    agglomerative_model = AgglomerativeClustering(n_clusters=n_clusters)\n",
    "    cluster_labels = agglomerative_model.fit_predict(X_scaled)\n",
    "    \n",
    "    \n",
    "    score = silhouette_score(X_scaled, cluster_labels)\n",
    "    silhouette_scores.append((n_clusters, score))\n",
    "\n",
    "\n",
    "high_n_clusters, high_score = max(silhouette_scores, key=lambda x: x[1])\n",
    "\n",
    "\n",
    "print(f\"The number of clusters with the highest silhouette score is: {high_n_clusters} with a score of {high_score:.2f}\")"
   ]
  },
  {
   "cell_type": "markdown",
   "id": "e0ade4a4-35e8-4e37-aedb-b6ae22bfc4ce",
   "metadata": {},
   "source": [
    "# Question 22\n",
    "Upload the .ipynb file you used to answer the questions in this Lab. The file name should follow the following naming convention: Lab2_Lastname_Firstname.ipynb."
   ]
  },
  {
   "cell_type": "code",
   "execution_count": null,
   "id": "26ac628c-4f91-4682-b5c5-23d3f5a53260",
   "metadata": {},
   "outputs": [],
   "source": []
  },
  {
   "cell_type": "code",
   "execution_count": null,
   "id": "9e920b65-35b5-405c-892f-649a05dcca43",
   "metadata": {},
   "outputs": [],
   "source": []
  },
  {
   "cell_type": "code",
   "execution_count": null,
   "id": "4314e7c4-a4a7-4070-9264-6b631636c847",
   "metadata": {},
   "outputs": [],
   "source": []
  }
 ],
 "metadata": {
  "kernelspec": {
   "display_name": "Python 3 (ipykernel)",
   "language": "python",
   "name": "python3"
  },
  "language_info": {
   "codemirror_mode": {
    "name": "ipython",
    "version": 3
   },
   "file_extension": ".py",
   "mimetype": "text/x-python",
   "name": "python",
   "nbconvert_exporter": "python",
   "pygments_lexer": "ipython3",
   "version": "3.12.5"
  }
 },
 "nbformat": 4,
 "nbformat_minor": 5
}
